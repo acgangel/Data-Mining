{
 "cells": [
  {
   "cell_type": "markdown",
   "metadata": {},
   "source": [
    "# 顧客光顧麵包店的消費選擇\n",
    "\n",
    "資料來源: [Kaggle](https://www.kaggle.com/sulmansarwar/transactions-from-a-bakery)\n",
    "\n",
    "這是一份從2016/10/30-2017/04/09的某間麵包店所有顧客的交易資料  \n",
    "我們想從中了解顧客的購買偏好、麵包店的銷售狀況、以及產品之間的關聯性\n",
    "\n",
    "* 欄位說明：  \n",
    "> Date：交易日期  \n",
    "> Time：交易時間  \n",
    "> TransactionID：交易ID  \n",
    "> Item：購買品項\n",
    "\n",
    "---"
   ]
  },
  {
   "cell_type": "markdown",
   "metadata": {},
   "source": [
    "# I 匯入套件"
   ]
  },
  {
   "cell_type": "code",
   "execution_count": 1,
   "metadata": {},
   "outputs": [],
   "source": [
    "import pandas as pd\n",
    "import numpy as np\n",
    "import datetime\n",
    "import seaborn as sns\n",
    "import matplotlib.pyplot as plt\n",
    "from mlxtend.frequent_patterns import apriori\n",
    "from mlxtend.frequent_patterns import association_rules"
   ]
  },
  {
   "cell_type": "markdown",
   "metadata": {},
   "source": [
    "---"
   ]
  },
  {
   "cell_type": "markdown",
   "metadata": {},
   "source": [
    "# II 檢查資料\n",
    "> 匯入資料，觀察資料表 (資料型態、資料時間等等)"
   ]
  },
  {
   "cell_type": "code",
   "execution_count": 3,
   "metadata": {},
   "outputs": [
    {
     "name": "stdout",
     "output_type": "stream",
     "text": [
      "<class 'pandas.core.frame.DataFrame'>\n",
      "RangeIndex: 21293 entries, 0 to 21292\n",
      "Data columns (total 4 columns):\n",
      "Date             21293 non-null object\n",
      "Time             21293 non-null object\n",
      "TransactionID    21293 non-null int64\n",
      "Item             21293 non-null object\n",
      "dtypes: int64(1), object(3)\n",
      "memory usage: 665.5+ KB\n"
     ]
    },
    {
     "data": {
      "text/html": [
       "<div>\n",
       "<style scoped>\n",
       "    .dataframe tbody tr th:only-of-type {\n",
       "        vertical-align: middle;\n",
       "    }\n",
       "\n",
       "    .dataframe tbody tr th {\n",
       "        vertical-align: top;\n",
       "    }\n",
       "\n",
       "    .dataframe thead th {\n",
       "        text-align: right;\n",
       "    }\n",
       "</style>\n",
       "<table border=\"1\" class=\"dataframe\">\n",
       "  <thead>\n",
       "    <tr style=\"text-align: right;\">\n",
       "      <th></th>\n",
       "      <th>Date</th>\n",
       "      <th>Time</th>\n",
       "      <th>TransactionID</th>\n",
       "      <th>Item</th>\n",
       "    </tr>\n",
       "  </thead>\n",
       "  <tbody>\n",
       "    <tr>\n",
       "      <th>0</th>\n",
       "      <td>2016/10/30</td>\n",
       "      <td>09:58:11</td>\n",
       "      <td>1</td>\n",
       "      <td>Bread</td>\n",
       "    </tr>\n",
       "    <tr>\n",
       "      <th>1</th>\n",
       "      <td>2016/10/30</td>\n",
       "      <td>10:05:34</td>\n",
       "      <td>2</td>\n",
       "      <td>Scandinavian</td>\n",
       "    </tr>\n",
       "    <tr>\n",
       "      <th>2</th>\n",
       "      <td>2016/10/30</td>\n",
       "      <td>10:05:34</td>\n",
       "      <td>2</td>\n",
       "      <td>Scandinavian</td>\n",
       "    </tr>\n",
       "    <tr>\n",
       "      <th>3</th>\n",
       "      <td>2016/10/30</td>\n",
       "      <td>10:07:57</td>\n",
       "      <td>3</td>\n",
       "      <td>Hot chocolate</td>\n",
       "    </tr>\n",
       "    <tr>\n",
       "      <th>4</th>\n",
       "      <td>2016/10/30</td>\n",
       "      <td>10:07:57</td>\n",
       "      <td>3</td>\n",
       "      <td>Jam</td>\n",
       "    </tr>\n",
       "  </tbody>\n",
       "</table>\n",
       "</div>"
      ],
      "text/plain": [
       "         Date      Time  TransactionID           Item\n",
       "0  2016/10/30  09:58:11              1          Bread\n",
       "1  2016/10/30  10:05:34              2   Scandinavian\n",
       "2  2016/10/30  10:05:34              2   Scandinavian\n",
       "3  2016/10/30  10:07:57              3  Hot chocolate\n",
       "4  2016/10/30  10:07:57              3            Jam"
      ]
     },
     "metadata": {},
     "output_type": "display_data"
    },
    {
     "data": {
      "text/plain": [
       "(21293, 4)"
      ]
     },
     "metadata": {},
     "output_type": "display_data"
    },
    {
     "data": {
      "text/plain": [
       "None"
      ]
     },
     "metadata": {},
     "output_type": "display_data"
    }
   ],
   "source": [
    "df = pd.read_csv(r'D:\\DataMining\\week04\\BreadBasket.csv')\n",
    "display(df.head(),df.shape,df.info()) #資料型態與數目"
   ]
  },
  {
   "cell_type": "markdown",
   "metadata": {},
   "source": [
    "---"
   ]
  },
  {
   "cell_type": "markdown",
   "metadata": {},
   "source": [
    "# III 資料清整與處理"
   ]
  },
  {
   "cell_type": "markdown",
   "metadata": {},
   "source": [
    "### 處理缺失值或空值\n",
    "> 先將Item內容轉為小寫以利後續的資料處理"
   ]
  },
  {
   "cell_type": "code",
   "execution_count": 4,
   "metadata": {},
   "outputs": [
    {
     "data": {
      "text/plain": [
       "False"
      ]
     },
     "execution_count": 4,
     "metadata": {},
     "output_type": "execute_result"
    }
   ],
   "source": [
    "df['Item'] = df['Item'].str.lower() #全部轉小寫\n",
    "df.isna().values.any() #檢查空值"
   ]
  },
  {
   "cell_type": "markdown",
   "metadata": {},
   "source": [
    "> 沒有空值，檢查Item內是否有奇怪的項目，再予以刪除  \n",
    "> 資料簡介有提到Item欄位可能內含有**none(無交易)** 和 **adjustment(交易調整)** 的值，需要刪除"
   ]
  },
  {
   "cell_type": "code",
   "execution_count": 5,
   "metadata": {},
   "outputs": [
    {
     "data": {
      "text/plain": [
       "array(['bread', 'scandinavian', 'hot chocolate', 'jam', 'cookies',\n",
       "       'muffin', 'coffee', 'pastry', 'medialuna', 'tea', 'none',\n",
       "       'tartine', 'basket', 'mineral water', 'farm house', 'fudge',\n",
       "       'juice', \"ella's kitchen pouches\", 'victorian sponge', 'frittata',\n",
       "       'hearty & seasonal', 'soup', 'pick and mix bowls', 'smoothies',\n",
       "       'cake', 'mighty protein', 'chicken sand', 'coke',\n",
       "       'my-5 fruit shoot', 'focaccia', 'sandwich', 'alfajores', 'eggs',\n",
       "       'brownie', 'dulce de leche', 'honey', 'the bart', 'granola',\n",
       "       'fairy doors', 'empanadas', 'keeping it local', 'art tray',\n",
       "       'bowl nic pitt', 'bread pudding', 'adjustment', 'truffles',\n",
       "       'chimichurri oil', 'bacon', 'spread', 'kids biscuit', 'siblings',\n",
       "       'caramel bites', 'jammie dodgers', 'tiffin', 'olum & polenta',\n",
       "       'polenta', 'the nomad', 'hack the stack', 'bakewell',\n",
       "       'lemon and coconut', 'toast', 'scone', 'crepes', 'vegan mincepie',\n",
       "       'bare popcorn', 'muesli', 'crisps', 'pintxos', 'gingerbread syrup',\n",
       "       'panatone', 'brioche and salami', 'afternoon with the baker',\n",
       "       'salad', 'chicken stew', 'spanish brunch',\n",
       "       'raspberry shortbread sandwich', 'extra salami or feta',\n",
       "       'duck egg', 'baguette', \"valentine's card\", 'tshirt',\n",
       "       'vegan feast', 'postcard', 'nomad bag', 'chocolates',\n",
       "       'coffee granules ', 'drinking chocolate spoons ',\n",
       "       'christmas common', 'argentina night', 'half slice monster ',\n",
       "       'gift voucher', 'cherry me dried fruit', 'mortimer', 'raw bars',\n",
       "       'tacos/fajita'], dtype=object)"
      ]
     },
     "execution_count": 5,
     "metadata": {},
     "output_type": "execute_result"
    }
   ],
   "source": [
    "df['Item'].unique() #是否有奇怪的交易項目"
   ]
  },
  {
   "cell_type": "code",
   "execution_count": 6,
   "metadata": {},
   "outputs": [],
   "source": [
    "df = df.drop(df[df.Item == 'none'].index) #丟掉空交易\n",
    "df = df.drop(df[df.Item == 'adjustment'].index) #丟掉調整交易"
   ]
  },
  {
   "cell_type": "code",
   "execution_count": 8,
   "metadata": {},
   "outputs": [
    {
     "name": "stdout",
     "output_type": "stream",
     "text": [
      "Item的種類數目： 93 \n",
      "資料總列數： 20506 \n",
      "資料總欄數： 4\n"
     ]
    }
   ],
   "source": [
    "count = df['Item'].unique()\n",
    "print(\"Item的種類數目：\",len(count),\"\\n資料總列數：\",df.shape[0],\"\\n資料總欄數：\",df.shape[1]) #檢閱資料"
   ]
  },
  {
   "cell_type": "markdown",
   "metadata": {},
   "source": [
    "---"
   ]
  },
  {
   "cell_type": "markdown",
   "metadata": {},
   "source": [
    "### 處理離異值\n",
    "> 檢查是否有不合理的數值  \n",
    "> 基本假設店家有固定的營業時間，非營業時間的交易我們不考量在內"
   ]
  },
  {
   "cell_type": "markdown",
   "metadata": {},
   "source": [
    "### 先依需要將資料欄位拆解或合併"
   ]
  },
  {
   "cell_type": "code",
   "execution_count": 9,
   "metadata": {},
   "outputs": [
    {
     "data": {
      "text/html": [
       "<div>\n",
       "<style scoped>\n",
       "    .dataframe tbody tr th:only-of-type {\n",
       "        vertical-align: middle;\n",
       "    }\n",
       "\n",
       "    .dataframe tbody tr th {\n",
       "        vertical-align: top;\n",
       "    }\n",
       "\n",
       "    .dataframe thead th {\n",
       "        text-align: right;\n",
       "    }\n",
       "</style>\n",
       "<table border=\"1\" class=\"dataframe\">\n",
       "  <thead>\n",
       "    <tr style=\"text-align: right;\">\n",
       "      <th></th>\n",
       "      <th>Date</th>\n",
       "      <th>Time</th>\n",
       "      <th>TransactionID</th>\n",
       "      <th>Item</th>\n",
       "    </tr>\n",
       "  </thead>\n",
       "  <tbody>\n",
       "    <tr>\n",
       "      <th>0</th>\n",
       "      <td>2016/10/30</td>\n",
       "      <td>09:58:11</td>\n",
       "      <td>1</td>\n",
       "      <td>bread</td>\n",
       "    </tr>\n",
       "    <tr>\n",
       "      <th>1</th>\n",
       "      <td>2016/10/30</td>\n",
       "      <td>10:05:34</td>\n",
       "      <td>2</td>\n",
       "      <td>scandinavian</td>\n",
       "    </tr>\n",
       "    <tr>\n",
       "      <th>2</th>\n",
       "      <td>2016/10/30</td>\n",
       "      <td>10:05:34</td>\n",
       "      <td>2</td>\n",
       "      <td>scandinavian</td>\n",
       "    </tr>\n",
       "  </tbody>\n",
       "</table>\n",
       "</div>"
      ],
      "text/plain": [
       "         Date      Time  TransactionID          Item\n",
       "0  2016/10/30  09:58:11              1         bread\n",
       "1  2016/10/30  10:05:34              2  scandinavian\n",
       "2  2016/10/30  10:05:34              2  scandinavian"
      ]
     },
     "execution_count": 9,
     "metadata": {},
     "output_type": "execute_result"
    }
   ],
   "source": [
    "df.head(3) "
   ]
  },
  {
   "cell_type": "markdown",
   "metadata": {},
   "source": [
    "> 將兩欄時間資料合併後轉為時間資料型態，再依**年、月、日、週、星期、小時**拆分，方便後續運算"
   ]
  },
  {
   "cell_type": "code",
   "execution_count": 16,
   "metadata": {},
   "outputs": [],
   "source": [
    "df['Datetime'] = pd.to_datetime(df['Date']+\" \"+df['Time'])\n",
    "df['Year'] = df['Datetime'].dt.year #轉成年\n",
    "df['Month'] = df['Datetime'].dt.month #轉成月\n",
    "df['Day'] = df['Datetime'].dt.day #轉成日\n",
    "df['Week'] = df['Datetime'].dt.week #轉成週\n",
    "df['Weekday'] = df['Datetime'].dt.weekday #轉成星期\n",
    "df['Hours'] = df['Datetime'].dt.hour #轉成小時"
   ]
  },
  {
   "cell_type": "code",
   "execution_count": 17,
   "metadata": {},
   "outputs": [
    {
     "data": {
      "text/html": [
       "<div>\n",
       "<style scoped>\n",
       "    .dataframe tbody tr th:only-of-type {\n",
       "        vertical-align: middle;\n",
       "    }\n",
       "\n",
       "    .dataframe tbody tr th {\n",
       "        vertical-align: top;\n",
       "    }\n",
       "\n",
       "    .dataframe thead th {\n",
       "        text-align: right;\n",
       "    }\n",
       "</style>\n",
       "<table border=\"1\" class=\"dataframe\">\n",
       "  <thead>\n",
       "    <tr style=\"text-align: right;\">\n",
       "      <th></th>\n",
       "      <th>Datetime</th>\n",
       "      <th>TransactionID</th>\n",
       "      <th>Item</th>\n",
       "      <th>Date</th>\n",
       "      <th>Time</th>\n",
       "      <th>Year</th>\n",
       "      <th>Month</th>\n",
       "      <th>Day</th>\n",
       "      <th>Week</th>\n",
       "      <th>Weekday</th>\n",
       "      <th>Hours</th>\n",
       "    </tr>\n",
       "  </thead>\n",
       "  <tbody>\n",
       "    <tr>\n",
       "      <th>0</th>\n",
       "      <td>2016-10-30 09:58:11</td>\n",
       "      <td>1</td>\n",
       "      <td>bread</td>\n",
       "      <td>2016/10/30</td>\n",
       "      <td>09:58:11</td>\n",
       "      <td>2016</td>\n",
       "      <td>10</td>\n",
       "      <td>30</td>\n",
       "      <td>43</td>\n",
       "      <td>6</td>\n",
       "      <td>9</td>\n",
       "    </tr>\n",
       "    <tr>\n",
       "      <th>1</th>\n",
       "      <td>2016-10-30 10:05:34</td>\n",
       "      <td>2</td>\n",
       "      <td>scandinavian</td>\n",
       "      <td>2016/10/30</td>\n",
       "      <td>10:05:34</td>\n",
       "      <td>2016</td>\n",
       "      <td>10</td>\n",
       "      <td>30</td>\n",
       "      <td>43</td>\n",
       "      <td>6</td>\n",
       "      <td>10</td>\n",
       "    </tr>\n",
       "    <tr>\n",
       "      <th>2</th>\n",
       "      <td>2016-10-30 10:05:34</td>\n",
       "      <td>2</td>\n",
       "      <td>scandinavian</td>\n",
       "      <td>2016/10/30</td>\n",
       "      <td>10:05:34</td>\n",
       "      <td>2016</td>\n",
       "      <td>10</td>\n",
       "      <td>30</td>\n",
       "      <td>43</td>\n",
       "      <td>6</td>\n",
       "      <td>10</td>\n",
       "    </tr>\n",
       "    <tr>\n",
       "      <th>3</th>\n",
       "      <td>2016-10-30 10:07:57</td>\n",
       "      <td>3</td>\n",
       "      <td>hot chocolate</td>\n",
       "      <td>2016/10/30</td>\n",
       "      <td>10:07:57</td>\n",
       "      <td>2016</td>\n",
       "      <td>10</td>\n",
       "      <td>30</td>\n",
       "      <td>43</td>\n",
       "      <td>6</td>\n",
       "      <td>10</td>\n",
       "    </tr>\n",
       "    <tr>\n",
       "      <th>4</th>\n",
       "      <td>2016-10-30 10:07:57</td>\n",
       "      <td>3</td>\n",
       "      <td>jam</td>\n",
       "      <td>2016/10/30</td>\n",
       "      <td>10:07:57</td>\n",
       "      <td>2016</td>\n",
       "      <td>10</td>\n",
       "      <td>30</td>\n",
       "      <td>43</td>\n",
       "      <td>6</td>\n",
       "      <td>10</td>\n",
       "    </tr>\n",
       "  </tbody>\n",
       "</table>\n",
       "</div>"
      ],
      "text/plain": [
       "             Datetime  TransactionID           Item        Date      Time  \\\n",
       "0 2016-10-30 09:58:11              1          bread  2016/10/30  09:58:11   \n",
       "1 2016-10-30 10:05:34              2   scandinavian  2016/10/30  10:05:34   \n",
       "2 2016-10-30 10:05:34              2   scandinavian  2016/10/30  10:05:34   \n",
       "3 2016-10-30 10:07:57              3  hot chocolate  2016/10/30  10:07:57   \n",
       "4 2016-10-30 10:07:57              3            jam  2016/10/30  10:07:57   \n",
       "\n",
       "   Year  Month  Day  Week  Weekday  Hours  \n",
       "0  2016     10   30    43        6      9  \n",
       "1  2016     10   30    43        6     10  \n",
       "2  2016     10   30    43        6     10  \n",
       "3  2016     10   30    43        6     10  \n",
       "4  2016     10   30    43        6     10  "
      ]
     },
     "execution_count": 17,
     "metadata": {},
     "output_type": "execute_result"
    }
   ],
   "source": [
    "df=df[['Datetime','TransactionID','Item','Date','Time','Year','Month','Day','Week','Weekday','Hours']]\n",
    "df.head(5)"
   ]
  },
  {
   "cell_type": "markdown",
   "metadata": {},
   "source": [
    "### 擷取所需的時間區間"
   ]
  },
  {
   "cell_type": "markdown",
   "metadata": {},
   "source": [
    "> 觀察最後的交易時間"
   ]
  },
  {
   "cell_type": "code",
   "execution_count": 18,
   "metadata": {},
   "outputs": [
    {
     "data": {
      "text/html": [
       "<div>\n",
       "<style scoped>\n",
       "    .dataframe tbody tr th:only-of-type {\n",
       "        vertical-align: middle;\n",
       "    }\n",
       "\n",
       "    .dataframe tbody tr th {\n",
       "        vertical-align: top;\n",
       "    }\n",
       "\n",
       "    .dataframe thead th {\n",
       "        text-align: right;\n",
       "    }\n",
       "</style>\n",
       "<table border=\"1\" class=\"dataframe\">\n",
       "  <thead>\n",
       "    <tr style=\"text-align: right;\">\n",
       "      <th></th>\n",
       "      <th>Datetime</th>\n",
       "      <th>TransactionID</th>\n",
       "      <th>Item</th>\n",
       "      <th>Date</th>\n",
       "      <th>Time</th>\n",
       "      <th>Year</th>\n",
       "      <th>Month</th>\n",
       "      <th>Day</th>\n",
       "      <th>Week</th>\n",
       "      <th>Weekday</th>\n",
       "      <th>Hours</th>\n",
       "    </tr>\n",
       "  </thead>\n",
       "  <tbody>\n",
       "    <tr>\n",
       "      <th>21290</th>\n",
       "      <td>2017-04-09 14:57:06</td>\n",
       "      <td>9683</td>\n",
       "      <td>coffee</td>\n",
       "      <td>2017/4/9</td>\n",
       "      <td>14:57:06</td>\n",
       "      <td>2017</td>\n",
       "      <td>4</td>\n",
       "      <td>9</td>\n",
       "      <td>14</td>\n",
       "      <td>6</td>\n",
       "      <td>14</td>\n",
       "    </tr>\n",
       "    <tr>\n",
       "      <th>21291</th>\n",
       "      <td>2017-04-09 14:57:06</td>\n",
       "      <td>9683</td>\n",
       "      <td>pastry</td>\n",
       "      <td>2017/4/9</td>\n",
       "      <td>14:57:06</td>\n",
       "      <td>2017</td>\n",
       "      <td>4</td>\n",
       "      <td>9</td>\n",
       "      <td>14</td>\n",
       "      <td>6</td>\n",
       "      <td>14</td>\n",
       "    </tr>\n",
       "    <tr>\n",
       "      <th>21292</th>\n",
       "      <td>2017-04-09 15:04:24</td>\n",
       "      <td>9684</td>\n",
       "      <td>smoothies</td>\n",
       "      <td>2017/4/9</td>\n",
       "      <td>15:04:24</td>\n",
       "      <td>2017</td>\n",
       "      <td>4</td>\n",
       "      <td>9</td>\n",
       "      <td>14</td>\n",
       "      <td>6</td>\n",
       "      <td>15</td>\n",
       "    </tr>\n",
       "  </tbody>\n",
       "</table>\n",
       "</div>"
      ],
      "text/plain": [
       "                 Datetime  TransactionID       Item      Date      Time  Year  \\\n",
       "21290 2017-04-09 14:57:06           9683     coffee  2017/4/9  14:57:06  2017   \n",
       "21291 2017-04-09 14:57:06           9683     pastry  2017/4/9  14:57:06  2017   \n",
       "21292 2017-04-09 15:04:24           9684  smoothies  2017/4/9  15:04:24  2017   \n",
       "\n",
       "       Month  Day  Week  Weekday  Hours  \n",
       "21290      4    9    14        6     14  \n",
       "21291      4    9    14        6     14  \n",
       "21292      4    9    14        6     15  "
      ]
     },
     "execution_count": 18,
     "metadata": {},
     "output_type": "execute_result"
    }
   ],
   "source": [
    "df.tail(3)"
   ]
  },
  {
   "cell_type": "markdown",
   "metadata": {},
   "source": [
    "> 資料時間：2016/10/30 - 2017/4/9  \n",
    "> 我們希望獲取的資料能夠至少涵蓋完整的月分，故僅取 2016/11/1 - 2017/3/31"
   ]
  },
  {
   "cell_type": "code",
   "execution_count": 19,
   "metadata": {},
   "outputs": [
    {
     "data": {
      "text/html": [
       "<div>\n",
       "<style scoped>\n",
       "    .dataframe tbody tr th:only-of-type {\n",
       "        vertical-align: middle;\n",
       "    }\n",
       "\n",
       "    .dataframe tbody tr th {\n",
       "        vertical-align: top;\n",
       "    }\n",
       "\n",
       "    .dataframe thead th {\n",
       "        text-align: right;\n",
       "    }\n",
       "</style>\n",
       "<table border=\"1\" class=\"dataframe\">\n",
       "  <thead>\n",
       "    <tr style=\"text-align: right;\">\n",
       "      <th></th>\n",
       "      <th>Datetime</th>\n",
       "      <th>TransactionID</th>\n",
       "      <th>Item</th>\n",
       "      <th>Date</th>\n",
       "      <th>Time</th>\n",
       "      <th>Year</th>\n",
       "      <th>Month</th>\n",
       "      <th>Day</th>\n",
       "      <th>Week</th>\n",
       "      <th>Weekday</th>\n",
       "      <th>Hours</th>\n",
       "    </tr>\n",
       "  </thead>\n",
       "  <tbody>\n",
       "    <tr>\n",
       "      <th>385</th>\n",
       "      <td>2016-11-01 07:51:20</td>\n",
       "      <td>178</td>\n",
       "      <td>coffee</td>\n",
       "      <td>2016/11/1</td>\n",
       "      <td>07:51:20</td>\n",
       "      <td>2016</td>\n",
       "      <td>11</td>\n",
       "      <td>1</td>\n",
       "      <td>44</td>\n",
       "      <td>1</td>\n",
       "      <td>7</td>\n",
       "    </tr>\n",
       "  </tbody>\n",
       "</table>\n",
       "</div>"
      ],
      "text/plain": [
       "               Datetime  TransactionID    Item       Date      Time  Year  \\\n",
       "385 2016-11-01 07:51:20            178  coffee  2016/11/1  07:51:20  2016   \n",
       "\n",
       "     Month  Day  Week  Weekday  Hours  \n",
       "385     11    1    44        1      7  "
      ]
     },
     "metadata": {},
     "output_type": "display_data"
    },
    {
     "data": {
      "text/html": [
       "<div>\n",
       "<style scoped>\n",
       "    .dataframe tbody tr th:only-of-type {\n",
       "        vertical-align: middle;\n",
       "    }\n",
       "\n",
       "    .dataframe tbody tr th {\n",
       "        vertical-align: top;\n",
       "    }\n",
       "\n",
       "    .dataframe thead th {\n",
       "        text-align: right;\n",
       "    }\n",
       "</style>\n",
       "<table border=\"1\" class=\"dataframe\">\n",
       "  <thead>\n",
       "    <tr style=\"text-align: right;\">\n",
       "      <th></th>\n",
       "      <th>Datetime</th>\n",
       "      <th>TransactionID</th>\n",
       "      <th>Item</th>\n",
       "      <th>Date</th>\n",
       "      <th>Time</th>\n",
       "      <th>Year</th>\n",
       "      <th>Month</th>\n",
       "      <th>Day</th>\n",
       "      <th>Week</th>\n",
       "      <th>Weekday</th>\n",
       "      <th>Hours</th>\n",
       "    </tr>\n",
       "  </thead>\n",
       "  <tbody>\n",
       "    <tr>\n",
       "      <th>20101</th>\n",
       "      <td>2017-03-31 17:23:57</td>\n",
       "      <td>9158</td>\n",
       "      <td>juice</td>\n",
       "      <td>2017/3/31</td>\n",
       "      <td>17:23:57</td>\n",
       "      <td>2017</td>\n",
       "      <td>3</td>\n",
       "      <td>31</td>\n",
       "      <td>13</td>\n",
       "      <td>4</td>\n",
       "      <td>17</td>\n",
       "    </tr>\n",
       "  </tbody>\n",
       "</table>\n",
       "</div>"
      ],
      "text/plain": [
       "                 Datetime  TransactionID   Item       Date      Time  Year  \\\n",
       "20101 2017-03-31 17:23:57           9158  juice  2017/3/31  17:23:57  2017   \n",
       "\n",
       "       Month  Day  Week  Weekday  Hours  \n",
       "20101      3   31    13        4     17  "
      ]
     },
     "metadata": {},
     "output_type": "display_data"
    }
   ],
   "source": [
    "cs1 = df[(df.Year == 2016)&(df.Month >= 11)] # 限制式1: 時間開始於 2016/11/1\n",
    "cs2 = df[(df.Year == 2017)&(df.Month < 4)] # 限制式2: 時間結束於 2017/3/31\n",
    "display(df[(df.Year == 2016)&(df.Month >= 11)].head(1),df[(df.Year == 2017)&(df.Month < 4)].tail(1))"
   ]
  },
  {
   "cell_type": "code",
   "execution_count": 26,
   "metadata": {},
   "outputs": [
    {
     "name": "stdout",
     "output_type": "stream",
     "text": [
      "資料總數： 18980 \n",
      "資料欄數： 11\n"
     ]
    }
   ],
   "source": [
    "df = cs = pd.concat([cs1,cs2], axis = 0, ignore_index=True) #將合併後的限制式套入原本的資料\n",
    "print(\"資料總數：\",df.shape[0],\"\\n資料欄數：\",df.shape[1]) "
   ]
  },
  {
   "cell_type": "markdown",
   "metadata": {},
   "source": [
    "### 刪除離異值"
   ]
  },
  {
   "cell_type": "code",
   "execution_count": 29,
   "metadata": {},
   "outputs": [
    {
     "data": {
      "text/html": [
       "<div>\n",
       "<style scoped>\n",
       "    .dataframe tbody tr th:only-of-type {\n",
       "        vertical-align: middle;\n",
       "    }\n",
       "\n",
       "    .dataframe tbody tr th {\n",
       "        vertical-align: top;\n",
       "    }\n",
       "\n",
       "    .dataframe thead th {\n",
       "        text-align: right;\n",
       "    }\n",
       "</style>\n",
       "<table border=\"1\" class=\"dataframe\">\n",
       "  <thead>\n",
       "    <tr style=\"text-align: right;\">\n",
       "      <th></th>\n",
       "      <th>TransactionID</th>\n",
       "      <th>Year</th>\n",
       "      <th>Month</th>\n",
       "      <th>Day</th>\n",
       "      <th>Week</th>\n",
       "      <th>Weekday</th>\n",
       "      <th>Hours</th>\n",
       "    </tr>\n",
       "  </thead>\n",
       "  <tbody>\n",
       "    <tr>\n",
       "      <th>count</th>\n",
       "      <td>18980.000000</td>\n",
       "      <td>18980.000000</td>\n",
       "      <td>18980.000000</td>\n",
       "      <td>18980.000000</td>\n",
       "      <td>18980.000000</td>\n",
       "      <td>18980.000000</td>\n",
       "      <td>18980.000000</td>\n",
       "    </tr>\n",
       "    <tr>\n",
       "      <th>mean</th>\n",
       "      <td>4800.867176</td>\n",
       "      <td>2016.590411</td>\n",
       "      <td>5.893203</td>\n",
       "      <td>15.426238</td>\n",
       "      <td>23.586038</td>\n",
       "      <td>3.366017</td>\n",
       "      <td>12.273551</td>\n",
       "    </tr>\n",
       "    <tr>\n",
       "      <th>std</th>\n",
       "      <td>2597.872564</td>\n",
       "      <td>0.491771</td>\n",
       "      <td>4.663471</td>\n",
       "      <td>8.644734</td>\n",
       "      <td>20.138781</td>\n",
       "      <td>1.939659</td>\n",
       "      <td>2.328220</td>\n",
       "    </tr>\n",
       "    <tr>\n",
       "      <th>min</th>\n",
       "      <td>178.000000</td>\n",
       "      <td>2016.000000</td>\n",
       "      <td>1.000000</td>\n",
       "      <td>1.000000</td>\n",
       "      <td>1.000000</td>\n",
       "      <td>0.000000</td>\n",
       "      <td>1.000000</td>\n",
       "    </tr>\n",
       "    <tr>\n",
       "      <th>25%</th>\n",
       "      <td>2547.000000</td>\n",
       "      <td>2016.000000</td>\n",
       "      <td>2.000000</td>\n",
       "      <td>8.000000</td>\n",
       "      <td>6.000000</td>\n",
       "      <td>2.000000</td>\n",
       "      <td>10.000000</td>\n",
       "    </tr>\n",
       "    <tr>\n",
       "      <th>50%</th>\n",
       "      <td>4943.000000</td>\n",
       "      <td>2017.000000</td>\n",
       "      <td>3.000000</td>\n",
       "      <td>15.000000</td>\n",
       "      <td>11.000000</td>\n",
       "      <td>4.000000</td>\n",
       "      <td>12.000000</td>\n",
       "    </tr>\n",
       "    <tr>\n",
       "      <th>75%</th>\n",
       "      <td>7034.000000</td>\n",
       "      <td>2017.000000</td>\n",
       "      <td>11.000000</td>\n",
       "      <td>23.000000</td>\n",
       "      <td>46.000000</td>\n",
       "      <td>5.000000</td>\n",
       "      <td>14.000000</td>\n",
       "    </tr>\n",
       "    <tr>\n",
       "      <th>max</th>\n",
       "      <td>9158.000000</td>\n",
       "      <td>2017.000000</td>\n",
       "      <td>12.000000</td>\n",
       "      <td>31.000000</td>\n",
       "      <td>52.000000</td>\n",
       "      <td>6.000000</td>\n",
       "      <td>23.000000</td>\n",
       "    </tr>\n",
       "  </tbody>\n",
       "</table>\n",
       "</div>"
      ],
      "text/plain": [
       "       TransactionID          Year         Month           Day          Week  \\\n",
       "count   18980.000000  18980.000000  18980.000000  18980.000000  18980.000000   \n",
       "mean     4800.867176   2016.590411      5.893203     15.426238     23.586038   \n",
       "std      2597.872564      0.491771      4.663471      8.644734     20.138781   \n",
       "min       178.000000   2016.000000      1.000000      1.000000      1.000000   \n",
       "25%      2547.000000   2016.000000      2.000000      8.000000      6.000000   \n",
       "50%      4943.000000   2017.000000      3.000000     15.000000     11.000000   \n",
       "75%      7034.000000   2017.000000     11.000000     23.000000     46.000000   \n",
       "max      9158.000000   2017.000000     12.000000     31.000000     52.000000   \n",
       "\n",
       "            Weekday         Hours  \n",
       "count  18980.000000  18980.000000  \n",
       "mean       3.366017     12.273551  \n",
       "std        1.939659      2.328220  \n",
       "min        0.000000      1.000000  \n",
       "25%        2.000000     10.000000  \n",
       "50%        4.000000     12.000000  \n",
       "75%        5.000000     14.000000  \n",
       "max        6.000000     23.000000  "
      ]
     },
     "execution_count": 29,
     "metadata": {},
     "output_type": "execute_result"
    }
   ],
   "source": [
    "df.describe()"
   ]
  },
  {
   "cell_type": "code",
   "execution_count": 30,
   "metadata": {},
   "outputs": [
    {
     "data": {
      "image/png": "[encoded data removed]",
      "text/plain": [
       "<matplotlib.figure.Figure at 0x1a3dd9487b8>"
      ]
     },
     "metadata": {
      "needs_background": "light"
     },
     "output_type": "display_data"
    }
   ],
   "source": [
    "plt.scatter(df['Weekday'],df['Hours'])\n",
    "plt.xlabel(\"Weekday\")\n",
    "plt.ylabel(\"Hours\")\n",
    "plt.title(\"Scatter Plot of Transcation Occurs Time (during a day in a week)\")\n",
    "plt.show()"
   ]
  },
  {
   "cell_type": "markdown",
   "metadata": {},
   "source": [
    "> 發現有凌晨1點與晚上11點的交易各1筆，刪除兩個資料點"
   ]
  },
  {
   "cell_type": "code",
   "execution_count": 31,
   "metadata": {},
   "outputs": [
    {
     "data": {
      "text/html": [
       "<div>\n",
       "<style scoped>\n",
       "    .dataframe tbody tr th:only-of-type {\n",
       "        vertical-align: middle;\n",
       "    }\n",
       "\n",
       "    .dataframe tbody tr th {\n",
       "        vertical-align: top;\n",
       "    }\n",
       "\n",
       "    .dataframe thead th {\n",
       "        text-align: right;\n",
       "    }\n",
       "</style>\n",
       "<table border=\"1\" class=\"dataframe\">\n",
       "  <thead>\n",
       "    <tr style=\"text-align: right;\">\n",
       "      <th></th>\n",
       "      <th>TransactionID</th>\n",
       "      <th>Year</th>\n",
       "      <th>Month</th>\n",
       "      <th>Day</th>\n",
       "      <th>Week</th>\n",
       "      <th>Weekday</th>\n",
       "      <th>Hours</th>\n",
       "    </tr>\n",
       "  </thead>\n",
       "  <tbody>\n",
       "    <tr>\n",
       "      <th>count</th>\n",
       "      <td>18977.000000</td>\n",
       "      <td>18977.000000</td>\n",
       "      <td>18977.000000</td>\n",
       "      <td>18977.000000</td>\n",
       "      <td>18977.000000</td>\n",
       "      <td>18977.000000</td>\n",
       "      <td>18977.000000</td>\n",
       "    </tr>\n",
       "    <tr>\n",
       "      <th>mean</th>\n",
       "      <td>4800.716235</td>\n",
       "      <td>2016.590346</td>\n",
       "      <td>5.893872</td>\n",
       "      <td>15.427149</td>\n",
       "      <td>23.586289</td>\n",
       "      <td>3.366127</td>\n",
       "      <td>12.273015</td>\n",
       "    </tr>\n",
       "    <tr>\n",
       "      <th>std</th>\n",
       "      <td>2598.007961</td>\n",
       "      <td>0.491783</td>\n",
       "      <td>4.663533</td>\n",
       "      <td>8.644771</td>\n",
       "      <td>20.138597</td>\n",
       "      <td>1.939566</td>\n",
       "      <td>2.324358</td>\n",
       "    </tr>\n",
       "    <tr>\n",
       "      <th>min</th>\n",
       "      <td>178.000000</td>\n",
       "      <td>2016.000000</td>\n",
       "      <td>1.000000</td>\n",
       "      <td>1.000000</td>\n",
       "      <td>1.000000</td>\n",
       "      <td>0.000000</td>\n",
       "      <td>7.000000</td>\n",
       "    </tr>\n",
       "    <tr>\n",
       "      <th>25%</th>\n",
       "      <td>2547.000000</td>\n",
       "      <td>2016.000000</td>\n",
       "      <td>2.000000</td>\n",
       "      <td>8.000000</td>\n",
       "      <td>6.000000</td>\n",
       "      <td>2.000000</td>\n",
       "      <td>10.000000</td>\n",
       "    </tr>\n",
       "    <tr>\n",
       "      <th>50%</th>\n",
       "      <td>4943.000000</td>\n",
       "      <td>2017.000000</td>\n",
       "      <td>3.000000</td>\n",
       "      <td>15.000000</td>\n",
       "      <td>11.000000</td>\n",
       "      <td>4.000000</td>\n",
       "      <td>12.000000</td>\n",
       "    </tr>\n",
       "    <tr>\n",
       "      <th>75%</th>\n",
       "      <td>7034.000000</td>\n",
       "      <td>2017.000000</td>\n",
       "      <td>11.000000</td>\n",
       "      <td>23.000000</td>\n",
       "      <td>46.000000</td>\n",
       "      <td>5.000000</td>\n",
       "      <td>14.000000</td>\n",
       "    </tr>\n",
       "    <tr>\n",
       "      <th>max</th>\n",
       "      <td>9158.000000</td>\n",
       "      <td>2017.000000</td>\n",
       "      <td>12.000000</td>\n",
       "      <td>31.000000</td>\n",
       "      <td>52.000000</td>\n",
       "      <td>6.000000</td>\n",
       "      <td>21.000000</td>\n",
       "    </tr>\n",
       "  </tbody>\n",
       "</table>\n",
       "</div>"
      ],
      "text/plain": [
       "       TransactionID          Year         Month           Day          Week  \\\n",
       "count   18977.000000  18977.000000  18977.000000  18977.000000  18977.000000   \n",
       "mean     4800.716235   2016.590346      5.893872     15.427149     23.586289   \n",
       "std      2598.007961      0.491783      4.663533      8.644771     20.138597   \n",
       "min       178.000000   2016.000000      1.000000      1.000000      1.000000   \n",
       "25%      2547.000000   2016.000000      2.000000      8.000000      6.000000   \n",
       "50%      4943.000000   2017.000000      3.000000     15.000000     11.000000   \n",
       "75%      7034.000000   2017.000000     11.000000     23.000000     46.000000   \n",
       "max      9158.000000   2017.000000     12.000000     31.000000     52.000000   \n",
       "\n",
       "            Weekday         Hours  \n",
       "count  18977.000000  18977.000000  \n",
       "mean       3.366127     12.273015  \n",
       "std        1.939566      2.324358  \n",
       "min        0.000000      7.000000  \n",
       "25%        2.000000     10.000000  \n",
       "50%        4.000000     12.000000  \n",
       "75%        5.000000     14.000000  \n",
       "max        6.000000     21.000000  "
      ]
     },
     "execution_count": 31,
     "metadata": {},
     "output_type": "execute_result"
    }
   ],
   "source": [
    "df = df.drop(df[df.Hours == 23].index)\n",
    "df = df.drop(df[df.Hours == 1].index)\n",
    "df.describe()"
   ]
  },
  {
   "cell_type": "code",
   "execution_count": 32,
   "metadata": {},
   "outputs": [
    {
     "name": "stdout",
     "output_type": "stream",
     "text": [
      "資料總數： 18977 \n",
      "資料欄數： 11\n"
     ]
    }
   ],
   "source": [
    "print(\"資料總數：\",df.shape[0],\"\\n資料欄數：\",df.shape[1]) "
   ]
  },
  {
   "cell_type": "markdown",
   "metadata": {},
   "source": [
    "---"
   ]
  },
  {
   "cell_type": "markdown",
   "metadata": {},
   "source": [
    "# IV 資料視覺化"
   ]
  },
  {
   "cell_type": "markdown",
   "metadata": {},
   "source": [
    "### 顧客在麵包店一次大概購買多少物品\n",
    "> 平均單筆訂單的消費數量"
   ]
  },
  {
   "cell_type": "code",
   "execution_count": 33,
   "metadata": {},
   "outputs": [
    {
     "data": {
      "text/html": [
       "<div>\n",
       "<style scoped>\n",
       "    .dataframe tbody tr th:only-of-type {\n",
       "        vertical-align: middle;\n",
       "    }\n",
       "\n",
       "    .dataframe tbody tr th {\n",
       "        vertical-align: top;\n",
       "    }\n",
       "\n",
       "    .dataframe thead th {\n",
       "        text-align: right;\n",
       "    }\n",
       "</style>\n",
       "<table border=\"1\" class=\"dataframe\">\n",
       "  <thead>\n",
       "    <tr style=\"text-align: right;\">\n",
       "      <th></th>\n",
       "      <th>TransactionID</th>\n",
       "      <th>Item</th>\n",
       "    </tr>\n",
       "  </thead>\n",
       "  <tbody>\n",
       "    <tr>\n",
       "      <th>0</th>\n",
       "      <td>178</td>\n",
       "      <td>2</td>\n",
       "    </tr>\n",
       "    <tr>\n",
       "      <th>1</th>\n",
       "      <td>179</td>\n",
       "      <td>2</td>\n",
       "    </tr>\n",
       "    <tr>\n",
       "      <th>2</th>\n",
       "      <td>180</td>\n",
       "      <td>2</td>\n",
       "    </tr>\n",
       "    <tr>\n",
       "      <th>3</th>\n",
       "      <td>181</td>\n",
       "      <td>2</td>\n",
       "    </tr>\n",
       "    <tr>\n",
       "      <th>4</th>\n",
       "      <td>182</td>\n",
       "      <td>3</td>\n",
       "    </tr>\n",
       "  </tbody>\n",
       "</table>\n",
       "</div>"
      ],
      "text/plain": [
       "   TransactionID  Item\n",
       "0            178     2\n",
       "1            179     2\n",
       "2            180     2\n",
       "3            181     2\n",
       "4            182     3"
      ]
     },
     "metadata": {},
     "output_type": "display_data"
    },
    {
     "data": {
      "text/plain": [
       "2.1621282898484675"
      ]
     },
     "metadata": {},
     "output_type": "display_data"
    }
   ],
   "source": [
    "itemsdf = df.groupby(['TransactionID'],as_index=False)['Item'].count()\n",
    "itemsdf = itemsdf.sort_values(ascending=True, by=['TransactionID'])\n",
    "display(itemsdf.head(5),itemsdf.Item.mean())"
   ]
  },
  {
   "cell_type": "markdown",
   "metadata": {},
   "source": [
    "> 平均會買兩個商品"
   ]
  },
  {
   "cell_type": "markdown",
   "metadata": {},
   "source": [
    "---"
   ]
  },
  {
   "cell_type": "markdown",
   "metadata": {},
   "source": [
    "### 什麼產品最熱銷\n",
    "> 什麼產品是大家買的特別多的呢？ 這裡定義**熱門為銷售數量最高的15項商品**"
   ]
  },
  {
   "cell_type": "code",
   "execution_count": 34,
   "metadata": {
    "scrolled": false
   },
   "outputs": [
    {
     "data": {
      "text/html": [
       "<div>\n",
       "<style scoped>\n",
       "    .dataframe tbody tr th:only-of-type {\n",
       "        vertical-align: middle;\n",
       "    }\n",
       "\n",
       "    .dataframe tbody tr th {\n",
       "        vertical-align: top;\n",
       "    }\n",
       "\n",
       "    .dataframe thead th {\n",
       "        text-align: right;\n",
       "    }\n",
       "</style>\n",
       "<table border=\"1\" class=\"dataframe\">\n",
       "  <thead>\n",
       "    <tr style=\"text-align: right;\">\n",
       "      <th></th>\n",
       "      <th>Item</th>\n",
       "      <th>Amounts</th>\n",
       "    </tr>\n",
       "  </thead>\n",
       "  <tbody>\n",
       "    <tr>\n",
       "      <th>0</th>\n",
       "      <td>coffee</td>\n",
       "      <td>5088</td>\n",
       "    </tr>\n",
       "    <tr>\n",
       "      <th>1</th>\n",
       "      <td>bread</td>\n",
       "      <td>3096</td>\n",
       "    </tr>\n",
       "    <tr>\n",
       "      <th>2</th>\n",
       "      <td>tea</td>\n",
       "      <td>1331</td>\n",
       "    </tr>\n",
       "    <tr>\n",
       "      <th>3</th>\n",
       "      <td>cake</td>\n",
       "      <td>947</td>\n",
       "    </tr>\n",
       "    <tr>\n",
       "      <th>4</th>\n",
       "      <td>pastry</td>\n",
       "      <td>796</td>\n",
       "    </tr>\n",
       "    <tr>\n",
       "      <th>5</th>\n",
       "      <td>sandwich</td>\n",
       "      <td>711</td>\n",
       "    </tr>\n",
       "    <tr>\n",
       "      <th>6</th>\n",
       "      <td>medialuna</td>\n",
       "      <td>592</td>\n",
       "    </tr>\n",
       "    <tr>\n",
       "      <th>7</th>\n",
       "      <td>hot chocolate</td>\n",
       "      <td>572</td>\n",
       "    </tr>\n",
       "    <tr>\n",
       "      <th>8</th>\n",
       "      <td>cookies</td>\n",
       "      <td>491</td>\n",
       "    </tr>\n",
       "    <tr>\n",
       "      <th>9</th>\n",
       "      <td>brownie</td>\n",
       "      <td>368</td>\n",
       "    </tr>\n",
       "    <tr>\n",
       "      <th>10</th>\n",
       "      <td>farm house</td>\n",
       "      <td>346</td>\n",
       "    </tr>\n",
       "    <tr>\n",
       "      <th>11</th>\n",
       "      <td>alfajores</td>\n",
       "      <td>345</td>\n",
       "    </tr>\n",
       "    <tr>\n",
       "      <th>12</th>\n",
       "      <td>juice</td>\n",
       "      <td>324</td>\n",
       "    </tr>\n",
       "    <tr>\n",
       "      <th>13</th>\n",
       "      <td>muffin</td>\n",
       "      <td>322</td>\n",
       "    </tr>\n",
       "    <tr>\n",
       "      <th>14</th>\n",
       "      <td>soup</td>\n",
       "      <td>314</td>\n",
       "    </tr>\n",
       "  </tbody>\n",
       "</table>\n",
       "</div>"
      ],
      "text/plain": [
       "             Item  Amounts\n",
       "0          coffee     5088\n",
       "1           bread     3096\n",
       "2             tea     1331\n",
       "3            cake      947\n",
       "4          pastry      796\n",
       "5        sandwich      711\n",
       "6       medialuna      592\n",
       "7   hot chocolate      572\n",
       "8         cookies      491\n",
       "9         brownie      368\n",
       "10     farm house      346\n",
       "11      alfajores      345\n",
       "12          juice      324\n",
       "13         muffin      322\n",
       "14           soup      314"
      ]
     },
     "execution_count": 34,
     "metadata": {},
     "output_type": "execute_result"
    }
   ],
   "source": [
    "#pd.value_counts(df.Item).head(10)\n",
    "value_counts = df['Item'].value_counts(dropna=True, sort=True)\n",
    "item_df = value_counts.rename_axis('Item').reset_index(name='Amounts')\n",
    "top10item_df = item_df.head(15)\n",
    "top10item_df"
   ]
  },
  {
   "cell_type": "code",
   "execution_count": 35,
   "metadata": {},
   "outputs": [
    {
     "data": {
      "image/png": "[encoded data removed]",
      "text/plain": [
       "<matplotlib.figure.Figure at 0x1a3dd91b668>"
      ]
     },
     "metadata": {},
     "output_type": "display_data"
    }
   ],
   "source": [
    "plt.pie(top10item_df.Amounts, labels=top10item_df.Item)\n",
    "plt.axis(\"equal\")\n",
    "plt.title(\"Top 15 Items bought from Customers\")\n",
    "plt.show()"
   ]
  },
  {
   "cell_type": "markdown",
   "metadata": {},
   "source": [
    "---"
   ]
  },
  {
   "cell_type": "markdown",
   "metadata": {},
   "source": [
    "### 顧客光顧時間分布\n",
    "#### 以整個禮拜來說\n",
    "> **週六**的交易量是最多的，再來是週五  "
   ]
  },
  {
   "cell_type": "code",
   "execution_count": 36,
   "metadata": {},
   "outputs": [
    {
     "data": {
      "text/plain": [
       "<matplotlib.axes._subplots.AxesSubplot at 0x1a3ddcea0b8>"
      ]
     },
     "execution_count": 36,
     "metadata": {},
     "output_type": "execute_result"
    },
    {
     "data": {
      "image/png": "[encoded data removed]",
      "text/plain": [
       "<matplotlib.figure.Figure at 0x1a3dda88d68>"
      ]
     },
     "metadata": {
      "needs_background": "light"
     },
     "output_type": "display_data"
    }
   ],
   "source": [
    "sns.countplot(x='Weekday',data=df)"
   ]
  },
  {
   "cell_type": "markdown",
   "metadata": {},
   "source": [
    "#### 顧客的消費時間\n",
    "> 每天消費時間從早上7點(應該是起床上班或上學的早餐)，到晚上6-8點(下班或下課肚子餓的晚餐)  \n",
    "> 禮拜六交易結束時間有比較晚  \n",
    "> 週日的交易起始時間比較晚   \n",
    "> 店家一般營業時間應該是7點到8點，周六營業到9點，周日早上8點開門"
   ]
  },
  {
   "cell_type": "code",
   "execution_count": 38,
   "metadata": {},
   "outputs": [
    {
     "data": {
      "image/png": "[encoded data removed]",
      "text/plain": [
       "<matplotlib.figure.Figure at 0x1a3ddffcfd0>"
      ]
     },
     "metadata": {
      "needs_background": "light"
     },
     "output_type": "display_data"
    }
   ],
   "source": [
    "plt.scatter(df['Weekday'],df['Hours'])\n",
    "plt.xlabel(\"Weekday\")\n",
    "plt.ylabel(\"Hours\")\n",
    "plt.title(\"Scatter Plot of Transcation Occurs Time (during a day in a week)\")\n",
    "plt.show()"
   ]
  },
  {
   "cell_type": "markdown",
   "metadata": {},
   "source": [
    "#### 以一天來說\n",
    "> 消費高峰是在上午11-12點  \n",
    "> 消費低峰是在晚上6點過後  \n",
    "> 晚上8點之後幾乎沒有交易，推測麵包店應該是打烊了"
   ]
  },
  {
   "cell_type": "code",
   "execution_count": 39,
   "metadata": {},
   "outputs": [
    {
     "data": {
      "text/plain": [
       "<matplotlib.axes._subplots.AxesSubplot at 0x1a3de25a828>"
      ]
     },
     "execution_count": 39,
     "metadata": {},
     "output_type": "execute_result"
    },
    {
     "data": {
      "image/png": "[encoded data removed]",
      "text/plain": [
       "<matplotlib.figure.Figure at 0x1a3dd95ba20>"
      ]
     },
     "metadata": {
      "needs_background": "light"
     },
     "output_type": "display_data"
    }
   ],
   "source": [
    "sns.countplot(x='Hours',data=df)"
   ]
  },
  {
   "cell_type": "markdown",
   "metadata": {},
   "source": [
    "### 尖峰時刻 (11-12點) 的前15大消費商品"
   ]
  },
  {
   "cell_type": "code",
   "execution_count": 40,
   "metadata": {},
   "outputs": [
    {
     "data": {
      "text/html": [
       "<div>\n",
       "<style scoped>\n",
       "    .dataframe tbody tr th:only-of-type {\n",
       "        vertical-align: middle;\n",
       "    }\n",
       "\n",
       "    .dataframe tbody tr th {\n",
       "        vertical-align: top;\n",
       "    }\n",
       "\n",
       "    .dataframe thead th {\n",
       "        text-align: right;\n",
       "    }\n",
       "</style>\n",
       "<table border=\"1\" class=\"dataframe\">\n",
       "  <thead>\n",
       "    <tr style=\"text-align: right;\">\n",
       "      <th></th>\n",
       "      <th>Datetime</th>\n",
       "      <th>TransactionID</th>\n",
       "      <th>Item</th>\n",
       "      <th>Date</th>\n",
       "      <th>Time</th>\n",
       "      <th>Year</th>\n",
       "      <th>Month</th>\n",
       "      <th>Day</th>\n",
       "      <th>Week</th>\n",
       "      <th>Weekday</th>\n",
       "      <th>Hours</th>\n",
       "    </tr>\n",
       "  </thead>\n",
       "  <tbody>\n",
       "    <tr>\n",
       "      <th>28</th>\n",
       "      <td>2016-11-01 11:00:48</td>\n",
       "      <td>193</td>\n",
       "      <td>coffee</td>\n",
       "      <td>2016/11/1</td>\n",
       "      <td>11:00:48</td>\n",
       "      <td>2016</td>\n",
       "      <td>11</td>\n",
       "      <td>1</td>\n",
       "      <td>44</td>\n",
       "      <td>1</td>\n",
       "      <td>11</td>\n",
       "    </tr>\n",
       "    <tr>\n",
       "      <th>29</th>\n",
       "      <td>2016-11-01 11:04:36</td>\n",
       "      <td>194</td>\n",
       "      <td>bread</td>\n",
       "      <td>2016/11/1</td>\n",
       "      <td>11:04:36</td>\n",
       "      <td>2016</td>\n",
       "      <td>11</td>\n",
       "      <td>1</td>\n",
       "      <td>44</td>\n",
       "      <td>1</td>\n",
       "      <td>11</td>\n",
       "    </tr>\n",
       "    <tr>\n",
       "      <th>30</th>\n",
       "      <td>2016-11-01 11:04:36</td>\n",
       "      <td>194</td>\n",
       "      <td>bread</td>\n",
       "      <td>2016/11/1</td>\n",
       "      <td>11:04:36</td>\n",
       "      <td>2016</td>\n",
       "      <td>11</td>\n",
       "      <td>1</td>\n",
       "      <td>44</td>\n",
       "      <td>1</td>\n",
       "      <td>11</td>\n",
       "    </tr>\n",
       "    <tr>\n",
       "      <th>31</th>\n",
       "      <td>2016-11-01 11:06:09</td>\n",
       "      <td>195</td>\n",
       "      <td>bread</td>\n",
       "      <td>2016/11/1</td>\n",
       "      <td>11:06:09</td>\n",
       "      <td>2016</td>\n",
       "      <td>11</td>\n",
       "      <td>1</td>\n",
       "      <td>44</td>\n",
       "      <td>1</td>\n",
       "      <td>11</td>\n",
       "    </tr>\n",
       "    <tr>\n",
       "      <th>32</th>\n",
       "      <td>2016-11-01 11:06:09</td>\n",
       "      <td>195</td>\n",
       "      <td>scandinavian</td>\n",
       "      <td>2016/11/1</td>\n",
       "      <td>11:06:09</td>\n",
       "      <td>2016</td>\n",
       "      <td>11</td>\n",
       "      <td>1</td>\n",
       "      <td>44</td>\n",
       "      <td>1</td>\n",
       "      <td>11</td>\n",
       "    </tr>\n",
       "  </tbody>\n",
       "</table>\n",
       "</div>"
      ],
      "text/plain": [
       "              Datetime  TransactionID          Item       Date      Time  \\\n",
       "28 2016-11-01 11:00:48            193        coffee  2016/11/1  11:00:48   \n",
       "29 2016-11-01 11:04:36            194         bread  2016/11/1  11:04:36   \n",
       "30 2016-11-01 11:04:36            194         bread  2016/11/1  11:04:36   \n",
       "31 2016-11-01 11:06:09            195         bread  2016/11/1  11:06:09   \n",
       "32 2016-11-01 11:06:09            195  scandinavian  2016/11/1  11:06:09   \n",
       "\n",
       "    Year  Month  Day  Week  Weekday  Hours  \n",
       "28  2016     11    1    44        1     11  \n",
       "29  2016     11    1    44        1     11  \n",
       "30  2016     11    1    44        1     11  \n",
       "31  2016     11    1    44        1     11  \n",
       "32  2016     11    1    44        1     11  "
      ]
     },
     "metadata": {},
     "output_type": "display_data"
    }
   ],
   "source": [
    "peak_df = df[(df.Hours <=12)&(df.Hours >= 11)] # 限制式11-12點\n",
    "display(peak_df.head().head(10))"
   ]
  },
  {
   "cell_type": "code",
   "execution_count": 41,
   "metadata": {},
   "outputs": [
    {
     "data": {
      "text/html": [
       "<div>\n",
       "<style scoped>\n",
       "    .dataframe tbody tr th:only-of-type {\n",
       "        vertical-align: middle;\n",
       "    }\n",
       "\n",
       "    .dataframe tbody tr th {\n",
       "        vertical-align: top;\n",
       "    }\n",
       "\n",
       "    .dataframe thead th {\n",
       "        text-align: right;\n",
       "    }\n",
       "</style>\n",
       "<table border=\"1\" class=\"dataframe\">\n",
       "  <thead>\n",
       "    <tr style=\"text-align: right;\">\n",
       "      <th></th>\n",
       "      <th>Item</th>\n",
       "      <th>peak_Amounts</th>\n",
       "    </tr>\n",
       "  </thead>\n",
       "  <tbody>\n",
       "    <tr>\n",
       "      <th>0</th>\n",
       "      <td>coffee</td>\n",
       "      <td>1578</td>\n",
       "    </tr>\n",
       "    <tr>\n",
       "      <th>1</th>\n",
       "      <td>bread</td>\n",
       "      <td>940</td>\n",
       "    </tr>\n",
       "    <tr>\n",
       "      <th>2</th>\n",
       "      <td>tea</td>\n",
       "      <td>328</td>\n",
       "    </tr>\n",
       "    <tr>\n",
       "      <th>3</th>\n",
       "      <td>cake</td>\n",
       "      <td>246</td>\n",
       "    </tr>\n",
       "    <tr>\n",
       "      <th>4</th>\n",
       "      <td>pastry</td>\n",
       "      <td>238</td>\n",
       "    </tr>\n",
       "    <tr>\n",
       "      <th>5</th>\n",
       "      <td>sandwich</td>\n",
       "      <td>202</td>\n",
       "    </tr>\n",
       "    <tr>\n",
       "      <th>6</th>\n",
       "      <td>medialuna</td>\n",
       "      <td>159</td>\n",
       "    </tr>\n",
       "    <tr>\n",
       "      <th>7</th>\n",
       "      <td>hot chocolate</td>\n",
       "      <td>145</td>\n",
       "    </tr>\n",
       "    <tr>\n",
       "      <th>8</th>\n",
       "      <td>cookies</td>\n",
       "      <td>134</td>\n",
       "    </tr>\n",
       "    <tr>\n",
       "      <th>9</th>\n",
       "      <td>farm house</td>\n",
       "      <td>125</td>\n",
       "    </tr>\n",
       "    <tr>\n",
       "      <th>10</th>\n",
       "      <td>juice</td>\n",
       "      <td>108</td>\n",
       "    </tr>\n",
       "    <tr>\n",
       "      <th>11</th>\n",
       "      <td>brownie</td>\n",
       "      <td>104</td>\n",
       "    </tr>\n",
       "    <tr>\n",
       "      <th>12</th>\n",
       "      <td>scone</td>\n",
       "      <td>98</td>\n",
       "    </tr>\n",
       "    <tr>\n",
       "      <th>13</th>\n",
       "      <td>muffin</td>\n",
       "      <td>97</td>\n",
       "    </tr>\n",
       "    <tr>\n",
       "      <th>14</th>\n",
       "      <td>toast</td>\n",
       "      <td>91</td>\n",
       "    </tr>\n",
       "  </tbody>\n",
       "</table>\n",
       "</div>"
      ],
      "text/plain": [
       "             Item  peak_Amounts\n",
       "0          coffee          1578\n",
       "1           bread           940\n",
       "2             tea           328\n",
       "3            cake           246\n",
       "4          pastry           238\n",
       "5        sandwich           202\n",
       "6       medialuna           159\n",
       "7   hot chocolate           145\n",
       "8         cookies           134\n",
       "9      farm house           125\n",
       "10          juice           108\n",
       "11        brownie           104\n",
       "12          scone            98\n",
       "13         muffin            97\n",
       "14          toast            91"
      ]
     },
     "execution_count": 41,
     "metadata": {},
     "output_type": "execute_result"
    }
   ],
   "source": [
    "#pd.value_counts(peak_df.Item).head(10)\n",
    "value_counts = peak_df['Item'].value_counts(dropna=True, sort=True)\n",
    "peak_item_df = value_counts.rename_axis('Item').reset_index(name='peak_Amounts')\n",
    "peaktop10item_df = peak_item_df.head(15)\n",
    "peaktop10item_df"
   ]
  },
  {
   "cell_type": "code",
   "execution_count": 42,
   "metadata": {},
   "outputs": [
    {
     "data": {
      "image/png": "[encoded data removed]",
      "text/plain": [
       "<matplotlib.figure.Figure at 0x1a3de239dd8>"
      ]
     },
     "metadata": {},
     "output_type": "display_data"
    }
   ],
   "source": [
    "plt.pie(peaktop10item_df.peak_Amounts, labels=peaktop10item_df.Item)\n",
    "plt.axis(\"equal\")\n",
    "plt.title(\"Top 15 Items sold during peak time (11-12)\")\n",
    "plt.show()"
   ]
  },
  {
   "cell_type": "markdown",
   "metadata": {},
   "source": [
    "> 比較發現，尖峰時刻所購買的前15大商品，與總銷售的15大熱銷品項幾乎沒有不同"
   ]
  },
  {
   "cell_type": "markdown",
   "metadata": {},
   "source": [
    "## 購物籃分析 (Apriori Algorithm)"
   ]
  },
  {
   "cell_type": "markdown",
   "metadata": {},
   "source": [
    "想法：我想藉由one hot encoding轉換資料表後，進一步做關聯分析，只要有購買的產品就標註為1  \n",
    "資料表處理流程：\n",
    "1. 先將所有產品項目提取成欄位\n",
    "2. 合併相同交易ID的訂單：做數值合併 (若該筆訂單買兩個一樣的物品，該物品的值就為2)\n",
    "3. 將數值對應到0或1，0代表無購買，1代表有購買"
   ]
  },
  {
   "cell_type": "markdown",
   "metadata": {},
   "source": [
    "> 將產品全部提取出來變成欄位，令交易ID為Index，接著進行交易ID的合併  \n",
    "> 我們不採用get dummies因為她會把全部欄位轉換"
   ]
  },
  {
   "cell_type": "code",
   "execution_count": 43,
   "metadata": {},
   "outputs": [
    {
     "data": {
      "text/html": [
       "<div>\n",
       "<style scoped>\n",
       "    .dataframe tbody tr th:only-of-type {\n",
       "        vertical-align: middle;\n",
       "    }\n",
       "\n",
       "    .dataframe tbody tr th {\n",
       "        vertical-align: top;\n",
       "    }\n",
       "\n",
       "    .dataframe thead th {\n",
       "        text-align: right;\n",
       "    }\n",
       "</style>\n",
       "<table border=\"1\" class=\"dataframe\">\n",
       "  <thead>\n",
       "    <tr style=\"text-align: right;\">\n",
       "      <th>Item</th>\n",
       "      <th>afternoon with the baker</th>\n",
       "      <th>alfajores</th>\n",
       "      <th>argentina night</th>\n",
       "      <th>art tray</th>\n",
       "      <th>bacon</th>\n",
       "      <th>baguette</th>\n",
       "      <th>bakewell</th>\n",
       "      <th>bare popcorn</th>\n",
       "      <th>basket</th>\n",
       "      <th>bowl nic pitt</th>\n",
       "      <th>...</th>\n",
       "      <th>the bart</th>\n",
       "      <th>the nomad</th>\n",
       "      <th>tiffin</th>\n",
       "      <th>toast</th>\n",
       "      <th>truffles</th>\n",
       "      <th>tshirt</th>\n",
       "      <th>valentine's card</th>\n",
       "      <th>vegan feast</th>\n",
       "      <th>vegan mincepie</th>\n",
       "      <th>victorian sponge</th>\n",
       "    </tr>\n",
       "    <tr>\n",
       "      <th>TransactionID</th>\n",
       "      <th></th>\n",
       "      <th></th>\n",
       "      <th></th>\n",
       "      <th></th>\n",
       "      <th></th>\n",
       "      <th></th>\n",
       "      <th></th>\n",
       "      <th></th>\n",
       "      <th></th>\n",
       "      <th></th>\n",
       "      <th></th>\n",
       "      <th></th>\n",
       "      <th></th>\n",
       "      <th></th>\n",
       "      <th></th>\n",
       "      <th></th>\n",
       "      <th></th>\n",
       "      <th></th>\n",
       "      <th></th>\n",
       "      <th></th>\n",
       "      <th></th>\n",
       "    </tr>\n",
       "  </thead>\n",
       "  <tbody>\n",
       "    <tr>\n",
       "      <th>178</th>\n",
       "      <td>0.0</td>\n",
       "      <td>0.0</td>\n",
       "      <td>0.0</td>\n",
       "      <td>0.0</td>\n",
       "      <td>0.0</td>\n",
       "      <td>0.0</td>\n",
       "      <td>0.0</td>\n",
       "      <td>0.0</td>\n",
       "      <td>0.0</td>\n",
       "      <td>0.0</td>\n",
       "      <td>...</td>\n",
       "      <td>0.0</td>\n",
       "      <td>0.0</td>\n",
       "      <td>0.0</td>\n",
       "      <td>0.0</td>\n",
       "      <td>0.0</td>\n",
       "      <td>0.0</td>\n",
       "      <td>0.0</td>\n",
       "      <td>0.0</td>\n",
       "      <td>0.0</td>\n",
       "      <td>0.0</td>\n",
       "    </tr>\n",
       "    <tr>\n",
       "      <th>179</th>\n",
       "      <td>0.0</td>\n",
       "      <td>0.0</td>\n",
       "      <td>0.0</td>\n",
       "      <td>0.0</td>\n",
       "      <td>0.0</td>\n",
       "      <td>0.0</td>\n",
       "      <td>0.0</td>\n",
       "      <td>0.0</td>\n",
       "      <td>0.0</td>\n",
       "      <td>0.0</td>\n",
       "      <td>...</td>\n",
       "      <td>0.0</td>\n",
       "      <td>0.0</td>\n",
       "      <td>0.0</td>\n",
       "      <td>0.0</td>\n",
       "      <td>0.0</td>\n",
       "      <td>0.0</td>\n",
       "      <td>0.0</td>\n",
       "      <td>0.0</td>\n",
       "      <td>0.0</td>\n",
       "      <td>0.0</td>\n",
       "    </tr>\n",
       "    <tr>\n",
       "      <th>180</th>\n",
       "      <td>0.0</td>\n",
       "      <td>0.0</td>\n",
       "      <td>0.0</td>\n",
       "      <td>0.0</td>\n",
       "      <td>0.0</td>\n",
       "      <td>0.0</td>\n",
       "      <td>0.0</td>\n",
       "      <td>0.0</td>\n",
       "      <td>0.0</td>\n",
       "      <td>0.0</td>\n",
       "      <td>...</td>\n",
       "      <td>0.0</td>\n",
       "      <td>0.0</td>\n",
       "      <td>0.0</td>\n",
       "      <td>0.0</td>\n",
       "      <td>0.0</td>\n",
       "      <td>0.0</td>\n",
       "      <td>0.0</td>\n",
       "      <td>0.0</td>\n",
       "      <td>0.0</td>\n",
       "      <td>0.0</td>\n",
       "    </tr>\n",
       "    <tr>\n",
       "      <th>181</th>\n",
       "      <td>0.0</td>\n",
       "      <td>0.0</td>\n",
       "      <td>0.0</td>\n",
       "      <td>0.0</td>\n",
       "      <td>0.0</td>\n",
       "      <td>0.0</td>\n",
       "      <td>0.0</td>\n",
       "      <td>0.0</td>\n",
       "      <td>0.0</td>\n",
       "      <td>0.0</td>\n",
       "      <td>...</td>\n",
       "      <td>0.0</td>\n",
       "      <td>0.0</td>\n",
       "      <td>0.0</td>\n",
       "      <td>0.0</td>\n",
       "      <td>0.0</td>\n",
       "      <td>0.0</td>\n",
       "      <td>0.0</td>\n",
       "      <td>0.0</td>\n",
       "      <td>0.0</td>\n",
       "      <td>0.0</td>\n",
       "    </tr>\n",
       "    <tr>\n",
       "      <th>182</th>\n",
       "      <td>0.0</td>\n",
       "      <td>0.0</td>\n",
       "      <td>0.0</td>\n",
       "      <td>0.0</td>\n",
       "      <td>0.0</td>\n",
       "      <td>0.0</td>\n",
       "      <td>0.0</td>\n",
       "      <td>0.0</td>\n",
       "      <td>0.0</td>\n",
       "      <td>0.0</td>\n",
       "      <td>...</td>\n",
       "      <td>0.0</td>\n",
       "      <td>0.0</td>\n",
       "      <td>0.0</td>\n",
       "      <td>0.0</td>\n",
       "      <td>0.0</td>\n",
       "      <td>0.0</td>\n",
       "      <td>0.0</td>\n",
       "      <td>0.0</td>\n",
       "      <td>0.0</td>\n",
       "      <td>0.0</td>\n",
       "    </tr>\n",
       "  </tbody>\n",
       "</table>\n",
       "<p>5 rows × 91 columns</p>\n",
       "</div>"
      ],
      "text/plain": [
       "Item           afternoon with the baker  alfajores  argentina night  art tray  \\\n",
       "TransactionID                                                                   \n",
       "178                                 0.0        0.0              0.0       0.0   \n",
       "179                                 0.0        0.0              0.0       0.0   \n",
       "180                                 0.0        0.0              0.0       0.0   \n",
       "181                                 0.0        0.0              0.0       0.0   \n",
       "182                                 0.0        0.0              0.0       0.0   \n",
       "\n",
       "Item           bacon  baguette  bakewell  bare popcorn  basket  bowl nic pitt  \\\n",
       "TransactionID                                                                   \n",
       "178              0.0       0.0       0.0           0.0     0.0            0.0   \n",
       "179              0.0       0.0       0.0           0.0     0.0            0.0   \n",
       "180              0.0       0.0       0.0           0.0     0.0            0.0   \n",
       "181              0.0       0.0       0.0           0.0     0.0            0.0   \n",
       "182              0.0       0.0       0.0           0.0     0.0            0.0   \n",
       "\n",
       "Item                 ...         the bart  the nomad  tiffin  toast  truffles  \\\n",
       "TransactionID        ...                                                        \n",
       "178                  ...              0.0        0.0     0.0    0.0       0.0   \n",
       "179                  ...              0.0        0.0     0.0    0.0       0.0   \n",
       "180                  ...              0.0        0.0     0.0    0.0       0.0   \n",
       "181                  ...              0.0        0.0     0.0    0.0       0.0   \n",
       "182                  ...              0.0        0.0     0.0    0.0       0.0   \n",
       "\n",
       "Item           tshirt  valentine's card  vegan feast  vegan mincepie  \\\n",
       "TransactionID                                                          \n",
       "178               0.0               0.0          0.0             0.0   \n",
       "179               0.0               0.0          0.0             0.0   \n",
       "180               0.0               0.0          0.0             0.0   \n",
       "181               0.0               0.0          0.0             0.0   \n",
       "182               0.0               0.0          0.0             0.0   \n",
       "\n",
       "Item           victorian sponge  \n",
       "TransactionID                    \n",
       "178                         0.0  \n",
       "179                         0.0  \n",
       "180                         0.0  \n",
       "181                         0.0  \n",
       "182                         0.0  \n",
       "\n",
       "[5 rows x 91 columns]"
      ]
     },
     "execution_count": 43,
     "metadata": {},
     "output_type": "execute_result"
    }
   ],
   "source": [
    "one_hot_encoding = df.groupby(['TransactionID', 'Item'])['Item'].count().unstack().reset_index().fillna(0).set_index('TransactionID')\n",
    "one_hot_encoding.head()"
   ]
  },
  {
   "cell_type": "markdown",
   "metadata": {},
   "source": [
    "> 定義一個由行列對所有元素的操作函數，將數值maping到0或1；0代表此交易沒有購買這項產品，1代表有購買且數量可能是1個或多個"
   ]
  },
  {
   "cell_type": "code",
   "execution_count": 44,
   "metadata": {},
   "outputs": [],
   "source": [
    "def encode(element):\n",
    "    if element <= 0:\n",
    "        return 0\n",
    "    if element >= 1:\n",
    "        return 1\n",
    "one_hot_encoding = one_hot_encoding.applymap(encode)"
   ]
  },
  {
   "cell_type": "code",
   "execution_count": 45,
   "metadata": {},
   "outputs": [
    {
     "data": {
      "text/html": [
       "<div>\n",
       "<style scoped>\n",
       "    .dataframe tbody tr th:only-of-type {\n",
       "        vertical-align: middle;\n",
       "    }\n",
       "\n",
       "    .dataframe tbody tr th {\n",
       "        vertical-align: top;\n",
       "    }\n",
       "\n",
       "    .dataframe thead th {\n",
       "        text-align: right;\n",
       "    }\n",
       "</style>\n",
       "<table border=\"1\" class=\"dataframe\">\n",
       "  <thead>\n",
       "    <tr style=\"text-align: right;\">\n",
       "      <th>Item</th>\n",
       "      <th>afternoon with the baker</th>\n",
       "      <th>alfajores</th>\n",
       "      <th>argentina night</th>\n",
       "      <th>art tray</th>\n",
       "      <th>bacon</th>\n",
       "      <th>baguette</th>\n",
       "      <th>bakewell</th>\n",
       "      <th>bare popcorn</th>\n",
       "      <th>basket</th>\n",
       "      <th>bowl nic pitt</th>\n",
       "      <th>...</th>\n",
       "      <th>the bart</th>\n",
       "      <th>the nomad</th>\n",
       "      <th>tiffin</th>\n",
       "      <th>toast</th>\n",
       "      <th>truffles</th>\n",
       "      <th>tshirt</th>\n",
       "      <th>valentine's card</th>\n",
       "      <th>vegan feast</th>\n",
       "      <th>vegan mincepie</th>\n",
       "      <th>victorian sponge</th>\n",
       "    </tr>\n",
       "    <tr>\n",
       "      <th>TransactionID</th>\n",
       "      <th></th>\n",
       "      <th></th>\n",
       "      <th></th>\n",
       "      <th></th>\n",
       "      <th></th>\n",
       "      <th></th>\n",
       "      <th></th>\n",
       "      <th></th>\n",
       "      <th></th>\n",
       "      <th></th>\n",
       "      <th></th>\n",
       "      <th></th>\n",
       "      <th></th>\n",
       "      <th></th>\n",
       "      <th></th>\n",
       "      <th></th>\n",
       "      <th></th>\n",
       "      <th></th>\n",
       "      <th></th>\n",
       "      <th></th>\n",
       "      <th></th>\n",
       "    </tr>\n",
       "  </thead>\n",
       "  <tbody>\n",
       "    <tr>\n",
       "      <th>178</th>\n",
       "      <td>0</td>\n",
       "      <td>0</td>\n",
       "      <td>0</td>\n",
       "      <td>0</td>\n",
       "      <td>0</td>\n",
       "      <td>0</td>\n",
       "      <td>0</td>\n",
       "      <td>0</td>\n",
       "      <td>0</td>\n",
       "      <td>0</td>\n",
       "      <td>...</td>\n",
       "      <td>0</td>\n",
       "      <td>0</td>\n",
       "      <td>0</td>\n",
       "      <td>0</td>\n",
       "      <td>0</td>\n",
       "      <td>0</td>\n",
       "      <td>0</td>\n",
       "      <td>0</td>\n",
       "      <td>0</td>\n",
       "      <td>0</td>\n",
       "    </tr>\n",
       "    <tr>\n",
       "      <th>179</th>\n",
       "      <td>0</td>\n",
       "      <td>0</td>\n",
       "      <td>0</td>\n",
       "      <td>0</td>\n",
       "      <td>0</td>\n",
       "      <td>0</td>\n",
       "      <td>0</td>\n",
       "      <td>0</td>\n",
       "      <td>0</td>\n",
       "      <td>0</td>\n",
       "      <td>...</td>\n",
       "      <td>0</td>\n",
       "      <td>0</td>\n",
       "      <td>0</td>\n",
       "      <td>0</td>\n",
       "      <td>0</td>\n",
       "      <td>0</td>\n",
       "      <td>0</td>\n",
       "      <td>0</td>\n",
       "      <td>0</td>\n",
       "      <td>0</td>\n",
       "    </tr>\n",
       "    <tr>\n",
       "      <th>180</th>\n",
       "      <td>0</td>\n",
       "      <td>0</td>\n",
       "      <td>0</td>\n",
       "      <td>0</td>\n",
       "      <td>0</td>\n",
       "      <td>0</td>\n",
       "      <td>0</td>\n",
       "      <td>0</td>\n",
       "      <td>0</td>\n",
       "      <td>0</td>\n",
       "      <td>...</td>\n",
       "      <td>0</td>\n",
       "      <td>0</td>\n",
       "      <td>0</td>\n",
       "      <td>0</td>\n",
       "      <td>0</td>\n",
       "      <td>0</td>\n",
       "      <td>0</td>\n",
       "      <td>0</td>\n",
       "      <td>0</td>\n",
       "      <td>0</td>\n",
       "    </tr>\n",
       "    <tr>\n",
       "      <th>181</th>\n",
       "      <td>0</td>\n",
       "      <td>0</td>\n",
       "      <td>0</td>\n",
       "      <td>0</td>\n",
       "      <td>0</td>\n",
       "      <td>0</td>\n",
       "      <td>0</td>\n",
       "      <td>0</td>\n",
       "      <td>0</td>\n",
       "      <td>0</td>\n",
       "      <td>...</td>\n",
       "      <td>0</td>\n",
       "      <td>0</td>\n",
       "      <td>0</td>\n",
       "      <td>0</td>\n",
       "      <td>0</td>\n",
       "      <td>0</td>\n",
       "      <td>0</td>\n",
       "      <td>0</td>\n",
       "      <td>0</td>\n",
       "      <td>0</td>\n",
       "    </tr>\n",
       "    <tr>\n",
       "      <th>182</th>\n",
       "      <td>0</td>\n",
       "      <td>0</td>\n",
       "      <td>0</td>\n",
       "      <td>0</td>\n",
       "      <td>0</td>\n",
       "      <td>0</td>\n",
       "      <td>0</td>\n",
       "      <td>0</td>\n",
       "      <td>0</td>\n",
       "      <td>0</td>\n",
       "      <td>...</td>\n",
       "      <td>0</td>\n",
       "      <td>0</td>\n",
       "      <td>0</td>\n",
       "      <td>0</td>\n",
       "      <td>0</td>\n",
       "      <td>0</td>\n",
       "      <td>0</td>\n",
       "      <td>0</td>\n",
       "      <td>0</td>\n",
       "      <td>0</td>\n",
       "    </tr>\n",
       "  </tbody>\n",
       "</table>\n",
       "<p>5 rows × 91 columns</p>\n",
       "</div>"
      ],
      "text/plain": [
       "Item           afternoon with the baker  alfajores  argentina night  art tray  \\\n",
       "TransactionID                                                                   \n",
       "178                                   0          0                0         0   \n",
       "179                                   0          0                0         0   \n",
       "180                                   0          0                0         0   \n",
       "181                                   0          0                0         0   \n",
       "182                                   0          0                0         0   \n",
       "\n",
       "Item           bacon  baguette  bakewell  bare popcorn  basket  bowl nic pitt  \\\n",
       "TransactionID                                                                   \n",
       "178                0         0         0             0       0              0   \n",
       "179                0         0         0             0       0              0   \n",
       "180                0         0         0             0       0              0   \n",
       "181                0         0         0             0       0              0   \n",
       "182                0         0         0             0       0              0   \n",
       "\n",
       "Item                 ...         the bart  the nomad  tiffin  toast  truffles  \\\n",
       "TransactionID        ...                                                        \n",
       "178                  ...                0          0       0      0         0   \n",
       "179                  ...                0          0       0      0         0   \n",
       "180                  ...                0          0       0      0         0   \n",
       "181                  ...                0          0       0      0         0   \n",
       "182                  ...                0          0       0      0         0   \n",
       "\n",
       "Item           tshirt  valentine's card  vegan feast  vegan mincepie  \\\n",
       "TransactionID                                                          \n",
       "178                 0                 0            0               0   \n",
       "179                 0                 0            0               0   \n",
       "180                 0                 0            0               0   \n",
       "181                 0                 0            0               0   \n",
       "182                 0                 0            0               0   \n",
       "\n",
       "Item           victorian sponge  \n",
       "TransactionID                    \n",
       "178                           0  \n",
       "179                           0  \n",
       "180                           0  \n",
       "181                           0  \n",
       "182                           0  \n",
       "\n",
       "[5 rows x 91 columns]"
      ]
     },
     "execution_count": 45,
     "metadata": {},
     "output_type": "execute_result"
    }
   ],
   "source": [
    "one_hot_encoding.head()"
   ]
  },
  {
   "cell_type": "markdown",
   "metadata": {},
   "source": [
    "> 我們僅留下在所有交易裡，出現至少1%次的{產品組合}，最小支持度設為0.01"
   ]
  },
  {
   "cell_type": "code",
   "execution_count": 46,
   "metadata": {},
   "outputs": [
    {
     "data": {
      "text/html": [
       "<div>\n",
       "<style scoped>\n",
       "    .dataframe tbody tr th:only-of-type {\n",
       "        vertical-align: middle;\n",
       "    }\n",
       "\n",
       "    .dataframe tbody tr th {\n",
       "        vertical-align: top;\n",
       "    }\n",
       "\n",
       "    .dataframe thead th {\n",
       "        text-align: right;\n",
       "    }\n",
       "</style>\n",
       "<table border=\"1\" class=\"dataframe\">\n",
       "  <thead>\n",
       "    <tr style=\"text-align: right;\">\n",
       "      <th></th>\n",
       "      <th>support</th>\n",
       "      <th>itemsets</th>\n",
       "    </tr>\n",
       "  </thead>\n",
       "  <tbody>\n",
       "    <tr>\n",
       "      <th>0</th>\n",
       "      <td>0.036573</td>\n",
       "      <td>(alfajores)</td>\n",
       "    </tr>\n",
       "    <tr>\n",
       "      <th>1</th>\n",
       "      <td>0.016065</td>\n",
       "      <td>(baguette)</td>\n",
       "    </tr>\n",
       "    <tr>\n",
       "      <th>2</th>\n",
       "      <td>0.328358</td>\n",
       "      <td>(bread)</td>\n",
       "    </tr>\n",
       "    <tr>\n",
       "      <th>3</th>\n",
       "      <td>0.041928</td>\n",
       "      <td>(brownie)</td>\n",
       "    </tr>\n",
       "    <tr>\n",
       "      <th>4</th>\n",
       "      <td>0.103680</td>\n",
       "      <td>(cake)</td>\n",
       "    </tr>\n",
       "  </tbody>\n",
       "</table>\n",
       "</div>"
      ],
      "text/plain": [
       "    support     itemsets\n",
       "0  0.036573  (alfajores)\n",
       "1  0.016065   (baguette)\n",
       "2  0.328358      (bread)\n",
       "3  0.041928    (brownie)\n",
       "4  0.103680       (cake)"
      ]
     },
     "execution_count": 46,
     "metadata": {},
     "output_type": "execute_result"
    }
   ],
   "source": [
    "buyingsets = apriori(one_hot_encoding, min_support=0.01, use_colnames=True) #use_colnames代入item的名稱\n",
    "buyingsets.head()"
   ]
  },
  {
   "cell_type": "code",
   "execution_count": 47,
   "metadata": {},
   "outputs": [
    {
     "name": "stdout",
     "output_type": "stream",
     "text": [
      "高於1%的產品組合： 60\n"
     ]
    }
   ],
   "source": [
    "print(\"高於1%的產品組合：\",buyingsets.shape[0])"
   ]
  },
  {
   "cell_type": "markdown",
   "metadata": {},
   "source": [
    "---"
   ]
  },
  {
   "cell_type": "markdown",
   "metadata": {},
   "source": [
    "### 我們想知道顧客購買某項產品之後，會怎麼影像到購買另外一種產品\n",
    "\n",
    "> * metric：有：support、confidence、lift、leverage、conviction  \n",
    "> * min_threshold：搭配以上使用  \n",
    ">     * metric = 'support'  => 取值範圍 [0,1]  \n",
    ">     * metric = 'confidence'  => 取值範圍 [0,1]  \n",
    ">     * metric = 'lift'  => 取值範圍 [0, inf]  "
   ]
  },
  {
   "cell_type": "markdown",
   "metadata": {},
   "source": [
    "### 設立關聯規則，衡量標準用confidence，與最小閾值為0.5 \n",
    "> 顧客購買A之後購買B的可能性有多大"
   ]
  },
  {
   "cell_type": "code",
   "execution_count": 48,
   "metadata": {},
   "outputs": [
    {
     "data": {
      "text/html": [
       "<div>\n",
       "<style scoped>\n",
       "    .dataframe tbody tr th:only-of-type {\n",
       "        vertical-align: middle;\n",
       "    }\n",
       "\n",
       "    .dataframe tbody tr th {\n",
       "        vertical-align: top;\n",
       "    }\n",
       "\n",
       "    .dataframe thead th {\n",
       "        text-align: right;\n",
       "    }\n",
       "</style>\n",
       "<table border=\"1\" class=\"dataframe\">\n",
       "  <thead>\n",
       "    <tr style=\"text-align: right;\">\n",
       "      <th></th>\n",
       "      <th>antecedents</th>\n",
       "      <th>consequents</th>\n",
       "      <th>antecedent support</th>\n",
       "      <th>consequent support</th>\n",
       "      <th>support</th>\n",
       "      <th>confidence</th>\n",
       "      <th>lift</th>\n",
       "      <th>leverage</th>\n",
       "      <th>conviction</th>\n",
       "    </tr>\n",
       "  </thead>\n",
       "  <tbody>\n",
       "    <tr>\n",
       "      <th>10</th>\n",
       "      <td>(toast)</td>\n",
       "      <td>(coffee)</td>\n",
       "      <td>0.033725</td>\n",
       "      <td>0.478637</td>\n",
       "      <td>0.023356</td>\n",
       "      <td>0.692568</td>\n",
       "      <td>1.446957</td>\n",
       "      <td>0.007215</td>\n",
       "      <td>1.695861</td>\n",
       "    </tr>\n",
       "    <tr>\n",
       "      <th>9</th>\n",
       "      <td>(spanish brunch)</td>\n",
       "      <td>(coffee)</td>\n",
       "      <td>0.017660</td>\n",
       "      <td>0.478637</td>\n",
       "      <td>0.010596</td>\n",
       "      <td>0.600000</td>\n",
       "      <td>1.253559</td>\n",
       "      <td>0.002143</td>\n",
       "      <td>1.303407</td>\n",
       "    </tr>\n",
       "    <tr>\n",
       "      <th>5</th>\n",
       "      <td>(medialuna)</td>\n",
       "      <td>(coffee)</td>\n",
       "      <td>0.063917</td>\n",
       "      <td>0.478637</td>\n",
       "      <td>0.035889</td>\n",
       "      <td>0.561497</td>\n",
       "      <td>1.173116</td>\n",
       "      <td>0.005296</td>\n",
       "      <td>1.188961</td>\n",
       "    </tr>\n",
       "    <tr>\n",
       "      <th>6</th>\n",
       "      <td>(pastry)</td>\n",
       "      <td>(coffee)</td>\n",
       "      <td>0.086362</td>\n",
       "      <td>0.478637</td>\n",
       "      <td>0.047511</td>\n",
       "      <td>0.550132</td>\n",
       "      <td>1.149371</td>\n",
       "      <td>0.006174</td>\n",
       "      <td>1.158923</td>\n",
       "    </tr>\n",
       "    <tr>\n",
       "      <th>0</th>\n",
       "      <td>(alfajores)</td>\n",
       "      <td>(coffee)</td>\n",
       "      <td>0.036573</td>\n",
       "      <td>0.478637</td>\n",
       "      <td>0.019938</td>\n",
       "      <td>0.545171</td>\n",
       "      <td>1.139007</td>\n",
       "      <td>0.002433</td>\n",
       "      <td>1.146284</td>\n",
       "    </tr>\n",
       "    <tr>\n",
       "      <th>7</th>\n",
       "      <td>(sandwich)</td>\n",
       "      <td>(coffee)</td>\n",
       "      <td>0.071437</td>\n",
       "      <td>0.478637</td>\n",
       "      <td>0.038054</td>\n",
       "      <td>0.532695</td>\n",
       "      <td>1.112942</td>\n",
       "      <td>0.003862</td>\n",
       "      <td>1.115680</td>\n",
       "    </tr>\n",
       "    <tr>\n",
       "      <th>4</th>\n",
       "      <td>(juice)</td>\n",
       "      <td>(coffee)</td>\n",
       "      <td>0.036459</td>\n",
       "      <td>0.478637</td>\n",
       "      <td>0.019369</td>\n",
       "      <td>0.531250</td>\n",
       "      <td>1.109922</td>\n",
       "      <td>0.001918</td>\n",
       "      <td>1.112240</td>\n",
       "    </tr>\n",
       "    <tr>\n",
       "      <th>1</th>\n",
       "      <td>(cake)</td>\n",
       "      <td>(coffee)</td>\n",
       "      <td>0.103680</td>\n",
       "      <td>0.478637</td>\n",
       "      <td>0.054574</td>\n",
       "      <td>0.526374</td>\n",
       "      <td>1.099734</td>\n",
       "      <td>0.004949</td>\n",
       "      <td>1.100789</td>\n",
       "    </tr>\n",
       "    <tr>\n",
       "      <th>8</th>\n",
       "      <td>(scone)</td>\n",
       "      <td>(coffee)</td>\n",
       "      <td>0.035320</td>\n",
       "      <td>0.478637</td>\n",
       "      <td>0.018457</td>\n",
       "      <td>0.522581</td>\n",
       "      <td>1.091809</td>\n",
       "      <td>0.001552</td>\n",
       "      <td>1.092043</td>\n",
       "    </tr>\n",
       "    <tr>\n",
       "      <th>2</th>\n",
       "      <td>(cookies)</td>\n",
       "      <td>(coffee)</td>\n",
       "      <td>0.053207</td>\n",
       "      <td>0.478637</td>\n",
       "      <td>0.027686</td>\n",
       "      <td>0.520343</td>\n",
       "      <td>1.087133</td>\n",
       "      <td>0.002219</td>\n",
       "      <td>1.086948</td>\n",
       "    </tr>\n",
       "    <tr>\n",
       "      <th>3</th>\n",
       "      <td>(hot chocolate)</td>\n",
       "      <td>(coffee)</td>\n",
       "      <td>0.060955</td>\n",
       "      <td>0.478637</td>\n",
       "      <td>0.030990</td>\n",
       "      <td>0.508411</td>\n",
       "      <td>1.062205</td>\n",
       "      <td>0.001815</td>\n",
       "      <td>1.060567</td>\n",
       "    </tr>\n",
       "  </tbody>\n",
       "</table>\n",
       "</div>"
      ],
      "text/plain": [
       "         antecedents consequents  antecedent support  consequent support  \\\n",
       "10           (toast)    (coffee)            0.033725            0.478637   \n",
       "9   (spanish brunch)    (coffee)            0.017660            0.478637   \n",
       "5        (medialuna)    (coffee)            0.063917            0.478637   \n",
       "6           (pastry)    (coffee)            0.086362            0.478637   \n",
       "0        (alfajores)    (coffee)            0.036573            0.478637   \n",
       "7         (sandwich)    (coffee)            0.071437            0.478637   \n",
       "4            (juice)    (coffee)            0.036459            0.478637   \n",
       "1             (cake)    (coffee)            0.103680            0.478637   \n",
       "8            (scone)    (coffee)            0.035320            0.478637   \n",
       "2          (cookies)    (coffee)            0.053207            0.478637   \n",
       "3    (hot chocolate)    (coffee)            0.060955            0.478637   \n",
       "\n",
       "     support  confidence      lift  leverage  conviction  \n",
       "10  0.023356    0.692568  1.446957  0.007215    1.695861  \n",
       "9   0.010596    0.600000  1.253559  0.002143    1.303407  \n",
       "5   0.035889    0.561497  1.173116  0.005296    1.188961  \n",
       "6   0.047511    0.550132  1.149371  0.006174    1.158923  \n",
       "0   0.019938    0.545171  1.139007  0.002433    1.146284  \n",
       "7   0.038054    0.532695  1.112942  0.003862    1.115680  \n",
       "4   0.019369    0.531250  1.109922  0.001918    1.112240  \n",
       "1   0.054574    0.526374  1.099734  0.004949    1.100789  \n",
       "8   0.018457    0.522581  1.091809  0.001552    1.092043  \n",
       "2   0.027686    0.520343  1.087133  0.002219    1.086948  \n",
       "3   0.030990    0.508411  1.062205  0.001815    1.060567  "
      ]
     },
     "execution_count": 48,
     "metadata": {},
     "output_type": "execute_result"
    }
   ],
   "source": [
    "rules = association_rules(buyingsets, metric='confidence', min_threshold=0.5)\n",
    "rules.sort_values(ascending=False, by=['confidence']) #信心由高到低"
   ]
  },
  {
   "cell_type": "code",
   "execution_count": 49,
   "metadata": {},
   "outputs": [
    {
     "data": {
      "text/plain": [
       "11"
      ]
     },
     "execution_count": 49,
     "metadata": {},
     "output_type": "execute_result"
    }
   ],
   "source": [
    "rules.shape[0]"
   ]
  },
  {
   "cell_type": "markdown",
   "metadata": {},
   "source": [
    "### 設立關聯規則，衡量標準用lift，與最小閾值為1\n",
    "> 商品A對商品B出現的可能性有沒有提升作用"
   ]
  },
  {
   "cell_type": "code",
   "execution_count": 50,
   "metadata": {},
   "outputs": [
    {
     "data": {
      "text/html": [
       "<div>\n",
       "<style scoped>\n",
       "    .dataframe tbody tr th:only-of-type {\n",
       "        vertical-align: middle;\n",
       "    }\n",
       "\n",
       "    .dataframe tbody tr th {\n",
       "        vertical-align: top;\n",
       "    }\n",
       "\n",
       "    .dataframe thead th {\n",
       "        text-align: right;\n",
       "    }\n",
       "</style>\n",
       "<table border=\"1\" class=\"dataframe\">\n",
       "  <thead>\n",
       "    <tr style=\"text-align: right;\">\n",
       "      <th></th>\n",
       "      <th>antecedents</th>\n",
       "      <th>consequents</th>\n",
       "      <th>antecedent support</th>\n",
       "      <th>consequent support</th>\n",
       "      <th>support</th>\n",
       "      <th>confidence</th>\n",
       "      <th>lift</th>\n",
       "      <th>leverage</th>\n",
       "      <th>conviction</th>\n",
       "    </tr>\n",
       "  </thead>\n",
       "  <tbody>\n",
       "    <tr>\n",
       "      <th>41</th>\n",
       "      <td>(cake)</td>\n",
       "      <td>(coffee, tea)</td>\n",
       "      <td>0.103680</td>\n",
       "      <td>0.049447</td>\n",
       "      <td>0.010026</td>\n",
       "      <td>0.096703</td>\n",
       "      <td>1.955679</td>\n",
       "      <td>0.004899</td>\n",
       "      <td>1.052315</td>\n",
       "    </tr>\n",
       "    <tr>\n",
       "      <th>38</th>\n",
       "      <td>(coffee, tea)</td>\n",
       "      <td>(cake)</td>\n",
       "      <td>0.049447</td>\n",
       "      <td>0.103680</td>\n",
       "      <td>0.010026</td>\n",
       "      <td>0.202765</td>\n",
       "      <td>1.955679</td>\n",
       "      <td>0.004899</td>\n",
       "      <td>1.124286</td>\n",
       "    </tr>\n",
       "    <tr>\n",
       "      <th>8</th>\n",
       "      <td>(hot chocolate)</td>\n",
       "      <td>(cake)</td>\n",
       "      <td>0.060955</td>\n",
       "      <td>0.103680</td>\n",
       "      <td>0.011621</td>\n",
       "      <td>0.190654</td>\n",
       "      <td>1.838870</td>\n",
       "      <td>0.005301</td>\n",
       "      <td>1.107462</td>\n",
       "    </tr>\n",
       "    <tr>\n",
       "      <th>9</th>\n",
       "      <td>(cake)</td>\n",
       "      <td>(hot chocolate)</td>\n",
       "      <td>0.103680</td>\n",
       "      <td>0.060955</td>\n",
       "      <td>0.011621</td>\n",
       "      <td>0.112088</td>\n",
       "      <td>1.838870</td>\n",
       "      <td>0.005301</td>\n",
       "      <td>1.057588</td>\n",
       "    </tr>\n",
       "    <tr>\n",
       "      <th>11</th>\n",
       "      <td>(cake)</td>\n",
       "      <td>(tea)</td>\n",
       "      <td>0.103680</td>\n",
       "      <td>0.142190</td>\n",
       "      <td>0.024040</td>\n",
       "      <td>0.231868</td>\n",
       "      <td>1.630694</td>\n",
       "      <td>0.009298</td>\n",
       "      <td>1.116749</td>\n",
       "    </tr>\n",
       "    <tr>\n",
       "      <th>10</th>\n",
       "      <td>(tea)</td>\n",
       "      <td>(cake)</td>\n",
       "      <td>0.142190</td>\n",
       "      <td>0.103680</td>\n",
       "      <td>0.024040</td>\n",
       "      <td>0.169071</td>\n",
       "      <td>1.630694</td>\n",
       "      <td>0.009298</td>\n",
       "      <td>1.078696</td>\n",
       "    </tr>\n",
       "    <tr>\n",
       "      <th>37</th>\n",
       "      <td>(pastry)</td>\n",
       "      <td>(coffee, bread)</td>\n",
       "      <td>0.086362</td>\n",
       "      <td>0.089438</td>\n",
       "      <td>0.011279</td>\n",
       "      <td>0.130607</td>\n",
       "      <td>1.460301</td>\n",
       "      <td>0.003555</td>\n",
       "      <td>1.047353</td>\n",
       "    </tr>\n",
       "    <tr>\n",
       "      <th>36</th>\n",
       "      <td>(coffee, bread)</td>\n",
       "      <td>(pastry)</td>\n",
       "      <td>0.089438</td>\n",
       "      <td>0.086362</td>\n",
       "      <td>0.011279</td>\n",
       "      <td>0.126115</td>\n",
       "      <td>1.460301</td>\n",
       "      <td>0.003555</td>\n",
       "      <td>1.045489</td>\n",
       "    </tr>\n",
       "    <tr>\n",
       "      <th>30</th>\n",
       "      <td>(coffee)</td>\n",
       "      <td>(toast)</td>\n",
       "      <td>0.478637</td>\n",
       "      <td>0.033725</td>\n",
       "      <td>0.023356</td>\n",
       "      <td>0.048798</td>\n",
       "      <td>1.446957</td>\n",
       "      <td>0.007215</td>\n",
       "      <td>1.015847</td>\n",
       "    </tr>\n",
       "    <tr>\n",
       "      <th>31</th>\n",
       "      <td>(toast)</td>\n",
       "      <td>(coffee)</td>\n",
       "      <td>0.033725</td>\n",
       "      <td>0.478637</td>\n",
       "      <td>0.023356</td>\n",
       "      <td>0.692568</td>\n",
       "      <td>1.446957</td>\n",
       "      <td>0.007215</td>\n",
       "      <td>1.695861</td>\n",
       "    </tr>\n",
       "  </tbody>\n",
       "</table>\n",
       "</div>"
      ],
      "text/plain": [
       "        antecedents      consequents  antecedent support  consequent support  \\\n",
       "41           (cake)    (coffee, tea)            0.103680            0.049447   \n",
       "38    (coffee, tea)           (cake)            0.049447            0.103680   \n",
       "8   (hot chocolate)           (cake)            0.060955            0.103680   \n",
       "9            (cake)  (hot chocolate)            0.103680            0.060955   \n",
       "11           (cake)            (tea)            0.103680            0.142190   \n",
       "10            (tea)           (cake)            0.142190            0.103680   \n",
       "37         (pastry)  (coffee, bread)            0.086362            0.089438   \n",
       "36  (coffee, bread)         (pastry)            0.089438            0.086362   \n",
       "30         (coffee)          (toast)            0.478637            0.033725   \n",
       "31          (toast)         (coffee)            0.033725            0.478637   \n",
       "\n",
       "     support  confidence      lift  leverage  conviction  \n",
       "41  0.010026    0.096703  1.955679  0.004899    1.052315  \n",
       "38  0.010026    0.202765  1.955679  0.004899    1.124286  \n",
       "8   0.011621    0.190654  1.838870  0.005301    1.107462  \n",
       "9   0.011621    0.112088  1.838870  0.005301    1.057588  \n",
       "11  0.024040    0.231868  1.630694  0.009298    1.116749  \n",
       "10  0.024040    0.169071  1.630694  0.009298    1.078696  \n",
       "37  0.011279    0.130607  1.460301  0.003555    1.047353  \n",
       "36  0.011279    0.126115  1.460301  0.003555    1.045489  \n",
       "30  0.023356    0.048798  1.446957  0.007215    1.015847  \n",
       "31  0.023356    0.692568  1.446957  0.007215    1.695861  "
      ]
     },
     "execution_count": 50,
     "metadata": {},
     "output_type": "execute_result"
    }
   ],
   "source": [
    "rules = association_rules(buyingsets, metric='lift', min_threshold=1)\n",
    "rules.sort_values(ascending=False, by=['lift']).head(10) #lift由高到低"
   ]
  },
  {
   "cell_type": "code",
   "execution_count": 51,
   "metadata": {},
   "outputs": [
    {
     "data": {
      "text/plain": [
       "42"
      ]
     },
     "execution_count": 51,
     "metadata": {},
     "output_type": "execute_result"
    }
   ],
   "source": [
    "rules.shape[0]"
   ]
  },
  {
   "cell_type": "markdown",
   "metadata": {},
   "source": [
    "### 提升度與信心都大於50%"
   ]
  },
  {
   "cell_type": "code",
   "execution_count": 53,
   "metadata": {},
   "outputs": [
    {
     "data": {
      "text/html": [
       "<div>\n",
       "<style scoped>\n",
       "    .dataframe tbody tr th:only-of-type {\n",
       "        vertical-align: middle;\n",
       "    }\n",
       "\n",
       "    .dataframe tbody tr th {\n",
       "        vertical-align: top;\n",
       "    }\n",
       "\n",
       "    .dataframe thead th {\n",
       "        text-align: right;\n",
       "    }\n",
       "</style>\n",
       "<table border=\"1\" class=\"dataframe\">\n",
       "  <thead>\n",
       "    <tr style=\"text-align: right;\">\n",
       "      <th></th>\n",
       "      <th>antecedents</th>\n",
       "      <th>consequents</th>\n",
       "      <th>antecedent support</th>\n",
       "      <th>consequent support</th>\n",
       "      <th>support</th>\n",
       "      <th>confidence</th>\n",
       "      <th>lift</th>\n",
       "      <th>leverage</th>\n",
       "      <th>conviction</th>\n",
       "    </tr>\n",
       "  </thead>\n",
       "  <tbody>\n",
       "    <tr>\n",
       "      <th>1</th>\n",
       "      <td>(alfajores)</td>\n",
       "      <td>(coffee)</td>\n",
       "      <td>0.036573</td>\n",
       "      <td>0.478637</td>\n",
       "      <td>0.019938</td>\n",
       "      <td>0.545171</td>\n",
       "      <td>1.139007</td>\n",
       "      <td>0.002433</td>\n",
       "      <td>1.146284</td>\n",
       "    </tr>\n",
       "    <tr>\n",
       "      <th>7</th>\n",
       "      <td>(cake)</td>\n",
       "      <td>(coffee)</td>\n",
       "      <td>0.103680</td>\n",
       "      <td>0.478637</td>\n",
       "      <td>0.054574</td>\n",
       "      <td>0.526374</td>\n",
       "      <td>1.099734</td>\n",
       "      <td>0.004949</td>\n",
       "      <td>1.100789</td>\n",
       "    </tr>\n",
       "    <tr>\n",
       "      <th>13</th>\n",
       "      <td>(cookies)</td>\n",
       "      <td>(coffee)</td>\n",
       "      <td>0.053207</td>\n",
       "      <td>0.478637</td>\n",
       "      <td>0.027686</td>\n",
       "      <td>0.520343</td>\n",
       "      <td>1.087133</td>\n",
       "      <td>0.002219</td>\n",
       "      <td>1.086948</td>\n",
       "    </tr>\n",
       "    <tr>\n",
       "      <th>14</th>\n",
       "      <td>(hot chocolate)</td>\n",
       "      <td>(coffee)</td>\n",
       "      <td>0.060955</td>\n",
       "      <td>0.478637</td>\n",
       "      <td>0.030990</td>\n",
       "      <td>0.508411</td>\n",
       "      <td>1.062205</td>\n",
       "      <td>0.001815</td>\n",
       "      <td>1.060567</td>\n",
       "    </tr>\n",
       "    <tr>\n",
       "      <th>17</th>\n",
       "      <td>(juice)</td>\n",
       "      <td>(coffee)</td>\n",
       "      <td>0.036459</td>\n",
       "      <td>0.478637</td>\n",
       "      <td>0.019369</td>\n",
       "      <td>0.531250</td>\n",
       "      <td>1.109922</td>\n",
       "      <td>0.001918</td>\n",
       "      <td>1.112240</td>\n",
       "    </tr>\n",
       "    <tr>\n",
       "      <th>19</th>\n",
       "      <td>(medialuna)</td>\n",
       "      <td>(coffee)</td>\n",
       "      <td>0.063917</td>\n",
       "      <td>0.478637</td>\n",
       "      <td>0.035889</td>\n",
       "      <td>0.561497</td>\n",
       "      <td>1.173116</td>\n",
       "      <td>0.005296</td>\n",
       "      <td>1.188961</td>\n",
       "    </tr>\n",
       "    <tr>\n",
       "      <th>23</th>\n",
       "      <td>(pastry)</td>\n",
       "      <td>(coffee)</td>\n",
       "      <td>0.086362</td>\n",
       "      <td>0.478637</td>\n",
       "      <td>0.047511</td>\n",
       "      <td>0.550132</td>\n",
       "      <td>1.149371</td>\n",
       "      <td>0.006174</td>\n",
       "      <td>1.158923</td>\n",
       "    </tr>\n",
       "    <tr>\n",
       "      <th>25</th>\n",
       "      <td>(sandwich)</td>\n",
       "      <td>(coffee)</td>\n",
       "      <td>0.071437</td>\n",
       "      <td>0.478637</td>\n",
       "      <td>0.038054</td>\n",
       "      <td>0.532695</td>\n",
       "      <td>1.112942</td>\n",
       "      <td>0.003862</td>\n",
       "      <td>1.115680</td>\n",
       "    </tr>\n",
       "    <tr>\n",
       "      <th>26</th>\n",
       "      <td>(scone)</td>\n",
       "      <td>(coffee)</td>\n",
       "      <td>0.035320</td>\n",
       "      <td>0.478637</td>\n",
       "      <td>0.018457</td>\n",
       "      <td>0.522581</td>\n",
       "      <td>1.091809</td>\n",
       "      <td>0.001552</td>\n",
       "      <td>1.092043</td>\n",
       "    </tr>\n",
       "    <tr>\n",
       "      <th>29</th>\n",
       "      <td>(spanish brunch)</td>\n",
       "      <td>(coffee)</td>\n",
       "      <td>0.017660</td>\n",
       "      <td>0.478637</td>\n",
       "      <td>0.010596</td>\n",
       "      <td>0.600000</td>\n",
       "      <td>1.253559</td>\n",
       "      <td>0.002143</td>\n",
       "      <td>1.303407</td>\n",
       "    </tr>\n",
       "    <tr>\n",
       "      <th>31</th>\n",
       "      <td>(toast)</td>\n",
       "      <td>(coffee)</td>\n",
       "      <td>0.033725</td>\n",
       "      <td>0.478637</td>\n",
       "      <td>0.023356</td>\n",
       "      <td>0.692568</td>\n",
       "      <td>1.446957</td>\n",
       "      <td>0.007215</td>\n",
       "      <td>1.695861</td>\n",
       "    </tr>\n",
       "  </tbody>\n",
       "</table>\n",
       "</div>"
      ],
      "text/plain": [
       "         antecedents consequents  antecedent support  consequent support  \\\n",
       "1        (alfajores)    (coffee)            0.036573            0.478637   \n",
       "7             (cake)    (coffee)            0.103680            0.478637   \n",
       "13         (cookies)    (coffee)            0.053207            0.478637   \n",
       "14   (hot chocolate)    (coffee)            0.060955            0.478637   \n",
       "17           (juice)    (coffee)            0.036459            0.478637   \n",
       "19       (medialuna)    (coffee)            0.063917            0.478637   \n",
       "23          (pastry)    (coffee)            0.086362            0.478637   \n",
       "25        (sandwich)    (coffee)            0.071437            0.478637   \n",
       "26           (scone)    (coffee)            0.035320            0.478637   \n",
       "29  (spanish brunch)    (coffee)            0.017660            0.478637   \n",
       "31           (toast)    (coffee)            0.033725            0.478637   \n",
       "\n",
       "     support  confidence      lift  leverage  conviction  \n",
       "1   0.019938    0.545171  1.139007  0.002433    1.146284  \n",
       "7   0.054574    0.526374  1.099734  0.004949    1.100789  \n",
       "13  0.027686    0.520343  1.087133  0.002219    1.086948  \n",
       "14  0.030990    0.508411  1.062205  0.001815    1.060567  \n",
       "17  0.019369    0.531250  1.109922  0.001918    1.112240  \n",
       "19  0.035889    0.561497  1.173116  0.005296    1.188961  \n",
       "23  0.047511    0.550132  1.149371  0.006174    1.158923  \n",
       "25  0.038054    0.532695  1.112942  0.003862    1.115680  \n",
       "26  0.018457    0.522581  1.091809  0.001552    1.092043  \n",
       "29  0.010596    0.600000  1.253559  0.002143    1.303407  \n",
       "31  0.023356    0.692568  1.446957  0.007215    1.695861  "
      ]
     },
     "execution_count": 53,
     "metadata": {},
     "output_type": "execute_result"
    }
   ],
   "source": [
    "bothrules = rules[ (rules['lift'] >= 1) & (rules['confidence'] >= 0.5)]\n",
    "bothrules"
   ]
  },
  {
   "cell_type": "code",
   "execution_count": 55,
   "metadata": {},
   "outputs": [
    {
     "data": {
      "text/plain": [
       "11"
      ]
     },
     "execution_count": 55,
     "metadata": {},
     "output_type": "execute_result"
    }
   ],
   "source": [
    "bothrules.shape[0]"
   ]
  },
  {
   "cell_type": "code",
   "execution_count": 56,
   "metadata": {},
   "outputs": [
    {
     "data": {
      "image/png": "[encoded data removed]",
      "text/plain": [
       "<matplotlib.figure.Figure at 0x1a3dfd090b8>"
      ]
     },
     "metadata": {
      "needs_background": "light"
     },
     "output_type": "display_data"
    }
   ],
   "source": [
    "support = bothrules['support']\n",
    "confidence = bothrules['confidence']\n",
    "plt.scatter(support, confidence, alpha=0.5, marker=\"*\")\n",
    "plt.xlabel('support')\n",
    "plt.ylabel('confidence') \n",
    "plt.show()"
   ]
  },
  {
   "cell_type": "code",
   "execution_count": 57,
   "metadata": {},
   "outputs": [
    {
     "data": {
      "image/png": "[encoded data removed]",
      "text/plain": [
       "<matplotlib.figure.Figure at 0x1a3dfd1b278>"
      ]
     },
     "metadata": {},
     "output_type": "display_data"
    }
   ],
   "source": [
    "import networkx as nx\n",
    "fig, ax=plt.subplots(figsize=(8,8))\n",
    "GA=nx.from_pandas_edgelist(bothrules,source='antecedents',target='consequents')\n",
    "nx.draw(GA,with_labels=True)\n",
    "plt.show()"
   ]
  },
  {
   "cell_type": "markdown",
   "metadata": {},
   "source": [
    "### 找出提升度與信心都大於50%的前三名"
   ]
  },
  {
   "cell_type": "code",
   "execution_count": 58,
   "metadata": {},
   "outputs": [
    {
     "data": {
      "text/html": [
       "<div>\n",
       "<style scoped>\n",
       "    .dataframe tbody tr th:only-of-type {\n",
       "        vertical-align: middle;\n",
       "    }\n",
       "\n",
       "    .dataframe tbody tr th {\n",
       "        vertical-align: top;\n",
       "    }\n",
       "\n",
       "    .dataframe thead th {\n",
       "        text-align: right;\n",
       "    }\n",
       "</style>\n",
       "<table border=\"1\" class=\"dataframe\">\n",
       "  <thead>\n",
       "    <tr style=\"text-align: right;\">\n",
       "      <th></th>\n",
       "      <th>antecedents</th>\n",
       "      <th>consequents</th>\n",
       "      <th>antecedent support</th>\n",
       "      <th>consequent support</th>\n",
       "      <th>support</th>\n",
       "      <th>confidence</th>\n",
       "      <th>lift</th>\n",
       "      <th>leverage</th>\n",
       "      <th>conviction</th>\n",
       "    </tr>\n",
       "  </thead>\n",
       "  <tbody>\n",
       "    <tr>\n",
       "      <th>31</th>\n",
       "      <td>(toast)</td>\n",
       "      <td>(coffee)</td>\n",
       "      <td>0.033725</td>\n",
       "      <td>0.478637</td>\n",
       "      <td>0.023356</td>\n",
       "      <td>0.692568</td>\n",
       "      <td>1.446957</td>\n",
       "      <td>0.007215</td>\n",
       "      <td>1.695861</td>\n",
       "    </tr>\n",
       "    <tr>\n",
       "      <th>29</th>\n",
       "      <td>(spanish brunch)</td>\n",
       "      <td>(coffee)</td>\n",
       "      <td>0.017660</td>\n",
       "      <td>0.478637</td>\n",
       "      <td>0.010596</td>\n",
       "      <td>0.600000</td>\n",
       "      <td>1.253559</td>\n",
       "      <td>0.002143</td>\n",
       "      <td>1.303407</td>\n",
       "    </tr>\n",
       "    <tr>\n",
       "      <th>19</th>\n",
       "      <td>(medialuna)</td>\n",
       "      <td>(coffee)</td>\n",
       "      <td>0.063917</td>\n",
       "      <td>0.478637</td>\n",
       "      <td>0.035889</td>\n",
       "      <td>0.561497</td>\n",
       "      <td>1.173116</td>\n",
       "      <td>0.005296</td>\n",
       "      <td>1.188961</td>\n",
       "    </tr>\n",
       "  </tbody>\n",
       "</table>\n",
       "</div>"
      ],
      "text/plain": [
       "         antecedents consequents  antecedent support  consequent support  \\\n",
       "31           (toast)    (coffee)            0.033725            0.478637   \n",
       "29  (spanish brunch)    (coffee)            0.017660            0.478637   \n",
       "19       (medialuna)    (coffee)            0.063917            0.478637   \n",
       "\n",
       "     support  confidence      lift  leverage  conviction  \n",
       "31  0.023356    0.692568  1.446957  0.007215    1.695861  \n",
       "29  0.010596    0.600000  1.253559  0.002143    1.303407  \n",
       "19  0.035889    0.561497  1.173116  0.005296    1.188961  "
      ]
     },
     "metadata": {},
     "output_type": "display_data"
    },
    {
     "data": {
      "text/html": [
       "<div>\n",
       "<style scoped>\n",
       "    .dataframe tbody tr th:only-of-type {\n",
       "        vertical-align: middle;\n",
       "    }\n",
       "\n",
       "    .dataframe tbody tr th {\n",
       "        vertical-align: top;\n",
       "    }\n",
       "\n",
       "    .dataframe thead th {\n",
       "        text-align: right;\n",
       "    }\n",
       "</style>\n",
       "<table border=\"1\" class=\"dataframe\">\n",
       "  <thead>\n",
       "    <tr style=\"text-align: right;\">\n",
       "      <th></th>\n",
       "      <th>antecedents</th>\n",
       "      <th>consequents</th>\n",
       "      <th>antecedent support</th>\n",
       "      <th>consequent support</th>\n",
       "      <th>support</th>\n",
       "      <th>confidence</th>\n",
       "      <th>lift</th>\n",
       "      <th>leverage</th>\n",
       "      <th>conviction</th>\n",
       "    </tr>\n",
       "  </thead>\n",
       "  <tbody>\n",
       "    <tr>\n",
       "      <th>31</th>\n",
       "      <td>(toast)</td>\n",
       "      <td>(coffee)</td>\n",
       "      <td>0.033725</td>\n",
       "      <td>0.478637</td>\n",
       "      <td>0.023356</td>\n",
       "      <td>0.692568</td>\n",
       "      <td>1.446957</td>\n",
       "      <td>0.007215</td>\n",
       "      <td>1.695861</td>\n",
       "    </tr>\n",
       "    <tr>\n",
       "      <th>29</th>\n",
       "      <td>(spanish brunch)</td>\n",
       "      <td>(coffee)</td>\n",
       "      <td>0.017660</td>\n",
       "      <td>0.478637</td>\n",
       "      <td>0.010596</td>\n",
       "      <td>0.600000</td>\n",
       "      <td>1.253559</td>\n",
       "      <td>0.002143</td>\n",
       "      <td>1.303407</td>\n",
       "    </tr>\n",
       "    <tr>\n",
       "      <th>19</th>\n",
       "      <td>(medialuna)</td>\n",
       "      <td>(coffee)</td>\n",
       "      <td>0.063917</td>\n",
       "      <td>0.478637</td>\n",
       "      <td>0.035889</td>\n",
       "      <td>0.561497</td>\n",
       "      <td>1.173116</td>\n",
       "      <td>0.005296</td>\n",
       "      <td>1.188961</td>\n",
       "    </tr>\n",
       "  </tbody>\n",
       "</table>\n",
       "</div>"
      ],
      "text/plain": [
       "         antecedents consequents  antecedent support  consequent support  \\\n",
       "31           (toast)    (coffee)            0.033725            0.478637   \n",
       "29  (spanish brunch)    (coffee)            0.017660            0.478637   \n",
       "19       (medialuna)    (coffee)            0.063917            0.478637   \n",
       "\n",
       "     support  confidence      lift  leverage  conviction  \n",
       "31  0.023356    0.692568  1.446957  0.007215    1.695861  \n",
       "29  0.010596    0.600000  1.253559  0.002143    1.303407  \n",
       "19  0.035889    0.561497  1.173116  0.005296    1.188961  "
      ]
     },
     "metadata": {},
     "output_type": "display_data"
    }
   ],
   "source": [
    "display(bothrules.sort_values(ascending=False, by=['lift']).head(3),bothrules.sort_values(ascending=False, by=['confidence']).head(3))"
   ]
  },
  {
   "cell_type": "markdown",
   "metadata": {},
   "source": [
    "> **吐司(toast)、西班牙早午餐(spanish brunch)、牛角麵包(medialuna)**"
   ]
  },
  {
   "cell_type": "markdown",
   "metadata": {},
   "source": [
    "## 我們發現\n",
    "\n",
    "* 符合信心和提升度都大於50%的品項中，對應後者全部都是**咖啡(coffee)**\n",
    "* 吐司(toast)、西班牙早午餐(spanish brunch)、牛角麵包(medialuna)三者都不是熱銷前5的商品\n",
    "* 牛角麵包大約熱銷第7名，吐司熱銷第15但不是尖峰時刻的熱銷商品，西班牙早午餐根本沒上榜"
   ]
  },
  {
   "cell_type": "markdown",
   "metadata": {},
   "source": [
    "---"
   ]
  },
  {
   "cell_type": "markdown",
   "metadata": {},
   "source": [
    "# V 進一部探討這三個商品\n",
    "> 吐司(toast)、西班牙早午餐(spanish brunch)、牛角麵包(medialuna)的消費時間分布"
   ]
  },
  {
   "cell_type": "markdown",
   "metadata": {},
   "source": [
    "### 吐司(toast)"
   ]
  },
  {
   "cell_type": "code",
   "execution_count": 62,
   "metadata": {},
   "outputs": [
    {
     "name": "stdout",
     "output_type": "stream",
     "text": [
      "9     62\n",
      "10    58\n",
      "11    51\n",
      "12    40\n",
      "13    22\n",
      "Name: Hours, dtype: int64\n"
     ]
    },
    {
     "data": {
      "text/plain": [
       "Text(0.5,1,'Peak of Toast')"
      ]
     },
     "execution_count": 62,
     "metadata": {},
     "output_type": "execute_result"
    },
    {
     "data": {
      "image/png": "[encoded data removed]",
      "text/plain": [
       "<matplotlib.figure.Figure at 0x1a3dd7e1780>"
      ]
     },
     "metadata": {
      "needs_background": "light"
     },
     "output_type": "display_data"
    }
   ],
   "source": [
    "ddf = df[[\"Item\",\"Hours\"]]\n",
    "toast_df = ddf[ddf['Item'].isin(['toast'])] # 留下toast的消費時間資料\n",
    "toast_df['Hours'].value_counts().head(5).plot(kind=\"barh\")\n",
    "print(toast_df['Hours'].value_counts().head(5))\n",
    "plt.title(\"Peak of Toast\")"
   ]
  },
  {
   "cell_type": "markdown",
   "metadata": {},
   "source": [
    "### 西班牙早午餐(spanish brunch)"
   ]
  },
  {
   "cell_type": "code",
   "execution_count": 63,
   "metadata": {},
   "outputs": [
    {
     "name": "stdout",
     "output_type": "stream",
     "text": [
      "13    32\n",
      "14    29\n",
      "12    29\n",
      "11    20\n",
      "15    19\n",
      "Name: Hours, dtype: int64\n"
     ]
    },
    {
     "data": {
      "text/plain": [
       "Text(0.5,1,'Peak of Spanish Brunch')"
      ]
     },
     "execution_count": 63,
     "metadata": {},
     "output_type": "execute_result"
    },
    {
     "data": {
      "image/png": "[encoded data removed]",
      "text/plain": [
       "<matplotlib.figure.Figure at 0x1a3dd800390>"
      ]
     },
     "metadata": {
      "needs_background": "light"
     },
     "output_type": "display_data"
    }
   ],
   "source": [
    "spanish_brunch_df = ddf[ddf['Item'].isin(['spanish brunch'])] # 留下spanish brunch的消費時間資料\n",
    "spanish_brunch_df['Hours'].value_counts().head(5).plot(kind=\"barh\")\n",
    "print(spanish_brunch_df['Hours'].value_counts().head(5))\n",
    "plt.title(\"Peak of Spanish Brunch\")"
   ]
  },
  {
   "cell_type": "markdown",
   "metadata": {},
   "source": [
    "### 牛角麵包(medialuna)"
   ]
  },
  {
   "cell_type": "code",
   "execution_count": 64,
   "metadata": {},
   "outputs": [
    {
     "name": "stdout",
     "output_type": "stream",
     "text": [
      "9     117\n",
      "10    114\n",
      "11    107\n",
      "12     52\n",
      "14     46\n",
      "Name: Hours, dtype: int64\n"
     ]
    },
    {
     "data": {
      "text/plain": [
       "Text(0.5,1,'Peak of Medialuna')"
      ]
     },
     "execution_count": 64,
     "metadata": {},
     "output_type": "execute_result"
    },
    {
     "data": {
      "image/png": "[encoded data removed]",
      "text/plain": [
       "<matplotlib.figure.Figure at 0x1a3ddd1ff60>"
      ]
     },
     "metadata": {
      "needs_background": "light"
     },
     "output_type": "display_data"
    }
   ],
   "source": [
    "medialuna_df = ddf[ddf['Item'].isin(['medialuna'])] # 留下medialuna的消費時間資料\n",
    "medialuna_df['Hours'].value_counts().head(5).plot(kind=\"barh\")\n",
    "print(medialuna_df['Hours'].value_counts().head(5))\n",
    "plt.title(\"Peak of Medialuna\")"
   ]
  },
  {
   "cell_type": "markdown",
   "metadata": {},
   "source": [
    "### 我們發現\n",
    "> 吐司(toast)：幾乎是作為**早餐**的選擇  \n",
    "> 西班牙早午餐(spanish brunch)：幾乎是作為**午餐或下午茶**的選擇  \n",
    "> 牛角麵包(medialuna)：幾乎是作為**早餐或午餐**的選擇  "
   ]
  },
  {
   "cell_type": "code",
   "execution_count": null,
   "metadata": {},
   "outputs": [],
   "source": []
  }
 ],
 "metadata": {
  "kernelspec": {
   "display_name": "Python 3",
   "language": "python",
   "name": "python3"
  },
  "language_info": {
   "codemirror_mode": {
    "name": "ipython",
    "version": 3
   },
   "file_extension": ".py",
   "mimetype": "text/x-python",
   "name": "python",
   "nbconvert_exporter": "python",
   "pygments_lexer": "ipython3",
   "version": "3.6.4"
  }
 },
 "nbformat": 4,
 "nbformat_minor": 2
}
