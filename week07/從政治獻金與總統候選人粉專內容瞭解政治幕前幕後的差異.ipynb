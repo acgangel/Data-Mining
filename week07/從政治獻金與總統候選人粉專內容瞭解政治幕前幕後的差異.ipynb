{
 "cells": [
  {
   "cell_type": "markdown",
   "metadata": {},
   "source": [
    "# 從政治獻金與總統候選人粉專內容瞭解政治幕前幕後的差異"
   ]
  },
  {
   "cell_type": "markdown",
   "metadata": {},
   "source": [
    "## 分為兩種分析：\n",
    "### 1. 幕後：政黨背後的金援支持者\n",
    "  * 利用最近期的政治獻金做分析(107年)  \n",
    "  * 資料來源：[監察院- 政治獻金公開查閱平臺](https://ardata.cy.gov.tw/home)  \n",
    "  \n",
    "### 2. 幕前：2020總統大選網路風向情形\n",
    "  * 利用總統候選人的FB粉專發文內容，來了解網路政治風向  \n",
    "  * 時間：2019/1/1-2019/11/30  \n",
    "  * [Fanpage Karma](https://www.fanpagekarma.com/)"
   ]
  },
  {
   "cell_type": "markdown",
   "metadata": {},
   "source": [
    "---"
   ]
  },
  {
   "cell_type": "markdown",
   "metadata": {},
   "source": [
    "# 【幕後】 "
   ]
  },
  {
   "cell_type": "markdown",
   "metadata": {},
   "source": [
    "# I. Preparion"
   ]
  },
  {
   "cell_type": "markdown",
   "metadata": {},
   "source": [
    "### 匯入套件"
   ]
  },
  {
   "cell_type": "code",
   "execution_count": 387,
   "metadata": {},
   "outputs": [],
   "source": [
    "import pandas as pd\n",
    "import numpy as np\n",
    "import datetime\n",
    "import seaborn as sns\n",
    "\n",
    "import matplotlib.pyplot as plt\n",
    "from matplotlib import font_manager\n",
    "my_font = font_manager.FontProperties(fname=r'C:/Users/acgan/Desktop/Anaconda/NLP/TF-IDF/NotoSansCJKtc-Regular.otf')\n",
    "%matplotlib inline"
   ]
  },
  {
   "cell_type": "markdown",
   "metadata": {},
   "source": [
    "### 匯入文檔"
   ]
  },
  {
   "cell_type": "code",
   "execution_count": 2,
   "metadata": {},
   "outputs": [],
   "source": [
    "DDT = pd.read_csv(r'C:\\Users\\acgan\\Desktop\\Anaconda\\Data Mining\\week7\\Data\\DDT\\incomes.csv', encoding=\"UTF-8\")"
   ]
  },
  {
   "cell_type": "code",
   "execution_count": 3,
   "metadata": {},
   "outputs": [],
   "source": [
    "KMT = pd.read_csv(r'C:\\Users\\acgan\\Desktop\\Anaconda\\Data Mining\\week7\\Data\\KMT\\incomes.csv', encoding = 'big5hkscs')"
   ]
  },
  {
   "cell_type": "code",
   "execution_count": 4,
   "metadata": {},
   "outputs": [],
   "source": [
    "PFP = pd.read_csv(r'C:\\Users\\acgan\\Desktop\\Anaconda\\Data Mining\\week7\\Data\\PFP\\incomes.csv', encoding=\"UTF-8\")"
   ]
  },
  {
   "cell_type": "code",
   "execution_count": 5,
   "metadata": {},
   "outputs": [
    {
     "data": {
      "text/html": [
       "<div>\n",
       "<style scoped>\n",
       "    .dataframe tbody tr th:only-of-type {\n",
       "        vertical-align: middle;\n",
       "    }\n",
       "\n",
       "    .dataframe tbody tr th {\n",
       "        vertical-align: top;\n",
       "    }\n",
       "\n",
       "    .dataframe thead th {\n",
       "        text-align: right;\n",
       "    }\n",
       "</style>\n",
       "<table border=\"1\" class=\"dataframe\">\n",
       "  <thead>\n",
       "    <tr style=\"text-align: right;\">\n",
       "      <th></th>\n",
       "      <th>序號</th>\n",
       "      <th>擬參選人／政黨</th>\n",
       "      <th>選舉名稱</th>\n",
       "      <th>申報序號／年度</th>\n",
       "      <th>交易日期</th>\n",
       "      <th>收支科目</th>\n",
       "      <th>捐贈者／支出對象</th>\n",
       "      <th>身分證／統一編號</th>\n",
       "      <th>收入金額</th>\n",
       "      <th>支出金額</th>\n",
       "      <th>支出用途</th>\n",
       "      <th>金錢類</th>\n",
       "      <th>地址</th>\n",
       "      <th>聯絡電話</th>\n",
       "      <th>資料更正日期</th>\n",
       "    </tr>\n",
       "  </thead>\n",
       "  <tbody>\n",
       "    <tr>\n",
       "      <th>0</th>\n",
       "      <td>1</td>\n",
       "      <td>民主進步黨</td>\n",
       "      <td>NaN</td>\n",
       "      <td>107</td>\n",
       "      <td>1070101</td>\n",
       "      <td>個人捐贈收入</td>\n",
       "      <td>陳芝菁</td>\n",
       "      <td>NaN</td>\n",
       "      <td>432.0</td>\n",
       "      <td>0.0</td>\n",
       "      <td>NaN</td>\n",
       "      <td>金錢</td>\n",
       "      <td>台中市龍井區****</td>\n",
       "      <td>NaN</td>\n",
       "      <td>NaN</td>\n",
       "    </tr>\n",
       "    <tr>\n",
       "      <th>1</th>\n",
       "      <td>2</td>\n",
       "      <td>民主進步黨</td>\n",
       "      <td>NaN</td>\n",
       "      <td>107</td>\n",
       "      <td>1070102</td>\n",
       "      <td>個人捐贈收入</td>\n",
       "      <td>唐碧娥</td>\n",
       "      <td>D22*******</td>\n",
       "      <td>220000.0</td>\n",
       "      <td>0.0</td>\n",
       "      <td>NaN</td>\n",
       "      <td>金錢</td>\n",
       "      <td>台南市北區和****</td>\n",
       "      <td>NaN</td>\n",
       "      <td>NaN</td>\n",
       "    </tr>\n",
       "    <tr>\n",
       "      <th>2</th>\n",
       "      <td>3</td>\n",
       "      <td>民主進步黨</td>\n",
       "      <td>NaN</td>\n",
       "      <td>107</td>\n",
       "      <td>1070102</td>\n",
       "      <td>個人捐贈收入</td>\n",
       "      <td>張山文</td>\n",
       "      <td>D12*******</td>\n",
       "      <td>400.0</td>\n",
       "      <td>0.0</td>\n",
       "      <td>NaN</td>\n",
       "      <td>金錢</td>\n",
       "      <td>高雄市楠梓區****</td>\n",
       "      <td>NaN</td>\n",
       "      <td>NaN</td>\n",
       "    </tr>\n",
       "  </tbody>\n",
       "</table>\n",
       "</div>"
      ],
      "text/plain": [
       "   序號 擬參選人／政黨  選舉名稱  申報序號／年度     交易日期    收支科目 捐贈者／支出對象    身分證／統一編號      收入金額  \\\n",
       "0   1   民主進步黨   NaN      107  1070101  個人捐贈收入      陳芝菁         NaN     432.0   \n",
       "1   2   民主進步黨   NaN      107  1070102  個人捐贈收入      唐碧娥  D22*******  220000.0   \n",
       "2   3   民主進步黨   NaN      107  1070102  個人捐贈收入      張山文  D12*******     400.0   \n",
       "\n",
       "   支出金額  支出用途 金錢類          地址 聯絡電話  資料更正日期  \n",
       "0   0.0   NaN  金錢  台中市龍井區****  NaN     NaN  \n",
       "1   0.0   NaN  金錢  台南市北區和****  NaN     NaN  \n",
       "2   0.0   NaN  金錢  高雄市楠梓區****  NaN     NaN  "
      ]
     },
     "metadata": {},
     "output_type": "display_data"
    },
    {
     "data": {
      "text/html": [
       "<div>\n",
       "<style scoped>\n",
       "    .dataframe tbody tr th:only-of-type {\n",
       "        vertical-align: middle;\n",
       "    }\n",
       "\n",
       "    .dataframe tbody tr th {\n",
       "        vertical-align: top;\n",
       "    }\n",
       "\n",
       "    .dataframe thead th {\n",
       "        text-align: right;\n",
       "    }\n",
       "</style>\n",
       "<table border=\"1\" class=\"dataframe\">\n",
       "  <thead>\n",
       "    <tr style=\"text-align: right;\">\n",
       "      <th></th>\n",
       "      <th>序號</th>\n",
       "      <th>擬參選人／政黨</th>\n",
       "      <th>選舉名稱</th>\n",
       "      <th>申報序號／年度</th>\n",
       "      <th>交易日期</th>\n",
       "      <th>收支科目</th>\n",
       "      <th>捐贈者／支出對象</th>\n",
       "      <th>身分證／統一編號</th>\n",
       "      <th>收入金額</th>\n",
       "      <th>支出金額</th>\n",
       "      <th>支出用途</th>\n",
       "      <th>金錢類</th>\n",
       "      <th>地址</th>\n",
       "      <th>聯絡電話</th>\n",
       "      <th>資料更正日期</th>\n",
       "    </tr>\n",
       "  </thead>\n",
       "  <tbody>\n",
       "    <tr>\n",
       "      <th>0</th>\n",
       "      <td>1</td>\n",
       "      <td>中國國民黨</td>\n",
       "      <td>NaN</td>\n",
       "      <td>107</td>\n",
       "      <td>1070102</td>\n",
       "      <td>個人捐贈收入</td>\n",
       "      <td>陳寶生</td>\n",
       "      <td>A12*******</td>\n",
       "      <td>300</td>\n",
       "      <td>0</td>\n",
       "      <td>NaN</td>\n",
       "      <td>金錢</td>\n",
       "      <td>台中市沙鹿區****</td>\n",
       "      <td>NaN</td>\n",
       "      <td>NaN</td>\n",
       "    </tr>\n",
       "    <tr>\n",
       "      <th>1</th>\n",
       "      <td>2</td>\n",
       "      <td>中國國民黨</td>\n",
       "      <td>NaN</td>\n",
       "      <td>107</td>\n",
       "      <td>1070103</td>\n",
       "      <td>營利事業捐贈收入</td>\n",
       "      <td>福安礦業股份有限公司</td>\n",
       "      <td>27483964</td>\n",
       "      <td>1000000</td>\n",
       "      <td>0</td>\n",
       "      <td>NaN</td>\n",
       "      <td>金錢</td>\n",
       "      <td>宜蘭縣宜蘭市****</td>\n",
       "      <td>NaN</td>\n",
       "      <td>NaN</td>\n",
       "    </tr>\n",
       "    <tr>\n",
       "      <th>2</th>\n",
       "      <td>3</td>\n",
       "      <td>中國國民黨</td>\n",
       "      <td>NaN</td>\n",
       "      <td>107</td>\n",
       "      <td>1070103</td>\n",
       "      <td>個人捐贈收入</td>\n",
       "      <td>齊祿祉</td>\n",
       "      <td>B22*******</td>\n",
       "      <td>2000</td>\n",
       "      <td>0</td>\n",
       "      <td>NaN</td>\n",
       "      <td>金錢</td>\n",
       "      <td>台中市北屯區****</td>\n",
       "      <td>NaN</td>\n",
       "      <td>NaN</td>\n",
       "    </tr>\n",
       "  </tbody>\n",
       "</table>\n",
       "</div>"
      ],
      "text/plain": [
       "   序號 擬參選人／政黨  選舉名稱  申報序號／年度     交易日期      收支科目    捐贈者／支出對象    身分證／統一編號  \\\n",
       "0   1   中國國民黨   NaN      107  1070102    個人捐贈收入         陳寶生  A12*******   \n",
       "1   2   中國國民黨   NaN      107  1070103  營利事業捐贈收入  福安礦業股份有限公司    27483964   \n",
       "2   3   中國國民黨   NaN      107  1070103    個人捐贈收入         齊祿祉  B22*******   \n",
       "\n",
       "      收入金額  支出金額  支出用途 金錢類          地址 聯絡電話  資料更正日期  \n",
       "0      300     0   NaN  金錢  台中市沙鹿區****  NaN     NaN  \n",
       "1  1000000     0   NaN  金錢  宜蘭縣宜蘭市****  NaN     NaN  \n",
       "2     2000     0   NaN  金錢  台中市北屯區****  NaN     NaN  "
      ]
     },
     "metadata": {},
     "output_type": "display_data"
    },
    {
     "data": {
      "text/html": [
       "<div>\n",
       "<style scoped>\n",
       "    .dataframe tbody tr th:only-of-type {\n",
       "        vertical-align: middle;\n",
       "    }\n",
       "\n",
       "    .dataframe tbody tr th {\n",
       "        vertical-align: top;\n",
       "    }\n",
       "\n",
       "    .dataframe thead th {\n",
       "        text-align: right;\n",
       "    }\n",
       "</style>\n",
       "<table border=\"1\" class=\"dataframe\">\n",
       "  <thead>\n",
       "    <tr style=\"text-align: right;\">\n",
       "      <th></th>\n",
       "      <th>序號</th>\n",
       "      <th>擬參選人／政黨</th>\n",
       "      <th>選舉名稱</th>\n",
       "      <th>申報序號／年度</th>\n",
       "      <th>交易日期</th>\n",
       "      <th>收支科目</th>\n",
       "      <th>捐贈者／支出對象</th>\n",
       "      <th>身分證／統一編號</th>\n",
       "      <th>收入金額</th>\n",
       "      <th>支出金額</th>\n",
       "      <th>支出用途</th>\n",
       "      <th>金錢類</th>\n",
       "      <th>地址</th>\n",
       "      <th>聯絡電話</th>\n",
       "      <th>資料更正日期</th>\n",
       "    </tr>\n",
       "  </thead>\n",
       "  <tbody>\n",
       "    <tr>\n",
       "      <th>0</th>\n",
       "      <td>1</td>\n",
       "      <td>親民黨</td>\n",
       "      <td>NaN</td>\n",
       "      <td>107</td>\n",
       "      <td>1070102</td>\n",
       "      <td>個人捐贈收入</td>\n",
       "      <td>林家安</td>\n",
       "      <td>A12*******</td>\n",
       "      <td>107.0</td>\n",
       "      <td>0.0</td>\n",
       "      <td>NaN</td>\n",
       "      <td>金錢</td>\n",
       "      <td>臺北市士林區****</td>\n",
       "      <td>NaN</td>\n",
       "      <td>NaN</td>\n",
       "    </tr>\n",
       "    <tr>\n",
       "      <th>1</th>\n",
       "      <td>2</td>\n",
       "      <td>親民黨</td>\n",
       "      <td>NaN</td>\n",
       "      <td>107</td>\n",
       "      <td>1070109</td>\n",
       "      <td>個人捐贈收入</td>\n",
       "      <td>朱建成</td>\n",
       "      <td>D10*******</td>\n",
       "      <td>600.0</td>\n",
       "      <td>0.0</td>\n",
       "      <td>NaN</td>\n",
       "      <td>金錢</td>\n",
       "      <td>臺北市松山區****</td>\n",
       "      <td>NaN</td>\n",
       "      <td>NaN</td>\n",
       "    </tr>\n",
       "    <tr>\n",
       "      <th>2</th>\n",
       "      <td>3</td>\n",
       "      <td>親民黨</td>\n",
       "      <td>NaN</td>\n",
       "      <td>107</td>\n",
       "      <td>1070117</td>\n",
       "      <td>個人捐贈收入</td>\n",
       "      <td>周陳秀霞</td>\n",
       "      <td>R22*******</td>\n",
       "      <td>100000.0</td>\n",
       "      <td>0.0</td>\n",
       "      <td>NaN</td>\n",
       "      <td>金錢</td>\n",
       "      <td>臺南市玉井區****</td>\n",
       "      <td>NaN</td>\n",
       "      <td>NaN</td>\n",
       "    </tr>\n",
       "  </tbody>\n",
       "</table>\n",
       "</div>"
      ],
      "text/plain": [
       "   序號 擬參選人／政黨  選舉名稱  申報序號／年度     交易日期    收支科目 捐贈者／支出對象    身分證／統一編號      收入金額  \\\n",
       "0   1     親民黨   NaN      107  1070102  個人捐贈收入      林家安  A12*******     107.0   \n",
       "1   2     親民黨   NaN      107  1070109  個人捐贈收入      朱建成  D10*******     600.0   \n",
       "2   3     親民黨   NaN      107  1070117  個人捐贈收入     周陳秀霞  R22*******  100000.0   \n",
       "\n",
       "   支出金額  支出用途 金錢類          地址  聯絡電話  資料更正日期  \n",
       "0   0.0   NaN  金錢  臺北市士林區****   NaN     NaN  \n",
       "1   0.0   NaN  金錢  臺北市松山區****   NaN     NaN  \n",
       "2   0.0   NaN  金錢  臺南市玉井區****   NaN     NaN  "
      ]
     },
     "metadata": {},
     "output_type": "display_data"
    }
   ],
   "source": [
    "display(DDT.head(3),KMT.head(3),PFP.head(3))"
   ]
  },
  {
   "cell_type": "markdown",
   "metadata": {},
   "source": [
    "---"
   ]
  },
  {
   "cell_type": "markdown",
   "metadata": {},
   "source": [
    "# II. Pre-processing"
   ]
  },
  {
   "cell_type": "markdown",
   "metadata": {},
   "source": [
    "### 資料表欄位是否相同"
   ]
  },
  {
   "cell_type": "code",
   "execution_count": 6,
   "metadata": {},
   "outputs": [
    {
     "name": "stdout",
     "output_type": "stream",
     "text": [
      "Yes\n"
     ]
    }
   ],
   "source": [
    "if len(DDT.columns.values) == len(KMT.columns.values) == len(PFP.columns.values):\n",
    "    print('Yes')\n",
    "else:\n",
    "    print('No')"
   ]
  },
  {
   "cell_type": "markdown",
   "metadata": {},
   "source": [
    "### 整理政黨資料表"
   ]
  },
  {
   "cell_type": "code",
   "execution_count": 7,
   "metadata": {},
   "outputs": [
    {
     "data": {
      "text/plain": [
       "array(['序號', '擬參選人／政黨', '選舉名稱', '申報序號／年度', '交易日期', '收支科目', '捐贈者／支出對象',\n",
       "       '身分證／統一編號', '收入金額', '支出金額', '支出用途', '金錢類', '地址', '聯絡電話', '資料更正日期'],\n",
       "      dtype=object)"
      ]
     },
     "execution_count": 7,
     "metadata": {},
     "output_type": "execute_result"
    }
   ],
   "source": [
    "DDT.columns.values"
   ]
  },
  {
   "cell_type": "markdown",
   "metadata": {},
   "source": [
    "#### DDT"
   ]
  },
  {
   "cell_type": "code",
   "execution_count": 8,
   "metadata": {},
   "outputs": [],
   "source": [
    "DDT = DDT[['擬參選人／政黨','交易日期', '收支科目', '捐贈者／支出對象', '收入金額', '地址']]\n",
    "DDT.rename(columns={\"擬參選人／政黨\": \"政黨\", \"捐贈者／支出對象\": \"捐贈者\"},inplace=True)"
   ]
  },
  {
   "cell_type": "code",
   "execution_count": 9,
   "metadata": {},
   "outputs": [],
   "source": [
    "DDT['交易日'] = DDT['交易日期'].astype(str)\n",
    "DDT['捐贈月'] = DDT['交易日'].str.slice(3,5)\n",
    "DDT['捐贈日'] = DDT['交易日'].str.slice(5)\n",
    "DDT['捐贈地區'] = DDT['地址'].str.slice(0,3)"
   ]
  },
  {
   "cell_type": "code",
   "execution_count": 10,
   "metadata": {},
   "outputs": [],
   "source": [
    "DDT.drop(columns=['地址','交易日'],inplace=True)"
   ]
  },
  {
   "cell_type": "markdown",
   "metadata": {},
   "source": [
    "#### KMT"
   ]
  },
  {
   "cell_type": "code",
   "execution_count": 11,
   "metadata": {},
   "outputs": [],
   "source": [
    "KMT = KMT[['擬參選人／政黨','交易日期', '收支科目', '捐贈者／支出對象', '收入金額', '地址']]\n",
    "KMT.rename(columns={\"擬參選人／政黨\": \"政黨\", \"捐贈者／支出對象\": \"捐贈者\"},inplace=True)"
   ]
  },
  {
   "cell_type": "code",
   "execution_count": 12,
   "metadata": {},
   "outputs": [],
   "source": [
    "KMT['交易日'] = KMT['交易日期'].astype(str)\n",
    "KMT['捐贈月'] = KMT['交易日'].str.slice(3,5)\n",
    "KMT['捐贈日'] = KMT['交易日'].str.slice(5)\n",
    "KMT['捐贈地區'] = KMT['地址'].str.slice(0,3)"
   ]
  },
  {
   "cell_type": "code",
   "execution_count": 13,
   "metadata": {},
   "outputs": [],
   "source": [
    "KMT.drop(columns=['地址','交易日'],inplace=True)"
   ]
  },
  {
   "cell_type": "markdown",
   "metadata": {},
   "source": [
    "#### PFP"
   ]
  },
  {
   "cell_type": "code",
   "execution_count": 14,
   "metadata": {},
   "outputs": [],
   "source": [
    "PFP = PFP[['擬參選人／政黨','交易日期', '收支科目', '捐贈者／支出對象', '收入金額', '地址']]\n",
    "PFP.rename(columns={\"擬參選人／政黨\": \"政黨\", \"捐贈者／支出對象\": \"捐贈者\"},inplace=True)"
   ]
  },
  {
   "cell_type": "code",
   "execution_count": 15,
   "metadata": {},
   "outputs": [],
   "source": [
    "PFP['交易日'] = PFP['交易日期'].astype(str)\n",
    "PFP['捐贈月'] = PFP['交易日'].str.slice(3,5)\n",
    "PFP['捐贈日'] = PFP['交易日'].str.slice(5)\n",
    "PFP['捐贈地區'] = PFP['地址'].str.slice(0,3)"
   ]
  },
  {
   "cell_type": "code",
   "execution_count": 16,
   "metadata": {},
   "outputs": [],
   "source": [
    "PFP.drop(columns=['地址','交易日'],inplace=True)"
   ]
  },
  {
   "cell_type": "code",
   "execution_count": 17,
   "metadata": {},
   "outputs": [
    {
     "data": {
      "text/html": [
       "<div>\n",
       "<style scoped>\n",
       "    .dataframe tbody tr th:only-of-type {\n",
       "        vertical-align: middle;\n",
       "    }\n",
       "\n",
       "    .dataframe tbody tr th {\n",
       "        vertical-align: top;\n",
       "    }\n",
       "\n",
       "    .dataframe thead th {\n",
       "        text-align: right;\n",
       "    }\n",
       "</style>\n",
       "<table border=\"1\" class=\"dataframe\">\n",
       "  <thead>\n",
       "    <tr style=\"text-align: right;\">\n",
       "      <th></th>\n",
       "      <th>政黨</th>\n",
       "      <th>交易日期</th>\n",
       "      <th>收支科目</th>\n",
       "      <th>捐贈者</th>\n",
       "      <th>收入金額</th>\n",
       "      <th>捐贈月</th>\n",
       "      <th>捐贈日</th>\n",
       "      <th>捐贈地區</th>\n",
       "    </tr>\n",
       "  </thead>\n",
       "  <tbody>\n",
       "    <tr>\n",
       "      <th>0</th>\n",
       "      <td>民主進步黨</td>\n",
       "      <td>1070101</td>\n",
       "      <td>個人捐贈收入</td>\n",
       "      <td>陳芝菁</td>\n",
       "      <td>432.0</td>\n",
       "      <td>01</td>\n",
       "      <td>01</td>\n",
       "      <td>台中市</td>\n",
       "    </tr>\n",
       "    <tr>\n",
       "      <th>1</th>\n",
       "      <td>民主進步黨</td>\n",
       "      <td>1070102</td>\n",
       "      <td>個人捐贈收入</td>\n",
       "      <td>唐碧娥</td>\n",
       "      <td>220000.0</td>\n",
       "      <td>01</td>\n",
       "      <td>02</td>\n",
       "      <td>台南市</td>\n",
       "    </tr>\n",
       "    <tr>\n",
       "      <th>2</th>\n",
       "      <td>民主進步黨</td>\n",
       "      <td>1070102</td>\n",
       "      <td>個人捐贈收入</td>\n",
       "      <td>張山文</td>\n",
       "      <td>400.0</td>\n",
       "      <td>01</td>\n",
       "      <td>02</td>\n",
       "      <td>高雄市</td>\n",
       "    </tr>\n",
       "    <tr>\n",
       "      <th>3</th>\n",
       "      <td>民主進步黨</td>\n",
       "      <td>1070102</td>\n",
       "      <td>個人捐贈收入</td>\n",
       "      <td>張榮哲</td>\n",
       "      <td>10000.0</td>\n",
       "      <td>01</td>\n",
       "      <td>02</td>\n",
       "      <td>新竹市</td>\n",
       "    </tr>\n",
       "    <tr>\n",
       "      <th>4</th>\n",
       "      <td>民主進步黨</td>\n",
       "      <td>1070102</td>\n",
       "      <td>個人捐贈收入</td>\n",
       "      <td>段宜康</td>\n",
       "      <td>200000.0</td>\n",
       "      <td>01</td>\n",
       "      <td>02</td>\n",
       "      <td>台北市</td>\n",
       "    </tr>\n",
       "  </tbody>\n",
       "</table>\n",
       "</div>"
      ],
      "text/plain": [
       "      政黨     交易日期    收支科目  捐贈者      收入金額 捐贈月 捐贈日 捐贈地區\n",
       "0  民主進步黨  1070101  個人捐贈收入  陳芝菁     432.0  01  01  台中市\n",
       "1  民主進步黨  1070102  個人捐贈收入  唐碧娥  220000.0  01  02  台南市\n",
       "2  民主進步黨  1070102  個人捐贈收入  張山文     400.0  01  02  高雄市\n",
       "3  民主進步黨  1070102  個人捐贈收入  張榮哲   10000.0  01  02  新竹市\n",
       "4  民主進步黨  1070102  個人捐贈收入  段宜康  200000.0  01  02  台北市"
      ]
     },
     "metadata": {},
     "output_type": "display_data"
    },
    {
     "data": {
      "text/html": [
       "<div>\n",
       "<style scoped>\n",
       "    .dataframe tbody tr th:only-of-type {\n",
       "        vertical-align: middle;\n",
       "    }\n",
       "\n",
       "    .dataframe tbody tr th {\n",
       "        vertical-align: top;\n",
       "    }\n",
       "\n",
       "    .dataframe thead th {\n",
       "        text-align: right;\n",
       "    }\n",
       "</style>\n",
       "<table border=\"1\" class=\"dataframe\">\n",
       "  <thead>\n",
       "    <tr style=\"text-align: right;\">\n",
       "      <th></th>\n",
       "      <th>政黨</th>\n",
       "      <th>交易日期</th>\n",
       "      <th>收支科目</th>\n",
       "      <th>捐贈者</th>\n",
       "      <th>收入金額</th>\n",
       "      <th>捐贈月</th>\n",
       "      <th>捐贈日</th>\n",
       "      <th>捐贈地區</th>\n",
       "    </tr>\n",
       "  </thead>\n",
       "  <tbody>\n",
       "    <tr>\n",
       "      <th>0</th>\n",
       "      <td>中國國民黨</td>\n",
       "      <td>1070102</td>\n",
       "      <td>個人捐贈收入</td>\n",
       "      <td>陳寶生</td>\n",
       "      <td>300</td>\n",
       "      <td>01</td>\n",
       "      <td>02</td>\n",
       "      <td>台中市</td>\n",
       "    </tr>\n",
       "    <tr>\n",
       "      <th>1</th>\n",
       "      <td>中國國民黨</td>\n",
       "      <td>1070103</td>\n",
       "      <td>營利事業捐贈收入</td>\n",
       "      <td>福安礦業股份有限公司</td>\n",
       "      <td>1000000</td>\n",
       "      <td>01</td>\n",
       "      <td>03</td>\n",
       "      <td>宜蘭縣</td>\n",
       "    </tr>\n",
       "    <tr>\n",
       "      <th>2</th>\n",
       "      <td>中國國民黨</td>\n",
       "      <td>1070103</td>\n",
       "      <td>個人捐贈收入</td>\n",
       "      <td>齊祿祉</td>\n",
       "      <td>2000</td>\n",
       "      <td>01</td>\n",
       "      <td>03</td>\n",
       "      <td>台中市</td>\n",
       "    </tr>\n",
       "    <tr>\n",
       "      <th>3</th>\n",
       "      <td>中國國民黨</td>\n",
       "      <td>1070105</td>\n",
       "      <td>個人捐贈收入</td>\n",
       "      <td>許毓仁</td>\n",
       "      <td>100000</td>\n",
       "      <td>01</td>\n",
       "      <td>05</td>\n",
       "      <td>台北市</td>\n",
       "    </tr>\n",
       "    <tr>\n",
       "      <th>4</th>\n",
       "      <td>中國國民黨</td>\n",
       "      <td>1070105</td>\n",
       "      <td>個人捐贈收入</td>\n",
       "      <td>楊淑貞</td>\n",
       "      <td>3513</td>\n",
       "      <td>01</td>\n",
       "      <td>05</td>\n",
       "      <td>宜蘭縣</td>\n",
       "    </tr>\n",
       "  </tbody>\n",
       "</table>\n",
       "</div>"
      ],
      "text/plain": [
       "      政黨     交易日期      收支科目         捐贈者     收入金額 捐贈月 捐贈日 捐贈地區\n",
       "0  中國國民黨  1070102    個人捐贈收入         陳寶生      300  01  02  台中市\n",
       "1  中國國民黨  1070103  營利事業捐贈收入  福安礦業股份有限公司  1000000  01  03  宜蘭縣\n",
       "2  中國國民黨  1070103    個人捐贈收入         齊祿祉     2000  01  03  台中市\n",
       "3  中國國民黨  1070105    個人捐贈收入         許毓仁   100000  01  05  台北市\n",
       "4  中國國民黨  1070105    個人捐贈收入         楊淑貞     3513  01  05  宜蘭縣"
      ]
     },
     "metadata": {},
     "output_type": "display_data"
    },
    {
     "data": {
      "text/html": [
       "<div>\n",
       "<style scoped>\n",
       "    .dataframe tbody tr th:only-of-type {\n",
       "        vertical-align: middle;\n",
       "    }\n",
       "\n",
       "    .dataframe tbody tr th {\n",
       "        vertical-align: top;\n",
       "    }\n",
       "\n",
       "    .dataframe thead th {\n",
       "        text-align: right;\n",
       "    }\n",
       "</style>\n",
       "<table border=\"1\" class=\"dataframe\">\n",
       "  <thead>\n",
       "    <tr style=\"text-align: right;\">\n",
       "      <th></th>\n",
       "      <th>政黨</th>\n",
       "      <th>交易日期</th>\n",
       "      <th>收支科目</th>\n",
       "      <th>捐贈者</th>\n",
       "      <th>收入金額</th>\n",
       "      <th>捐贈月</th>\n",
       "      <th>捐贈日</th>\n",
       "      <th>捐贈地區</th>\n",
       "    </tr>\n",
       "  </thead>\n",
       "  <tbody>\n",
       "    <tr>\n",
       "      <th>0</th>\n",
       "      <td>親民黨</td>\n",
       "      <td>1070102</td>\n",
       "      <td>個人捐贈收入</td>\n",
       "      <td>林家安</td>\n",
       "      <td>107.0</td>\n",
       "      <td>01</td>\n",
       "      <td>02</td>\n",
       "      <td>臺北市</td>\n",
       "    </tr>\n",
       "    <tr>\n",
       "      <th>1</th>\n",
       "      <td>親民黨</td>\n",
       "      <td>1070109</td>\n",
       "      <td>個人捐贈收入</td>\n",
       "      <td>朱建成</td>\n",
       "      <td>600.0</td>\n",
       "      <td>01</td>\n",
       "      <td>09</td>\n",
       "      <td>臺北市</td>\n",
       "    </tr>\n",
       "    <tr>\n",
       "      <th>2</th>\n",
       "      <td>親民黨</td>\n",
       "      <td>1070117</td>\n",
       "      <td>個人捐贈收入</td>\n",
       "      <td>周陳秀霞</td>\n",
       "      <td>100000.0</td>\n",
       "      <td>01</td>\n",
       "      <td>17</td>\n",
       "      <td>臺南市</td>\n",
       "    </tr>\n",
       "    <tr>\n",
       "      <th>3</th>\n",
       "      <td>親民黨</td>\n",
       "      <td>1070201</td>\n",
       "      <td>個人捐贈收入</td>\n",
       "      <td>林家安</td>\n",
       "      <td>107.0</td>\n",
       "      <td>02</td>\n",
       "      <td>01</td>\n",
       "      <td>臺北市</td>\n",
       "    </tr>\n",
       "    <tr>\n",
       "      <th>4</th>\n",
       "      <td>親民黨</td>\n",
       "      <td>1070209</td>\n",
       "      <td>個人捐贈收入</td>\n",
       "      <td>李鴻鈞</td>\n",
       "      <td>200000.0</td>\n",
       "      <td>02</td>\n",
       "      <td>09</td>\n",
       "      <td>新北市</td>\n",
       "    </tr>\n",
       "  </tbody>\n",
       "</table>\n",
       "</div>"
      ],
      "text/plain": [
       "    政黨     交易日期    收支科目   捐贈者      收入金額 捐贈月 捐贈日 捐贈地區\n",
       "0  親民黨  1070102  個人捐贈收入   林家安     107.0  01  02  臺北市\n",
       "1  親民黨  1070109  個人捐贈收入   朱建成     600.0  01  09  臺北市\n",
       "2  親民黨  1070117  個人捐贈收入  周陳秀霞  100000.0  01  17  臺南市\n",
       "3  親民黨  1070201  個人捐贈收入   林家安     107.0  02  01  臺北市\n",
       "4  親民黨  1070209  個人捐贈收入   李鴻鈞  200000.0  02  09  新北市"
      ]
     },
     "metadata": {},
     "output_type": "display_data"
    }
   ],
   "source": [
    "display(DDT.head(),KMT.head(),PFP.head())"
   ]
  },
  {
   "cell_type": "code",
   "execution_count": 298,
   "metadata": {},
   "outputs": [
    {
     "data": {
      "text/plain": [
       "(2715, 8)"
      ]
     },
     "metadata": {},
     "output_type": "display_data"
    },
    {
     "data": {
      "text/plain": [
       "(2108, 8)"
      ]
     },
     "metadata": {},
     "output_type": "display_data"
    },
    {
     "data": {
      "text/plain": [
       "(67, 8)"
      ]
     },
     "metadata": {},
     "output_type": "display_data"
    }
   ],
   "source": [
    "display(DDT.shape,KMT.shape,PFP.shape)"
   ]
  },
  {
   "cell_type": "markdown",
   "metadata": {},
   "source": [
    "# III.Analsys and Visualization"
   ]
  },
  {
   "cell_type": "markdown",
   "metadata": {},
   "source": [
    "3.1 政黨收入分析  \n",
    "3.2 時間趨勢   \n",
    "3.3 地區分布"
   ]
  },
  {
   "cell_type": "markdown",
   "metadata": {},
   "source": [
    "# 3.1 政黨收入分析"
   ]
  },
  {
   "cell_type": "markdown",
   "metadata": {},
   "source": [
    "## 3.1.1 捐贈總收入比較"
   ]
  },
  {
   "cell_type": "code",
   "execution_count": 147,
   "metadata": {},
   "outputs": [],
   "source": [
    "name = ['民進黨','國民黨','親民黨']\n",
    "column = ['Total Income']\n",
    "details = [[DDT.收入金額.sum()],[KMT.收入金額.sum()],[PFP.收入金額.sum()]]\n",
    "df = pd.DataFrame(details, index = name, columns = column)"
   ]
  },
  {
   "cell_type": "code",
   "execution_count": 148,
   "metadata": {},
   "outputs": [],
   "source": [
    "partyamount = details[0]+details[1]+details[2]"
   ]
  },
  {
   "cell_type": "code",
   "execution_count": 274,
   "metadata": {},
   "outputs": [
    {
     "data": {
      "image/png": "[encoded data removed]",
      "text/plain": [
       "<matplotlib.figure.Figure at 0x2075c410b00>"
      ]
     },
     "metadata": {
      "needs_background": "light"
     },
     "output_type": "display_data"
    }
   ],
   "source": [
    "#df.plot(kind=\"bar\",figsize =(7,5),ylim=(0,250000000),color=['r', 'g', 'b']) 另一種畫法\n",
    "\n",
    "plt.figure(figsize=(7,6))\n",
    "plt.bar(name, partyamount, color=['g', 'b', 'orange'])\n",
    "plt.xlabel(\"政黨\", fontproperties=my_font, fontsize=14)\n",
    "plt.ylabel(\"金額(億)\", fontproperties=my_font, fontsize=14)\n",
    "\n",
    "#刻度字體\n",
    "plt.xticks(fontproperties=my_font, fontsize=13)\n",
    "\n",
    "#設置數值\n",
    "for a,b in zip(name,partyamount):  \n",
    " plt.text(a, b+0.05, '%.0f' % b, ha='center', va= 'bottom',fontsize=12)"
   ]
  },
  {
   "cell_type": "markdown",
   "metadata": {},
   "source": [
    "## 3.1.2 捐贈來源分析"
   ]
  },
  {
   "cell_type": "code",
   "execution_count": 270,
   "metadata": {},
   "outputs": [
    {
     "name": "stdout",
     "output_type": "stream",
     "text": [
      "民進黨： ['個人捐贈收入' '營利事業捐贈收入' '匿名捐贈收入' '其它收入' '人民團體捐贈收入']\n",
      "國民黨： ['個人捐贈收入' '營利事業捐贈收入' '匿名捐贈收入' '人民團體捐贈收入' '其它收入']\n",
      "親民黨： ['個人捐贈收入' '營利事業捐贈收入' '匿名捐贈收入' '其它收入']\n"
     ]
    }
   ],
   "source": [
    "print('民進黨：',DDT.收支科目.unique())\n",
    "print('國民黨：',KMT.收支科目.unique())\n",
    "print('親民黨：',PFP.收支科目.unique())"
   ]
  },
  {
   "cell_type": "markdown",
   "metadata": {},
   "source": [
    "### DDT"
   ]
  },
  {
   "cell_type": "markdown",
   "metadata": {},
   "source": [
    "> * 收入來源分類與佔比"
   ]
  },
  {
   "cell_type": "code",
   "execution_count": 271,
   "metadata": {},
   "outputs": [
    {
     "data": {
      "text/html": [
       "<div>\n",
       "<style scoped>\n",
       "    .dataframe tbody tr th:only-of-type {\n",
       "        vertical-align: middle;\n",
       "    }\n",
       "\n",
       "    .dataframe tbody tr th {\n",
       "        vertical-align: top;\n",
       "    }\n",
       "\n",
       "    .dataframe thead th {\n",
       "        text-align: right;\n",
       "    }\n",
       "</style>\n",
       "<table border=\"1\" class=\"dataframe\">\n",
       "  <thead>\n",
       "    <tr style=\"text-align: right;\">\n",
       "      <th></th>\n",
       "      <th>收支科目</th>\n",
       "      <th>總次數</th>\n",
       "      <th>總金額</th>\n",
       "      <th>佔比</th>\n",
       "    </tr>\n",
       "  </thead>\n",
       "  <tbody>\n",
       "    <tr>\n",
       "      <th>0</th>\n",
       "      <td>人民團體捐贈收入</td>\n",
       "      <td>7</td>\n",
       "      <td>584000.0</td>\n",
       "      <td>0.29</td>\n",
       "    </tr>\n",
       "    <tr>\n",
       "      <th>1</th>\n",
       "      <td>個人捐贈收入</td>\n",
       "      <td>2291</td>\n",
       "      <td>131371396.0</td>\n",
       "      <td>65.17</td>\n",
       "    </tr>\n",
       "    <tr>\n",
       "      <th>2</th>\n",
       "      <td>其它收入</td>\n",
       "      <td>2</td>\n",
       "      <td>59128.0</td>\n",
       "      <td>0.03</td>\n",
       "    </tr>\n",
       "    <tr>\n",
       "      <th>3</th>\n",
       "      <td>匿名捐贈收入</td>\n",
       "      <td>219</td>\n",
       "      <td>726649.0</td>\n",
       "      <td>0.36</td>\n",
       "    </tr>\n",
       "    <tr>\n",
       "      <th>4</th>\n",
       "      <td>營利事業捐贈收入</td>\n",
       "      <td>196</td>\n",
       "      <td>68838000.0</td>\n",
       "      <td>34.15</td>\n",
       "    </tr>\n",
       "  </tbody>\n",
       "</table>\n",
       "</div>"
      ],
      "text/plain": [
       "       收支科目   總次數          總金額     佔比\n",
       "0  人民團體捐贈收入     7     584000.0   0.29\n",
       "1    個人捐贈收入  2291  131371396.0  65.17\n",
       "2      其它收入     2      59128.0   0.03\n",
       "3    匿名捐贈收入   219     726649.0   0.36\n",
       "4  營利事業捐贈收入   196   68838000.0  34.15"
      ]
     },
     "execution_count": 271,
     "metadata": {},
     "output_type": "execute_result"
    }
   ],
   "source": [
    "DDT_cate_count = DDT.groupby(['收支科目'],as_index=False)['收入金額'].count() #捐贈類別\n",
    "DDT_cate_sum = DDT.groupby(['收支科目'],as_index=False)['收入金額'].sum() #總額\n",
    "DDT_cate = pd.merge(DDT_cate_count, DDT_cate_sum, on='收支科目')\n",
    "DDT_cate.rename(columns = {\"收入金額_x\":\"總次數\",\"收入金額_y\":\"總金額\"},inplace = True) #修改欄位名稱\n",
    "DDT_cate['佔比'] = (DDT_cate['總金額']/partyamount[0] * 100).round(decimals=2) #新增佔比欄位\n",
    "DDT_cate"
   ]
  },
  {
   "cell_type": "markdown",
   "metadata": {},
   "source": [
    "> * 捐贈金額最高前15名"
   ]
  },
  {
   "cell_type": "code",
   "execution_count": 313,
   "metadata": {},
   "outputs": [],
   "source": [
    "DDT_from_count = DDT.groupby(['捐贈者'],as_index=False)['收入金額'].count() #捐贈者次數\n",
    "DDT_from_amount = DDT.groupby(['捐贈者'],as_index=False)['收入金額'].sum() #捐贈者金額\n",
    "DDT_from = pd.merge(DDT_from_count, DDT_from_amount, on='捐贈者')\n",
    "DDT_from.rename(columns = {\"收入金額_x\":\"捐贈總次數\",\"收入金額_y\":\"捐贈總金額\"},inplace = True) #修改欄位名稱"
   ]
  },
  {
   "cell_type": "code",
   "execution_count": 346,
   "metadata": {},
   "outputs": [
    {
     "data": {
      "text/html": [
       "<div>\n",
       "<style scoped>\n",
       "    .dataframe tbody tr th:only-of-type {\n",
       "        vertical-align: middle;\n",
       "    }\n",
       "\n",
       "    .dataframe tbody tr th {\n",
       "        vertical-align: top;\n",
       "    }\n",
       "\n",
       "    .dataframe thead th {\n",
       "        text-align: right;\n",
       "    }\n",
       "</style>\n",
       "<table border=\"1\" class=\"dataframe\">\n",
       "  <thead>\n",
       "    <tr style=\"text-align: right;\">\n",
       "      <th></th>\n",
       "      <th>捐贈者</th>\n",
       "      <th>捐贈總次數</th>\n",
       "      <th>捐贈總金額</th>\n",
       "    </tr>\n",
       "  </thead>\n",
       "  <tbody>\n",
       "    <tr>\n",
       "      <th>588</th>\n",
       "      <td>新泉營造股份有限公司</td>\n",
       "      <td>3</td>\n",
       "      <td>2650000.0</td>\n",
       "    </tr>\n",
       "    <tr>\n",
       "      <th>2204</th>\n",
       "      <td>鼎固營造股份有限公司</td>\n",
       "      <td>3</td>\n",
       "      <td>2650000.0</td>\n",
       "    </tr>\n",
       "    <tr>\n",
       "      <th>1626</th>\n",
       "      <td>遊戲橘子數位科技股份有限公司</td>\n",
       "      <td>2</td>\n",
       "      <td>2000000.0</td>\n",
       "    </tr>\n",
       "    <tr>\n",
       "      <th>569</th>\n",
       "      <td>怡達資產管理有限公司</td>\n",
       "      <td>2</td>\n",
       "      <td>2000000.0</td>\n",
       "    </tr>\n",
       "    <tr>\n",
       "      <th>174</th>\n",
       "      <td>北碁建設股份有限公司</td>\n",
       "      <td>1</td>\n",
       "      <td>2000000.0</td>\n",
       "    </tr>\n",
       "    <tr>\n",
       "      <th>335</th>\n",
       "      <td>奇達電訊工程有限公司</td>\n",
       "      <td>1</td>\n",
       "      <td>2000000.0</td>\n",
       "    </tr>\n",
       "    <tr>\n",
       "      <th>15</th>\n",
       "      <td>亞昕國際開發股份有限公司</td>\n",
       "      <td>1</td>\n",
       "      <td>2000000.0</td>\n",
       "    </tr>\n",
       "    <tr>\n",
       "      <th>12</th>\n",
       "      <td>中福營造股份有限公司</td>\n",
       "      <td>1</td>\n",
       "      <td>2000000.0</td>\n",
       "    </tr>\n",
       "    <tr>\n",
       "      <th>728</th>\n",
       "      <td>李進勇</td>\n",
       "      <td>2</td>\n",
       "      <td>1663250.0</td>\n",
       "    </tr>\n",
       "    <tr>\n",
       "      <th>370</th>\n",
       "      <td>峯安投資顧問有限公司</td>\n",
       "      <td>4</td>\n",
       "      <td>1600000.0</td>\n",
       "    </tr>\n",
       "    <tr>\n",
       "      <th>87</th>\n",
       "      <td>冠郢企業股份有限公司</td>\n",
       "      <td>2</td>\n",
       "      <td>1500000.0</td>\n",
       "    </tr>\n",
       "    <tr>\n",
       "      <th>1749</th>\n",
       "      <td>金協興營造股份有限公司</td>\n",
       "      <td>2</td>\n",
       "      <td>1270000.0</td>\n",
       "    </tr>\n",
       "    <tr>\n",
       "      <th>11</th>\n",
       "      <td>世鑫營造有限公司</td>\n",
       "      <td>1</td>\n",
       "      <td>1030000.0</td>\n",
       "    </tr>\n",
       "    <tr>\n",
       "      <th>411</th>\n",
       "      <td>弘儒國際股份有限公司</td>\n",
       "      <td>3</td>\n",
       "      <td>1025000.0</td>\n",
       "    </tr>\n",
       "    <tr>\n",
       "      <th>570</th>\n",
       "      <td>惠信建設股份有限公司</td>\n",
       "      <td>3</td>\n",
       "      <td>1000000.0</td>\n",
       "    </tr>\n",
       "  </tbody>\n",
       "</table>\n",
       "</div>"
      ],
      "text/plain": [
       "                 捐贈者  捐贈總次數      捐贈總金額\n",
       "588       新泉營造股份有限公司      3  2650000.0\n",
       "2204      鼎固營造股份有限公司      3  2650000.0\n",
       "1626  遊戲橘子數位科技股份有限公司      2  2000000.0\n",
       "569       怡達資產管理有限公司      2  2000000.0\n",
       "174       北碁建設股份有限公司      1  2000000.0\n",
       "335       奇達電訊工程有限公司      1  2000000.0\n",
       "15      亞昕國際開發股份有限公司      1  2000000.0\n",
       "12        中福營造股份有限公司      1  2000000.0\n",
       "728              李進勇      2  1663250.0\n",
       "370       峯安投資顧問有限公司      4  1600000.0\n",
       "87        冠郢企業股份有限公司      2  1500000.0\n",
       "1749     金協興營造股份有限公司      2  1270000.0\n",
       "11          世鑫營造有限公司      1  1030000.0\n",
       "411       弘儒國際股份有限公司      3  1025000.0\n",
       "570       惠信建設股份有限公司      3  1000000.0"
      ]
     },
     "execution_count": 346,
     "metadata": {},
     "output_type": "execute_result"
    }
   ],
   "source": [
    "DDT_from.sort_values([\"捐贈總金額\",\"捐贈總次數\"],ascending=(False,False),inplace=True)\n",
    "DDT_from.head(15)"
   ]
  },
  {
   "cell_type": "markdown",
   "metadata": {},
   "source": [
    "前15名幾乎為營造公司、建設公司、電子業  \n",
    "李進勇曾擔任雲林縣縣長(2014 年–2018 年)，為民進黨員，2019退出政黨"
   ]
  },
  {
   "cell_type": "markdown",
   "metadata": {},
   "source": [
    "> * 捐贈次數最多前15名"
   ]
  },
  {
   "cell_type": "code",
   "execution_count": 347,
   "metadata": {},
   "outputs": [
    {
     "data": {
      "text/html": [
       "<div>\n",
       "<style scoped>\n",
       "    .dataframe tbody tr th:only-of-type {\n",
       "        vertical-align: middle;\n",
       "    }\n",
       "\n",
       "    .dataframe tbody tr th {\n",
       "        vertical-align: top;\n",
       "    }\n",
       "\n",
       "    .dataframe thead th {\n",
       "        text-align: right;\n",
       "    }\n",
       "</style>\n",
       "<table border=\"1\" class=\"dataframe\">\n",
       "  <thead>\n",
       "    <tr style=\"text-align: right;\">\n",
       "      <th></th>\n",
       "      <th>捐贈者</th>\n",
       "      <th>捐贈總次數</th>\n",
       "      <th>捐贈總金額</th>\n",
       "    </tr>\n",
       "  </thead>\n",
       "  <tbody>\n",
       "    <tr>\n",
       "      <th>2117</th>\n",
       "      <td>黃彥智</td>\n",
       "      <td>85</td>\n",
       "      <td>8563.0</td>\n",
       "    </tr>\n",
       "    <tr>\n",
       "      <th>1117</th>\n",
       "      <td>無名氏</td>\n",
       "      <td>37</td>\n",
       "      <td>202486.0</td>\n",
       "    </tr>\n",
       "    <tr>\n",
       "      <th>175</th>\n",
       "      <td>匿名</td>\n",
       "      <td>13</td>\n",
       "      <td>56844.0</td>\n",
       "    </tr>\n",
       "    <tr>\n",
       "      <th>2175</th>\n",
       "      <td>黃筱雯</td>\n",
       "      <td>12</td>\n",
       "      <td>12000.0</td>\n",
       "    </tr>\n",
       "    <tr>\n",
       "      <th>2065</th>\n",
       "      <td>高鈺琪</td>\n",
       "      <td>12</td>\n",
       "      <td>3600.0</td>\n",
       "    </tr>\n",
       "    <tr>\n",
       "      <th>133</th>\n",
       "      <td>劉桂莉</td>\n",
       "      <td>11</td>\n",
       "      <td>11000.0</td>\n",
       "    </tr>\n",
       "    <tr>\n",
       "      <th>79</th>\n",
       "      <td>傅楊玉珠</td>\n",
       "      <td>7</td>\n",
       "      <td>3500.0</td>\n",
       "    </tr>\n",
       "    <tr>\n",
       "      <th>435</th>\n",
       "      <td>張天惠</td>\n",
       "      <td>6</td>\n",
       "      <td>90000.0</td>\n",
       "    </tr>\n",
       "    <tr>\n",
       "      <th>264</th>\n",
       "      <td>呂思翰</td>\n",
       "      <td>6</td>\n",
       "      <td>90000.0</td>\n",
       "    </tr>\n",
       "    <tr>\n",
       "      <th>452</th>\n",
       "      <td>張慧姬</td>\n",
       "      <td>6</td>\n",
       "      <td>90000.0</td>\n",
       "    </tr>\n",
       "    <tr>\n",
       "      <th>896</th>\n",
       "      <td>林衢成</td>\n",
       "      <td>6</td>\n",
       "      <td>78000.0</td>\n",
       "    </tr>\n",
       "    <tr>\n",
       "      <th>1754</th>\n",
       "      <td>鍾孔炤</td>\n",
       "      <td>5</td>\n",
       "      <td>300000.0</td>\n",
       "    </tr>\n",
       "    <tr>\n",
       "      <th>2126</th>\n",
       "      <td>黃懷玲</td>\n",
       "      <td>5</td>\n",
       "      <td>300000.0</td>\n",
       "    </tr>\n",
       "    <tr>\n",
       "      <th>1087</th>\n",
       "      <td>游吾和</td>\n",
       "      <td>5</td>\n",
       "      <td>68000.0</td>\n",
       "    </tr>\n",
       "    <tr>\n",
       "      <th>2093</th>\n",
       "      <td>黃傅淑香</td>\n",
       "      <td>5</td>\n",
       "      <td>68000.0</td>\n",
       "    </tr>\n",
       "  </tbody>\n",
       "</table>\n",
       "</div>"
      ],
      "text/plain": [
       "       捐贈者  捐贈總次數     捐贈總金額\n",
       "2117   黃彥智     85    8563.0\n",
       "1117   無名氏     37  202486.0\n",
       "175     匿名     13   56844.0\n",
       "2175   黃筱雯     12   12000.0\n",
       "2065   高鈺琪     12    3600.0\n",
       "133    劉桂莉     11   11000.0\n",
       "79    傅楊玉珠      7    3500.0\n",
       "435    張天惠      6   90000.0\n",
       "264    呂思翰      6   90000.0\n",
       "452    張慧姬      6   90000.0\n",
       "896    林衢成      6   78000.0\n",
       "1754   鍾孔炤      5  300000.0\n",
       "2126   黃懷玲      5  300000.0\n",
       "1087   游吾和      5   68000.0\n",
       "2093  黃傅淑香      5   68000.0"
      ]
     },
     "execution_count": 347,
     "metadata": {},
     "output_type": "execute_result"
    }
   ],
   "source": [
    "DDT_from.sort_values([\"捐贈總次數\",\"捐贈總金額\"],ascending=(False,False),inplace=True)\n",
    "DDT_from.head(15)"
   ]
  },
  {
   "cell_type": "markdown",
   "metadata": {},
   "source": [
    "[鍾孔炤](https://zh.wikipedia.org/wiki/%E9%8D%BE%E5%AD%94%E7%82%A4)：民進黨員，曾任高雄市政府勞工局長  \n",
    "[黃傅淑香](https://votetw.com/wiki/%E9%BB%83%E5%82%85%E6%B7%91%E9%A6%99#2014.E5.B9.B4.E6.A1.83.E5.9C.92.E5.B8.82.E8.AD.B0.E5.93.A1.E9.81.B8.E8.88.89.EF.BC.88.E7.95.B6.E9.81.B8.EF.BC.89)：民主進步黨籍，曾任桃園市議員  \n",
    "國會辦公室助理資訊相關：張天惠、呂思翰、林衢成"
   ]
  },
  {
   "cell_type": "markdown",
   "metadata": {},
   "source": [
    "---"
   ]
  },
  {
   "cell_type": "markdown",
   "metadata": {},
   "source": [
    "### KMT"
   ]
  },
  {
   "cell_type": "markdown",
   "metadata": {},
   "source": [
    "> * 收入來源分類與佔比"
   ]
  },
  {
   "cell_type": "code",
   "execution_count": 335,
   "metadata": {},
   "outputs": [
    {
     "data": {
      "text/html": [
       "<div>\n",
       "<style scoped>\n",
       "    .dataframe tbody tr th:only-of-type {\n",
       "        vertical-align: middle;\n",
       "    }\n",
       "\n",
       "    .dataframe tbody tr th {\n",
       "        vertical-align: top;\n",
       "    }\n",
       "\n",
       "    .dataframe thead th {\n",
       "        text-align: right;\n",
       "    }\n",
       "</style>\n",
       "<table border=\"1\" class=\"dataframe\">\n",
       "  <thead>\n",
       "    <tr style=\"text-align: right;\">\n",
       "      <th></th>\n",
       "      <th>收支科目</th>\n",
       "      <th>總次數</th>\n",
       "      <th>總金額</th>\n",
       "      <th>佔比</th>\n",
       "    </tr>\n",
       "  </thead>\n",
       "  <tbody>\n",
       "    <tr>\n",
       "      <th>0</th>\n",
       "      <td>人民團體捐贈收入</td>\n",
       "      <td>21</td>\n",
       "      <td>3665000</td>\n",
       "      <td>2.71</td>\n",
       "    </tr>\n",
       "    <tr>\n",
       "      <th>1</th>\n",
       "      <td>個人捐贈收入</td>\n",
       "      <td>1758</td>\n",
       "      <td>66423701</td>\n",
       "      <td>49.14</td>\n",
       "    </tr>\n",
       "    <tr>\n",
       "      <th>2</th>\n",
       "      <td>其它收入</td>\n",
       "      <td>2</td>\n",
       "      <td>10040</td>\n",
       "      <td>0.01</td>\n",
       "    </tr>\n",
       "    <tr>\n",
       "      <th>3</th>\n",
       "      <td>匿名捐贈收入</td>\n",
       "      <td>145</td>\n",
       "      <td>137817</td>\n",
       "      <td>0.10</td>\n",
       "    </tr>\n",
       "    <tr>\n",
       "      <th>4</th>\n",
       "      <td>營利事業捐贈收入</td>\n",
       "      <td>182</td>\n",
       "      <td>64948000</td>\n",
       "      <td>48.04</td>\n",
       "    </tr>\n",
       "  </tbody>\n",
       "</table>\n",
       "</div>"
      ],
      "text/plain": [
       "       收支科目   總次數       總金額     佔比\n",
       "0  人民團體捐贈收入    21   3665000   2.71\n",
       "1    個人捐贈收入  1758  66423701  49.14\n",
       "2      其它收入     2     10040   0.01\n",
       "3    匿名捐贈收入   145    137817   0.10\n",
       "4  營利事業捐贈收入   182  64948000  48.04"
      ]
     },
     "execution_count": 335,
     "metadata": {},
     "output_type": "execute_result"
    }
   ],
   "source": [
    "KMT_cate_count = KMT.groupby(['收支科目'],as_index=False)['收入金額'].count() #捐贈類別\n",
    "KMT_cate_sum = KMT.groupby(['收支科目'],as_index=False)['收入金額'].sum() #總額\n",
    "KMT_cate = pd.merge(KMT_cate_count, KMT_cate_sum, on='收支科目')\n",
    "KMT_cate.rename(columns = {\"收入金額_x\":\"總次數\",\"收入金額_y\":\"總金額\"},inplace = True) #修改欄位名稱\n",
    "KMT_cate['佔比'] = (KMT_cate['總金額']/partyamount[1] * 100).round(decimals=2) #新增佔比欄位\n",
    "KMT_cate"
   ]
  },
  {
   "cell_type": "markdown",
   "metadata": {},
   "source": [
    "> * 捐贈金額最高前15名"
   ]
  },
  {
   "cell_type": "code",
   "execution_count": 331,
   "metadata": {},
   "outputs": [],
   "source": [
    "KMT_from_count = KMT.groupby(['捐贈者'],as_index=False)['收入金額'].count() #捐贈者次數\n",
    "KMT_from_amount = KMT.groupby(['捐贈者'],as_index=False)['收入金額'].sum() #捐贈者金額\n",
    "KMT_from = pd.merge(KMT_from_count, KMT_from_amount, on='捐贈者')\n",
    "KMT_from.rename(columns = {\"收入金額_x\":\"捐贈總次數\",\"收入金額_y\":\"捐贈總金額\"},inplace = True) #修改欄位名稱"
   ]
  },
  {
   "cell_type": "code",
   "execution_count": 349,
   "metadata": {},
   "outputs": [
    {
     "data": {
      "text/html": [
       "<div>\n",
       "<style scoped>\n",
       "    .dataframe tbody tr th:only-of-type {\n",
       "        vertical-align: middle;\n",
       "    }\n",
       "\n",
       "    .dataframe tbody tr th {\n",
       "        vertical-align: top;\n",
       "    }\n",
       "\n",
       "    .dataframe thead th {\n",
       "        text-align: right;\n",
       "    }\n",
       "</style>\n",
       "<table border=\"1\" class=\"dataframe\">\n",
       "  <thead>\n",
       "    <tr style=\"text-align: right;\">\n",
       "      <th></th>\n",
       "      <th>捐贈者</th>\n",
       "      <th>捐贈總次數</th>\n",
       "      <th>捐贈總金額</th>\n",
       "    </tr>\n",
       "  </thead>\n",
       "  <tbody>\n",
       "    <tr>\n",
       "      <th>1135</th>\n",
       "      <td>裕元投資股份有限公司</td>\n",
       "      <td>4</td>\n",
       "      <td>4000000</td>\n",
       "    </tr>\n",
       "    <tr>\n",
       "      <th>840</th>\n",
       "      <td>燿華電子股份有限公司</td>\n",
       "      <td>9</td>\n",
       "      <td>3000000</td>\n",
       "    </tr>\n",
       "    <tr>\n",
       "      <th>1238</th>\n",
       "      <td>遠鼎投資股份有限公司</td>\n",
       "      <td>3</td>\n",
       "      <td>3000000</td>\n",
       "    </tr>\n",
       "    <tr>\n",
       "      <th>255</th>\n",
       "      <td>太平洋崇光百貨股份有限公司</td>\n",
       "      <td>3</td>\n",
       "      <td>3000000</td>\n",
       "    </tr>\n",
       "    <tr>\n",
       "      <th>405</th>\n",
       "      <td>德勤投資股份有限公司</td>\n",
       "      <td>3</td>\n",
       "      <td>3000000</td>\n",
       "    </tr>\n",
       "    <tr>\n",
       "      <th>1665</th>\n",
       "      <td>鼎豐傳播事業股份有限公司</td>\n",
       "      <td>1</td>\n",
       "      <td>3000000</td>\n",
       "    </tr>\n",
       "    <tr>\n",
       "      <th>445</th>\n",
       "      <td>日月高投資股份有限公司</td>\n",
       "      <td>5</td>\n",
       "      <td>2500000</td>\n",
       "    </tr>\n",
       "    <tr>\n",
       "      <th>16</th>\n",
       "      <td>亞洲水泥股份有限公司</td>\n",
       "      <td>3</td>\n",
       "      <td>2500000</td>\n",
       "    </tr>\n",
       "    <tr>\n",
       "      <th>1234</th>\n",
       "      <td>達泰投資股份有限公司</td>\n",
       "      <td>8</td>\n",
       "      <td>2300000</td>\n",
       "    </tr>\n",
       "    <tr>\n",
       "      <th>15</th>\n",
       "      <td>亞洲投資股份有限公司</td>\n",
       "      <td>2</td>\n",
       "      <td>2000000</td>\n",
       "    </tr>\n",
       "    <tr>\n",
       "      <th>282</th>\n",
       "      <td>富民運輸股份有限公司</td>\n",
       "      <td>2</td>\n",
       "      <td>2000000</td>\n",
       "    </tr>\n",
       "    <tr>\n",
       "      <th>426</th>\n",
       "      <td>新北市鴻鵠社會關懷協會</td>\n",
       "      <td>1</td>\n",
       "      <td>2000000</td>\n",
       "    </tr>\n",
       "    <tr>\n",
       "      <th>281</th>\n",
       "      <td>富喬工業股份有限公司</td>\n",
       "      <td>6</td>\n",
       "      <td>1750000</td>\n",
       "    </tr>\n",
       "    <tr>\n",
       "      <th>407</th>\n",
       "      <td>愛山林建設開發股份有限公司</td>\n",
       "      <td>1</td>\n",
       "      <td>1700000</td>\n",
       "    </tr>\n",
       "    <tr>\n",
       "      <th>998</th>\n",
       "      <td>聯立汽車有限公司</td>\n",
       "      <td>3</td>\n",
       "      <td>1600000</td>\n",
       "    </tr>\n",
       "  </tbody>\n",
       "</table>\n",
       "</div>"
      ],
      "text/plain": [
       "                捐贈者  捐贈總次數    捐贈總金額\n",
       "1135     裕元投資股份有限公司      4  4000000\n",
       "840      燿華電子股份有限公司      9  3000000\n",
       "1238     遠鼎投資股份有限公司      3  3000000\n",
       "255   太平洋崇光百貨股份有限公司      3  3000000\n",
       "405      德勤投資股份有限公司      3  3000000\n",
       "1665   鼎豐傳播事業股份有限公司      1  3000000\n",
       "445     日月高投資股份有限公司      5  2500000\n",
       "16       亞洲水泥股份有限公司      3  2500000\n",
       "1234     達泰投資股份有限公司      8  2300000\n",
       "15       亞洲投資股份有限公司      2  2000000\n",
       "282      富民運輸股份有限公司      2  2000000\n",
       "426     新北市鴻鵠社會關懷協會      1  2000000\n",
       "281      富喬工業股份有限公司      6  1750000\n",
       "407   愛山林建設開發股份有限公司      1  1700000\n",
       "998        聯立汽車有限公司      3  1600000"
      ]
     },
     "execution_count": 349,
     "metadata": {},
     "output_type": "execute_result"
    }
   ],
   "source": [
    "KMT_from.sort_values([\"捐贈總金額\",\"捐贈總次數\"],ascending=(False,False),inplace=True)\n",
    "KMT_from.head(15)"
   ]
  },
  {
   "cell_type": "markdown",
   "metadata": {},
   "source": [
    "前15名幾乎為投資公司、傳播業"
   ]
  },
  {
   "cell_type": "markdown",
   "metadata": {},
   "source": [
    "> * 捐贈次數最高前15名"
   ]
  },
  {
   "cell_type": "code",
   "execution_count": 350,
   "metadata": {},
   "outputs": [
    {
     "data": {
      "text/html": [
       "<div>\n",
       "<style scoped>\n",
       "    .dataframe tbody tr th:only-of-type {\n",
       "        vertical-align: middle;\n",
       "    }\n",
       "\n",
       "    .dataframe tbody tr th {\n",
       "        vertical-align: top;\n",
       "    }\n",
       "\n",
       "    .dataframe thead th {\n",
       "        text-align: right;\n",
       "    }\n",
       "</style>\n",
       "<table border=\"1\" class=\"dataframe\">\n",
       "  <thead>\n",
       "    <tr style=\"text-align: right;\">\n",
       "      <th></th>\n",
       "      <th>捐贈者</th>\n",
       "      <th>捐贈總次數</th>\n",
       "      <th>捐贈總金額</th>\n",
       "    </tr>\n",
       "  </thead>\n",
       "  <tbody>\n",
       "    <tr>\n",
       "      <th>1587</th>\n",
       "      <td>黃彥智</td>\n",
       "      <td>75</td>\n",
       "      <td>497</td>\n",
       "    </tr>\n",
       "    <tr>\n",
       "      <th>117</th>\n",
       "      <td>匿名</td>\n",
       "      <td>60</td>\n",
       "      <td>106220</td>\n",
       "    </tr>\n",
       "    <tr>\n",
       "      <th>12</th>\n",
       "      <td>中華民國全國建築師公會</td>\n",
       "      <td>10</td>\n",
       "      <td>1400000</td>\n",
       "    </tr>\n",
       "    <tr>\n",
       "      <th>1392</th>\n",
       "      <td>陳寶生</td>\n",
       "      <td>10</td>\n",
       "      <td>3000</td>\n",
       "    </tr>\n",
       "    <tr>\n",
       "      <th>840</th>\n",
       "      <td>燿華電子股份有限公司</td>\n",
       "      <td>9</td>\n",
       "      <td>3000000</td>\n",
       "    </tr>\n",
       "    <tr>\n",
       "      <th>718</th>\n",
       "      <td>楊尚修</td>\n",
       "      <td>9</td>\n",
       "      <td>18000</td>\n",
       "    </tr>\n",
       "    <tr>\n",
       "      <th>1032</th>\n",
       "      <td>萬啟雯</td>\n",
       "      <td>9</td>\n",
       "      <td>1800</td>\n",
       "    </tr>\n",
       "    <tr>\n",
       "      <th>1234</th>\n",
       "      <td>達泰投資股份有限公司</td>\n",
       "      <td>8</td>\n",
       "      <td>2300000</td>\n",
       "    </tr>\n",
       "    <tr>\n",
       "      <th>686</th>\n",
       "      <td>林鈺茗</td>\n",
       "      <td>8</td>\n",
       "      <td>3100</td>\n",
       "    </tr>\n",
       "    <tr>\n",
       "      <th>18</th>\n",
       "      <td>仇北屏</td>\n",
       "      <td>7</td>\n",
       "      <td>7000</td>\n",
       "    </tr>\n",
       "  </tbody>\n",
       "</table>\n",
       "</div>"
      ],
      "text/plain": [
       "              捐贈者  捐贈總次數    捐贈總金額\n",
       "1587          黃彥智     75      497\n",
       "117            匿名     60   106220\n",
       "12    中華民國全國建築師公會     10  1400000\n",
       "1392          陳寶生     10     3000\n",
       "840    燿華電子股份有限公司      9  3000000\n",
       "718           楊尚修      9    18000\n",
       "1032          萬啟雯      9     1800\n",
       "1234   達泰投資股份有限公司      8  2300000\n",
       "686           林鈺茗      8     3100\n",
       "18            仇北屏      7     7000"
      ]
     },
     "execution_count": 350,
     "metadata": {},
     "output_type": "execute_result"
    }
   ],
   "source": [
    "KMT_from.sort_values([\"捐贈總次數\",\"捐贈總金額\"],ascending=(False,False),inplace=True)\n",
    "KMT_from.head(10)"
   ]
  },
  {
   "cell_type": "markdown",
   "metadata": {},
   "source": [
    "發現：中華民國全國建築師公會的捐贈總金額相當高  \n",
    "達泰投資股份有限公司 是 燿華電子股份有限公司 的子公司"
   ]
  },
  {
   "cell_type": "markdown",
   "metadata": {},
   "source": [
    "---"
   ]
  },
  {
   "cell_type": "markdown",
   "metadata": {},
   "source": [
    "### PFP"
   ]
  },
  {
   "cell_type": "markdown",
   "metadata": {},
   "source": [
    "> * 收入來源分類與佔比"
   ]
  },
  {
   "cell_type": "code",
   "execution_count": 273,
   "metadata": {},
   "outputs": [
    {
     "data": {
      "text/html": [
       "<div>\n",
       "<style scoped>\n",
       "    .dataframe tbody tr th:only-of-type {\n",
       "        vertical-align: middle;\n",
       "    }\n",
       "\n",
       "    .dataframe tbody tr th {\n",
       "        vertical-align: top;\n",
       "    }\n",
       "\n",
       "    .dataframe thead th {\n",
       "        text-align: right;\n",
       "    }\n",
       "</style>\n",
       "<table border=\"1\" class=\"dataframe\">\n",
       "  <thead>\n",
       "    <tr style=\"text-align: right;\">\n",
       "      <th></th>\n",
       "      <th>收支科目</th>\n",
       "      <th>總次數</th>\n",
       "      <th>總金額</th>\n",
       "      <th>佔比</th>\n",
       "    </tr>\n",
       "  </thead>\n",
       "  <tbody>\n",
       "    <tr>\n",
       "      <th>0</th>\n",
       "      <td>個人捐贈收入</td>\n",
       "      <td>54</td>\n",
       "      <td>4150984.0</td>\n",
       "      <td>59.71</td>\n",
       "    </tr>\n",
       "    <tr>\n",
       "      <th>1</th>\n",
       "      <td>其它收入</td>\n",
       "      <td>2</td>\n",
       "      <td>10015.0</td>\n",
       "      <td>0.14</td>\n",
       "    </tr>\n",
       "    <tr>\n",
       "      <th>2</th>\n",
       "      <td>匿名捐贈收入</td>\n",
       "      <td>5</td>\n",
       "      <td>11101.0</td>\n",
       "      <td>0.16</td>\n",
       "    </tr>\n",
       "    <tr>\n",
       "      <th>3</th>\n",
       "      <td>營利事業捐贈收入</td>\n",
       "      <td>6</td>\n",
       "      <td>2780000.0</td>\n",
       "      <td>39.99</td>\n",
       "    </tr>\n",
       "  </tbody>\n",
       "</table>\n",
       "</div>"
      ],
      "text/plain": [
       "       收支科目  總次數        總金額     佔比\n",
       "0    個人捐贈收入   54  4150984.0  59.71\n",
       "1      其它收入    2    10015.0   0.14\n",
       "2    匿名捐贈收入    5    11101.0   0.16\n",
       "3  營利事業捐贈收入    6  2780000.0  39.99"
      ]
     },
     "execution_count": 273,
     "metadata": {},
     "output_type": "execute_result"
    }
   ],
   "source": [
    "PFP_cate_count = PFP.groupby(['收支科目'],as_index=False)['收入金額'].count() #捐贈類別\n",
    "PFP_cate_sum = PFP.groupby(['收支科目'],as_index=False)['收入金額'].sum() #總額\n",
    "PFP_cate = pd.merge(PFP_cate_count, PFP_cate_sum, on='收支科目')\n",
    "PFP_cate.rename(columns = {\"收入金額_x\":\"總次數\",\"收入金額_y\":\"總金額\"},inplace = True) #修改欄位名稱\n",
    "PFP_cate['佔比'] = (PFP_cate['總金額']/partyamount[2] * 100).round(decimals=2) #新增佔比欄位\n",
    "PFP_cate"
   ]
  },
  {
   "cell_type": "markdown",
   "metadata": {},
   "source": [
    "> * 捐贈金額最高前15名"
   ]
  },
  {
   "cell_type": "code",
   "execution_count": 333,
   "metadata": {},
   "outputs": [],
   "source": [
    "PFP_from_count = PFP.groupby(['捐贈者'],as_index=False)['收入金額'].count() #捐贈者次數\n",
    "PFP_from_amount = PFP.groupby(['捐贈者'],as_index=False)['收入金額'].sum() #捐贈者金額\n",
    "PFP_from = pd.merge(PFP_from_count, PFP_from_amount, on='捐贈者')\n",
    "PFP_from.rename(columns = {\"收入金額_x\":\"捐贈總次數\",\"收入金額_y\":\"捐贈總金額\"},inplace = True) #修改欄位名稱"
   ]
  },
  {
   "cell_type": "code",
   "execution_count": 345,
   "metadata": {},
   "outputs": [
    {
     "data": {
      "text/html": [
       "<div>\n",
       "<style scoped>\n",
       "    .dataframe tbody tr th:only-of-type {\n",
       "        vertical-align: middle;\n",
       "    }\n",
       "\n",
       "    .dataframe tbody tr th {\n",
       "        vertical-align: top;\n",
       "    }\n",
       "\n",
       "    .dataframe thead th {\n",
       "        text-align: right;\n",
       "    }\n",
       "</style>\n",
       "<table border=\"1\" class=\"dataframe\">\n",
       "  <thead>\n",
       "    <tr style=\"text-align: right;\">\n",
       "      <th></th>\n",
       "      <th>捐贈者</th>\n",
       "      <th>捐贈總次數</th>\n",
       "      <th>捐贈總金額</th>\n",
       "    </tr>\n",
       "  </thead>\n",
       "  <tbody>\n",
       "    <tr>\n",
       "      <th>6</th>\n",
       "      <td>功誠建設股份有限公司</td>\n",
       "      <td>1</td>\n",
       "      <td>780000.0</td>\n",
       "    </tr>\n",
       "    <tr>\n",
       "      <th>18</th>\n",
       "      <td>捷順建設有限公司</td>\n",
       "      <td>1</td>\n",
       "      <td>500000.0</td>\n",
       "    </tr>\n",
       "    <tr>\n",
       "      <th>30</th>\n",
       "      <td>正大尼龍工業股份有限公司</td>\n",
       "      <td>1</td>\n",
       "      <td>500000.0</td>\n",
       "    </tr>\n",
       "    <tr>\n",
       "      <th>13</th>\n",
       "      <td>安家國際企業股份有限公司</td>\n",
       "      <td>1</td>\n",
       "      <td>500000.0</td>\n",
       "    </tr>\n",
       "    <tr>\n",
       "      <th>29</th>\n",
       "      <td>正僑開發股份有限公司</td>\n",
       "      <td>1</td>\n",
       "      <td>250000.0</td>\n",
       "    </tr>\n",
       "    <tr>\n",
       "      <th>31</th>\n",
       "      <td>正大纖維工業股份有限公司</td>\n",
       "      <td>1</td>\n",
       "      <td>250000.0</td>\n",
       "    </tr>\n",
       "    <tr>\n",
       "      <th>8</th>\n",
       "      <td>周五六</td>\n",
       "      <td>2</td>\n",
       "      <td>200000.0</td>\n",
       "    </tr>\n",
       "    <tr>\n",
       "      <th>40</th>\n",
       "      <td>陳進吉</td>\n",
       "      <td>2</td>\n",
       "      <td>200000.0</td>\n",
       "    </tr>\n",
       "    <tr>\n",
       "      <th>11</th>\n",
       "      <td>周陳秀霞</td>\n",
       "      <td>2</td>\n",
       "      <td>200000.0</td>\n",
       "    </tr>\n",
       "    <tr>\n",
       "      <th>10</th>\n",
       "      <td>周怡吟</td>\n",
       "      <td>2</td>\n",
       "      <td>200000.0</td>\n",
       "    </tr>\n",
       "    <tr>\n",
       "      <th>45</th>\n",
       "      <td>龍思呈</td>\n",
       "      <td>2</td>\n",
       "      <td>200000.0</td>\n",
       "    </tr>\n",
       "    <tr>\n",
       "      <th>28</th>\n",
       "      <td>楊簡美珠</td>\n",
       "      <td>1</td>\n",
       "      <td>200000.0</td>\n",
       "    </tr>\n",
       "    <tr>\n",
       "      <th>37</th>\n",
       "      <td>陳怡潔</td>\n",
       "      <td>1</td>\n",
       "      <td>200000.0</td>\n",
       "    </tr>\n",
       "    <tr>\n",
       "      <th>14</th>\n",
       "      <td>宋楚瑜</td>\n",
       "      <td>1</td>\n",
       "      <td>200000.0</td>\n",
       "    </tr>\n",
       "    <tr>\n",
       "      <th>24</th>\n",
       "      <td>李鴻鈞</td>\n",
       "      <td>1</td>\n",
       "      <td>200000.0</td>\n",
       "    </tr>\n",
       "  </tbody>\n",
       "</table>\n",
       "</div>"
      ],
      "text/plain": [
       "             捐贈者  捐贈總次數     捐贈總金額\n",
       "6     功誠建設股份有限公司      1  780000.0\n",
       "18      捷順建設有限公司      1  500000.0\n",
       "30  正大尼龍工業股份有限公司      1  500000.0\n",
       "13  安家國際企業股份有限公司      1  500000.0\n",
       "29    正僑開發股份有限公司      1  250000.0\n",
       "31  正大纖維工業股份有限公司      1  250000.0\n",
       "8            周五六      2  200000.0\n",
       "40           陳進吉      2  200000.0\n",
       "11          周陳秀霞      2  200000.0\n",
       "10           周怡吟      2  200000.0\n",
       "45           龍思呈      2  200000.0\n",
       "28          楊簡美珠      1  200000.0\n",
       "37           陳怡潔      1  200000.0\n",
       "14           宋楚瑜      1  200000.0\n",
       "24           李鴻鈞      1  200000.0"
      ]
     },
     "execution_count": 345,
     "metadata": {},
     "output_type": "execute_result"
    }
   ],
   "source": [
    "PFP_from.sort_values([\"捐贈總金額\",\"捐贈總次數\"],ascending=(False,False),inplace=True)\n",
    "PFP_from.head(15)"
   ]
  },
  {
   "cell_type": "markdown",
   "metadata": {},
   "source": [
    "> * 捐贈次數最高前15名"
   ]
  },
  {
   "cell_type": "code",
   "execution_count": 344,
   "metadata": {},
   "outputs": [
    {
     "data": {
      "text/html": [
       "<div>\n",
       "<style scoped>\n",
       "    .dataframe tbody tr th:only-of-type {\n",
       "        vertical-align: middle;\n",
       "    }\n",
       "\n",
       "    .dataframe tbody tr th {\n",
       "        vertical-align: top;\n",
       "    }\n",
       "\n",
       "    .dataframe thead th {\n",
       "        text-align: right;\n",
       "    }\n",
       "</style>\n",
       "<table border=\"1\" class=\"dataframe\">\n",
       "  <thead>\n",
       "    <tr style=\"text-align: right;\">\n",
       "      <th></th>\n",
       "      <th>捐贈者</th>\n",
       "      <th>捐贈總次數</th>\n",
       "      <th>捐贈總金額</th>\n",
       "    </tr>\n",
       "  </thead>\n",
       "  <tbody>\n",
       "    <tr>\n",
       "      <th>26</th>\n",
       "      <td>林家安</td>\n",
       "      <td>12</td>\n",
       "      <td>1284.0</td>\n",
       "    </tr>\n",
       "    <tr>\n",
       "      <th>19</th>\n",
       "      <td>朱建成</td>\n",
       "      <td>3</td>\n",
       "      <td>1800.0</td>\n",
       "    </tr>\n",
       "    <tr>\n",
       "      <th>8</th>\n",
       "      <td>周五六</td>\n",
       "      <td>2</td>\n",
       "      <td>200000.0</td>\n",
       "    </tr>\n",
       "    <tr>\n",
       "      <th>40</th>\n",
       "      <td>陳進吉</td>\n",
       "      <td>2</td>\n",
       "      <td>200000.0</td>\n",
       "    </tr>\n",
       "    <tr>\n",
       "      <th>11</th>\n",
       "      <td>周陳秀霞</td>\n",
       "      <td>2</td>\n",
       "      <td>200000.0</td>\n",
       "    </tr>\n",
       "    <tr>\n",
       "      <th>10</th>\n",
       "      <td>周怡吟</td>\n",
       "      <td>2</td>\n",
       "      <td>200000.0</td>\n",
       "    </tr>\n",
       "    <tr>\n",
       "      <th>45</th>\n",
       "      <td>龍思呈</td>\n",
       "      <td>2</td>\n",
       "      <td>200000.0</td>\n",
       "    </tr>\n",
       "    <tr>\n",
       "      <th>5</th>\n",
       "      <td>利息收入</td>\n",
       "      <td>2</td>\n",
       "      <td>10015.0</td>\n",
       "    </tr>\n",
       "    <tr>\n",
       "      <th>2</th>\n",
       "      <td>152244</td>\n",
       "      <td>2</td>\n",
       "      <td>1000.0</td>\n",
       "    </tr>\n",
       "    <tr>\n",
       "      <th>6</th>\n",
       "      <td>功誠建設股份有限公司</td>\n",
       "      <td>1</td>\n",
       "      <td>780000.0</td>\n",
       "    </tr>\n",
       "    <tr>\n",
       "      <th>18</th>\n",
       "      <td>捷順建設有限公司</td>\n",
       "      <td>1</td>\n",
       "      <td>500000.0</td>\n",
       "    </tr>\n",
       "    <tr>\n",
       "      <th>30</th>\n",
       "      <td>正大尼龍工業股份有限公司</td>\n",
       "      <td>1</td>\n",
       "      <td>500000.0</td>\n",
       "    </tr>\n",
       "    <tr>\n",
       "      <th>13</th>\n",
       "      <td>安家國際企業股份有限公司</td>\n",
       "      <td>1</td>\n",
       "      <td>500000.0</td>\n",
       "    </tr>\n",
       "    <tr>\n",
       "      <th>29</th>\n",
       "      <td>正僑開發股份有限公司</td>\n",
       "      <td>1</td>\n",
       "      <td>250000.0</td>\n",
       "    </tr>\n",
       "    <tr>\n",
       "      <th>31</th>\n",
       "      <td>正大纖維工業股份有限公司</td>\n",
       "      <td>1</td>\n",
       "      <td>250000.0</td>\n",
       "    </tr>\n",
       "  </tbody>\n",
       "</table>\n",
       "</div>"
      ],
      "text/plain": [
       "             捐贈者  捐贈總次數     捐贈總金額\n",
       "26           林家安     12    1284.0\n",
       "19           朱建成      3    1800.0\n",
       "8            周五六      2  200000.0\n",
       "40           陳進吉      2  200000.0\n",
       "11          周陳秀霞      2  200000.0\n",
       "10           周怡吟      2  200000.0\n",
       "45           龍思呈      2  200000.0\n",
       "5           利息收入      2   10015.0\n",
       "2         152244      2    1000.0\n",
       "6     功誠建設股份有限公司      1  780000.0\n",
       "18      捷順建設有限公司      1  500000.0\n",
       "30  正大尼龍工業股份有限公司      1  500000.0\n",
       "13  安家國際企業股份有限公司      1  500000.0\n",
       "29    正僑開發股份有限公司      1  250000.0\n",
       "31  正大纖維工業股份有限公司      1  250000.0"
      ]
     },
     "execution_count": 344,
     "metadata": {},
     "output_type": "execute_result"
    }
   ],
   "source": [
    "PFP_from.sort_values([\"捐贈總次數\",\"捐贈總金額\"],ascending=(False,False),inplace=True)\n",
    "PFP_from.head(15)"
   ]
  },
  {
   "cell_type": "markdown",
   "metadata": {},
   "source": [
    "周五六：是親民黨台南市政治人物，曾任立法委員、台南縣議會議長  \n",
    "周陳秀霞：周五六的妻子，為親民黨不分區立法委員  \n",
    "龍思呈：無黨籍"
   ]
  },
  {
   "cell_type": "markdown",
   "metadata": {},
   "source": [
    "---"
   ]
  },
  {
   "cell_type": "markdown",
   "metadata": {},
   "source": [
    "# 3.2 時間趨勢"
   ]
  },
  {
   "cell_type": "markdown",
   "metadata": {},
   "source": [
    "### DDT"
   ]
  },
  {
   "cell_type": "code",
   "execution_count": 351,
   "metadata": {},
   "outputs": [
    {
     "data": {
      "text/html": [
       "<div>\n",
       "<style scoped>\n",
       "    .dataframe tbody tr th:only-of-type {\n",
       "        vertical-align: middle;\n",
       "    }\n",
       "\n",
       "    .dataframe tbody tr th {\n",
       "        vertical-align: top;\n",
       "    }\n",
       "\n",
       "    .dataframe thead th {\n",
       "        text-align: right;\n",
       "    }\n",
       "</style>\n",
       "<table border=\"1\" class=\"dataframe\">\n",
       "  <thead>\n",
       "    <tr style=\"text-align: right;\">\n",
       "      <th></th>\n",
       "      <th>捐贈月</th>\n",
       "      <th>總次數</th>\n",
       "      <th>總金額</th>\n",
       "      <th>該月平均單筆金額</th>\n",
       "    </tr>\n",
       "  </thead>\n",
       "  <tbody>\n",
       "    <tr>\n",
       "      <th>0</th>\n",
       "      <td>01</td>\n",
       "      <td>230</td>\n",
       "      <td>14906433.0</td>\n",
       "      <td>64811.0</td>\n",
       "    </tr>\n",
       "    <tr>\n",
       "      <th>1</th>\n",
       "      <td>02</td>\n",
       "      <td>56</td>\n",
       "      <td>2756997.0</td>\n",
       "      <td>49232.0</td>\n",
       "    </tr>\n",
       "    <tr>\n",
       "      <th>2</th>\n",
       "      <td>03</td>\n",
       "      <td>121</td>\n",
       "      <td>9557925.0</td>\n",
       "      <td>78991.0</td>\n",
       "    </tr>\n",
       "    <tr>\n",
       "      <th>3</th>\n",
       "      <td>04</td>\n",
       "      <td>108</td>\n",
       "      <td>11257386.0</td>\n",
       "      <td>104235.0</td>\n",
       "    </tr>\n",
       "    <tr>\n",
       "      <th>4</th>\n",
       "      <td>05</td>\n",
       "      <td>245</td>\n",
       "      <td>24718863.0</td>\n",
       "      <td>100893.0</td>\n",
       "    </tr>\n",
       "    <tr>\n",
       "      <th>5</th>\n",
       "      <td>06</td>\n",
       "      <td>129</td>\n",
       "      <td>14735391.0</td>\n",
       "      <td>114228.0</td>\n",
       "    </tr>\n",
       "    <tr>\n",
       "      <th>6</th>\n",
       "      <td>07</td>\n",
       "      <td>169</td>\n",
       "      <td>12687568.0</td>\n",
       "      <td>75074.0</td>\n",
       "    </tr>\n",
       "    <tr>\n",
       "      <th>7</th>\n",
       "      <td>08</td>\n",
       "      <td>133</td>\n",
       "      <td>23222020.0</td>\n",
       "      <td>174602.0</td>\n",
       "    </tr>\n",
       "    <tr>\n",
       "      <th>8</th>\n",
       "      <td>09</td>\n",
       "      <td>319</td>\n",
       "      <td>24227198.0</td>\n",
       "      <td>75947.0</td>\n",
       "    </tr>\n",
       "    <tr>\n",
       "      <th>9</th>\n",
       "      <td>10</td>\n",
       "      <td>191</td>\n",
       "      <td>14713608.0</td>\n",
       "      <td>77035.0</td>\n",
       "    </tr>\n",
       "    <tr>\n",
       "      <th>10</th>\n",
       "      <td>11</td>\n",
       "      <td>256</td>\n",
       "      <td>18474591.0</td>\n",
       "      <td>72166.0</td>\n",
       "    </tr>\n",
       "    <tr>\n",
       "      <th>11</th>\n",
       "      <td>12</td>\n",
       "      <td>758</td>\n",
       "      <td>30321193.0</td>\n",
       "      <td>40002.0</td>\n",
       "    </tr>\n",
       "  </tbody>\n",
       "</table>\n",
       "</div>"
      ],
      "text/plain": [
       "   捐贈月  總次數         總金額  該月平均單筆金額\n",
       "0   01  230  14906433.0   64811.0\n",
       "1   02   56   2756997.0   49232.0\n",
       "2   03  121   9557925.0   78991.0\n",
       "3   04  108  11257386.0  104235.0\n",
       "4   05  245  24718863.0  100893.0\n",
       "5   06  129  14735391.0  114228.0\n",
       "6   07  169  12687568.0   75074.0\n",
       "7   08  133  23222020.0  174602.0\n",
       "8   09  319  24227198.0   75947.0\n",
       "9   10  191  14713608.0   77035.0\n",
       "10  11  256  18474591.0   72166.0\n",
       "11  12  758  30321193.0   40002.0"
      ]
     },
     "execution_count": 351,
     "metadata": {},
     "output_type": "execute_result"
    }
   ],
   "source": [
    "DDT_month_count = DDT.groupby(['捐贈月'],as_index=False)['收入金額'].count() #單月捐贈總次數\n",
    "DDT_month_sum = DDT.groupby(['捐贈月'],as_index=False)['收入金額'].sum() #單月捐贈總金額\n",
    "DDT_month = pd.merge(DDT_month_count, DDT_month_sum, on='捐贈月') #合併建立dataframe\n",
    "DDT_month.rename(columns = {\"收入金額_x\":\"總次數\",\"收入金額_y\":\"總金額\"},inplace = True) #修改欄位名稱\n",
    "DDT_month['該月平均單筆金額'] = DDT_month['總金額']/DDT_month['總次數'] #該月平均單筆捐贈金額\n",
    "DDT_month['該月平均單筆金額']=DDT_month['該月平均單筆金額'].round(decimals=0) #小數位後1位\n",
    "DDT_month"
   ]
  },
  {
   "cell_type": "code",
   "execution_count": 110,
   "metadata": {},
   "outputs": [
    {
     "data": {
      "image/png": "[encoded data removed]",
      "text/plain": [
       "<matplotlib.figure.Figure at 0x2075c799a90>"
      ]
     },
     "metadata": {
      "needs_background": "light"
     },
     "output_type": "display_data"
    }
   ],
   "source": [
    "x = DDT_month['捐贈月']\n",
    "y1 = DDT_month['總金額'].values\n",
    "y2 = DDT_month['總次數'].values\n",
    "\n",
    "fig = plt.figure(figsize=(9,6))\n",
    "\n",
    "ax1 = fig.add_subplot(111)\n",
    "ax1.plot(x, y1,\"g\")\n",
    "ax1.set_ylabel('金額(千萬)', fontproperties=my_font, fontsize=14)\n",
    "ax1.set_xlabel('月份', fontproperties=my_font, fontsize=14)\n",
    "ax1.set_title(\"民進黨\", fontproperties=my_font, fontsize=18)\n",
    "\n",
    "ax2 = ax1.twinx()  # this is the important function\n",
    "ax2.plot(x, y2, \"y\")\n",
    "ax2.set_ylabel('次數', fontproperties=my_font, fontsize=14)\n",
    "ax2.set_xlabel('月份', fontproperties=my_font, fontsize=14)\n",
    "\n",
    "plt.show()"
   ]
  },
  {
   "cell_type": "markdown",
   "metadata": {},
   "source": [
    "DDT 收入最高的月份是12月，收入超過700萬"
   ]
  },
  {
   "cell_type": "markdown",
   "metadata": {},
   "source": [
    "#### KMT"
   ]
  },
  {
   "cell_type": "code",
   "execution_count": 23,
   "metadata": {},
   "outputs": [
    {
     "data": {
      "text/html": [
       "<div>\n",
       "<style scoped>\n",
       "    .dataframe tbody tr th:only-of-type {\n",
       "        vertical-align: middle;\n",
       "    }\n",
       "\n",
       "    .dataframe tbody tr th {\n",
       "        vertical-align: top;\n",
       "    }\n",
       "\n",
       "    .dataframe thead th {\n",
       "        text-align: right;\n",
       "    }\n",
       "</style>\n",
       "<table border=\"1\" class=\"dataframe\">\n",
       "  <thead>\n",
       "    <tr style=\"text-align: right;\">\n",
       "      <th></th>\n",
       "      <th>捐贈月</th>\n",
       "      <th>總次數</th>\n",
       "      <th>總金額</th>\n",
       "      <th>該月平均單筆金額</th>\n",
       "    </tr>\n",
       "  </thead>\n",
       "  <tbody>\n",
       "    <tr>\n",
       "      <th>0</th>\n",
       "      <td>01</td>\n",
       "      <td>98</td>\n",
       "      <td>5184479</td>\n",
       "      <td>52903.0</td>\n",
       "    </tr>\n",
       "    <tr>\n",
       "      <th>1</th>\n",
       "      <td>02</td>\n",
       "      <td>35</td>\n",
       "      <td>1970200</td>\n",
       "      <td>56291.0</td>\n",
       "    </tr>\n",
       "    <tr>\n",
       "      <th>2</th>\n",
       "      <td>04</td>\n",
       "      <td>32</td>\n",
       "      <td>1353826</td>\n",
       "      <td>42307.0</td>\n",
       "    </tr>\n",
       "    <tr>\n",
       "      <th>3</th>\n",
       "      <td>05</td>\n",
       "      <td>222</td>\n",
       "      <td>11398965</td>\n",
       "      <td>51347.0</td>\n",
       "    </tr>\n",
       "    <tr>\n",
       "      <th>4</th>\n",
       "      <td>06</td>\n",
       "      <td>101</td>\n",
       "      <td>4459806</td>\n",
       "      <td>44156.0</td>\n",
       "    </tr>\n",
       "    <tr>\n",
       "      <th>5</th>\n",
       "      <td>07</td>\n",
       "      <td>108</td>\n",
       "      <td>4598048</td>\n",
       "      <td>42575.0</td>\n",
       "    </tr>\n",
       "    <tr>\n",
       "      <th>6</th>\n",
       "      <td>08</td>\n",
       "      <td>467</td>\n",
       "      <td>16587022</td>\n",
       "      <td>35518.0</td>\n",
       "    </tr>\n",
       "    <tr>\n",
       "      <th>7</th>\n",
       "      <td>09</td>\n",
       "      <td>231</td>\n",
       "      <td>17016379</td>\n",
       "      <td>73664.0</td>\n",
       "    </tr>\n",
       "    <tr>\n",
       "      <th>8</th>\n",
       "      <td>10</td>\n",
       "      <td>535</td>\n",
       "      <td>32339827</td>\n",
       "      <td>60448.0</td>\n",
       "    </tr>\n",
       "    <tr>\n",
       "      <th>9</th>\n",
       "      <td>11</td>\n",
       "      <td>181</td>\n",
       "      <td>32656720</td>\n",
       "      <td>180424.0</td>\n",
       "    </tr>\n",
       "    <tr>\n",
       "      <th>10</th>\n",
       "      <td>12</td>\n",
       "      <td>98</td>\n",
       "      <td>7619286</td>\n",
       "      <td>77748.0</td>\n",
       "    </tr>\n",
       "  </tbody>\n",
       "</table>\n",
       "</div>"
      ],
      "text/plain": [
       "   捐贈月  總次數       總金額  該月平均單筆金額\n",
       "0   01   98   5184479   52903.0\n",
       "1   02   35   1970200   56291.0\n",
       "2   04   32   1353826   42307.0\n",
       "3   05  222  11398965   51347.0\n",
       "4   06  101   4459806   44156.0\n",
       "5   07  108   4598048   42575.0\n",
       "6   08  467  16587022   35518.0\n",
       "7   09  231  17016379   73664.0\n",
       "8   10  535  32339827   60448.0\n",
       "9   11  181  32656720  180424.0\n",
       "10  12   98   7619286   77748.0"
      ]
     },
     "execution_count": 23,
     "metadata": {},
     "output_type": "execute_result"
    }
   ],
   "source": [
    "KMT_month_count = KMT.groupby(['捐贈月'],as_index=False)['收入金額'].count() #單月捐贈總次數\n",
    "KMT_month_sum = KMT.groupby(['捐贈月'],as_index=False)['收入金額'].sum() #單月捐贈總金額\n",
    "KMT_month = pd.merge(KMT_month_count, KMT_month_sum, on='捐贈月') #合併建立dataframe\n",
    "KMT_month.rename(columns = {\"收入金額_x\":\"總次數\",\"收入金額_y\":\"總金額\"},inplace = True) #修改欄位名稱\n",
    "KMT_month['該月平均單筆金額'] = KMT_month['總金額']/KMT_month['總次數'] #該月平均單筆捐贈金額\n",
    "KMT_month['該月平均單筆金額']=KMT_month['該月平均單筆金額'].round(decimals=0) #小數位後1位\n",
    "KMT_month"
   ]
  },
  {
   "cell_type": "code",
   "execution_count": 111,
   "metadata": {},
   "outputs": [
    {
     "data": {
      "image/png": "[encoded data removed]",
      "text/plain": [
       "<matplotlib.figure.Figure at 0x2075c29fe80>"
      ]
     },
     "metadata": {
      "needs_background": "light"
     },
     "output_type": "display_data"
    }
   ],
   "source": [
    "x = KMT_month['捐贈月']\n",
    "y1 = KMT_month['總金額'].values\n",
    "y2 = KMT_month['總次數'].values\n",
    "\n",
    "fig = plt.figure(figsize=(9,6))\n",
    "\n",
    "ax1 = fig.add_subplot(111)\n",
    "ax1.plot(x, y1,\"b\")\n",
    "ax1.set_ylabel('金額(千萬)', fontproperties=my_font, fontsize=14)\n",
    "ax1.set_xlabel('月份', fontproperties=my_font, fontsize=14)\n",
    "ax1.set_title(\"國民黨\", fontproperties=my_font, fontsize=18)\n",
    "\n",
    "ax2 = ax1.twinx()\n",
    "ax2.plot(x, y2, \"y\")\n",
    "ax2.set_ylabel('次數', fontproperties=my_font, fontsize=14)\n",
    "ax2.set_xlabel('月份', fontproperties=my_font, fontsize=14)\n",
    "\n",
    "plt.show()"
   ]
  },
  {
   "cell_type": "markdown",
   "metadata": {},
   "source": [
    "#### PFP"
   ]
  },
  {
   "cell_type": "code",
   "execution_count": 25,
   "metadata": {},
   "outputs": [
    {
     "data": {
      "text/html": [
       "<div>\n",
       "<style scoped>\n",
       "    .dataframe tbody tr th:only-of-type {\n",
       "        vertical-align: middle;\n",
       "    }\n",
       "\n",
       "    .dataframe tbody tr th {\n",
       "        vertical-align: top;\n",
       "    }\n",
       "\n",
       "    .dataframe thead th {\n",
       "        text-align: right;\n",
       "    }\n",
       "</style>\n",
       "<table border=\"1\" class=\"dataframe\">\n",
       "  <thead>\n",
       "    <tr style=\"text-align: right;\">\n",
       "      <th></th>\n",
       "      <th>捐贈月</th>\n",
       "      <th>總次數</th>\n",
       "      <th>總金額</th>\n",
       "      <th>該月平均單筆金額</th>\n",
       "    </tr>\n",
       "  </thead>\n",
       "  <tbody>\n",
       "    <tr>\n",
       "      <th>0</th>\n",
       "      <td>01</td>\n",
       "      <td>3</td>\n",
       "      <td>100707.0</td>\n",
       "      <td>33569.0</td>\n",
       "    </tr>\n",
       "    <tr>\n",
       "      <th>1</th>\n",
       "      <td>02</td>\n",
       "      <td>3</td>\n",
       "      <td>300107.0</td>\n",
       "      <td>100036.0</td>\n",
       "    </tr>\n",
       "    <tr>\n",
       "      <th>2</th>\n",
       "      <td>03</td>\n",
       "      <td>5</td>\n",
       "      <td>1100107.0</td>\n",
       "      <td>220021.0</td>\n",
       "    </tr>\n",
       "    <tr>\n",
       "      <th>3</th>\n",
       "      <td>04</td>\n",
       "      <td>9</td>\n",
       "      <td>900707.0</td>\n",
       "      <td>100079.0</td>\n",
       "    </tr>\n",
       "    <tr>\n",
       "      <th>4</th>\n",
       "      <td>05</td>\n",
       "      <td>5</td>\n",
       "      <td>880707.0</td>\n",
       "      <td>176141.0</td>\n",
       "    </tr>\n",
       "    <tr>\n",
       "      <th>5</th>\n",
       "      <td>06</td>\n",
       "      <td>5</td>\n",
       "      <td>314830.0</td>\n",
       "      <td>62966.0</td>\n",
       "    </tr>\n",
       "    <tr>\n",
       "      <th>6</th>\n",
       "      <td>07</td>\n",
       "      <td>5</td>\n",
       "      <td>111207.0</td>\n",
       "      <td>22241.0</td>\n",
       "    </tr>\n",
       "    <tr>\n",
       "      <th>7</th>\n",
       "      <td>08</td>\n",
       "      <td>6</td>\n",
       "      <td>830407.0</td>\n",
       "      <td>138401.0</td>\n",
       "    </tr>\n",
       "    <tr>\n",
       "      <th>8</th>\n",
       "      <td>09</td>\n",
       "      <td>2</td>\n",
       "      <td>100107.0</td>\n",
       "      <td>50054.0</td>\n",
       "    </tr>\n",
       "    <tr>\n",
       "      <th>9</th>\n",
       "      <td>10</td>\n",
       "      <td>6</td>\n",
       "      <td>501107.0</td>\n",
       "      <td>83518.0</td>\n",
       "    </tr>\n",
       "    <tr>\n",
       "      <th>10</th>\n",
       "      <td>11</td>\n",
       "      <td>4</td>\n",
       "      <td>106708.0</td>\n",
       "      <td>26677.0</td>\n",
       "    </tr>\n",
       "    <tr>\n",
       "      <th>11</th>\n",
       "      <td>12</td>\n",
       "      <td>14</td>\n",
       "      <td>1705399.0</td>\n",
       "      <td>121814.0</td>\n",
       "    </tr>\n",
       "  </tbody>\n",
       "</table>\n",
       "</div>"
      ],
      "text/plain": [
       "   捐贈月  總次數        總金額  該月平均單筆金額\n",
       "0   01    3   100707.0   33569.0\n",
       "1   02    3   300107.0  100036.0\n",
       "2   03    5  1100107.0  220021.0\n",
       "3   04    9   900707.0  100079.0\n",
       "4   05    5   880707.0  176141.0\n",
       "5   06    5   314830.0   62966.0\n",
       "6   07    5   111207.0   22241.0\n",
       "7   08    6   830407.0  138401.0\n",
       "8   09    2   100107.0   50054.0\n",
       "9   10    6   501107.0   83518.0\n",
       "10  11    4   106708.0   26677.0\n",
       "11  12   14  1705399.0  121814.0"
      ]
     },
     "execution_count": 25,
     "metadata": {},
     "output_type": "execute_result"
    }
   ],
   "source": [
    "PFP_month_count = PFP.groupby(['捐贈月'],as_index=False)['收入金額'].count() #單月捐贈總次數\n",
    "PFP_month_sum = PFP.groupby(['捐贈月'],as_index=False)['收入金額'].sum() #單月捐贈總金額\n",
    "PFP_month = pd.merge(PFP_month_count, PFP_month_sum, on='捐贈月') #合併建立dataframe\n",
    "PFP_month.rename(columns = {\"收入金額_x\":\"總次數\",\"收入金額_y\":\"總金額\"},inplace = True) #修改欄位名稱\n",
    "PFP_month['該月平均單筆金額'] = PFP_month['總金額']/PFP_month['總次數'] #該月平均單筆捐贈金額\n",
    "PFP_month['該月平均單筆金額']=PFP_month['該月平均單筆金額'].round(decimals=0) #小數位後1位\n",
    "PFP_month"
   ]
  },
  {
   "cell_type": "code",
   "execution_count": 112,
   "metadata": {},
   "outputs": [
    {
     "data": {
      "image/png": "[encoded data removed]",
      "text/plain": [
       "<matplotlib.figure.Figure at 0x2075aaa55f8>"
      ]
     },
     "metadata": {
      "needs_background": "light"
     },
     "output_type": "display_data"
    }
   ],
   "source": [
    "x = PFP_month['捐贈月']\n",
    "y1 = PFP_month['總金額'].values\n",
    "y2 = PFP_month['總次數'].values\n",
    "\n",
    "fig = plt.figure(figsize=(9,6))\n",
    "\n",
    "ax1 = fig.add_subplot(111)\n",
    "ax1.plot(x, y1,\"r\")\n",
    "ax1.set_ylabel('金額', fontproperties=my_font, fontsize=14)\n",
    "ax1.set_xlabel('月份', fontproperties=my_font, fontsize=14)\n",
    "ax1.set_title(\"親民黨\", fontproperties=my_font, fontsize=18)\n",
    "\n",
    "ax2 = ax1.twinx()\n",
    "ax2.plot(x, y2, \"y\")\n",
    "ax2.set_ylabel('次數', fontproperties=my_font, fontsize=14)\n",
    "ax2.set_xlabel('月份', fontproperties=my_font, fontsize=14)\n",
    "\n",
    "plt.show()"
   ]
  },
  {
   "cell_type": "markdown",
   "metadata": {},
   "source": [
    "#### 2018年底發生什麼事情呢？  \n",
    "11/24舉行九合一選舉(大選綁公投)，主要為直轄市、縣市議員選舉  \n",
    "10/21日發生普悠瑪列車出軌事故"
   ]
  },
  {
   "cell_type": "markdown",
   "metadata": {},
   "source": [
    "---"
   ]
  },
  {
   "cell_type": "markdown",
   "metadata": {},
   "source": [
    "# 【幕前】"
   ]
  },
  {
   "cell_type": "markdown",
   "metadata": {},
   "source": [
    "# 2020總統大選候選人FB 粉專文章分析  \n",
    "時間：2019/1/1-2019/11/30"
   ]
  },
  {
   "cell_type": "markdown",
   "metadata": {},
   "source": [
    "# I.Pre-processing"
   ]
  },
  {
   "cell_type": "markdown",
   "metadata": {},
   "source": [
    "## 1.1 讀取文檔_html"
   ]
  },
  {
   "cell_type": "code",
   "execution_count": 589,
   "metadata": {},
   "outputs": [],
   "source": [
    "Tsai = pd.read_html(r'C:\\Users\\acgan\\Desktop\\Anaconda\\Data Mining\\week7\\Data\\FB2019\\DDT\\Dashboard.html')"
   ]
  },
  {
   "cell_type": "code",
   "execution_count": 619,
   "metadata": {},
   "outputs": [],
   "source": [
    "Han = pd.read_html(r'C:\\Users\\acgan\\Desktop\\Anaconda\\Data Mining\\week7\\Data\\FB2019\\KMT\\Dashboard.html')"
   ]
  },
  {
   "cell_type": "markdown",
   "metadata": {},
   "source": [
    "## 1.2 清整資料"
   ]
  },
  {
   "cell_type": "markdown",
   "metadata": {},
   "source": [
    "#### 民進黨候選人：蔡英文"
   ]
  },
  {
   "cell_type": "code",
   "execution_count": 590,
   "metadata": {},
   "outputs": [
    {
     "data": {
      "text/html": [
       "<div>\n",
       "<style scoped>\n",
       "    .dataframe tbody tr th:only-of-type {\n",
       "        vertical-align: middle;\n",
       "    }\n",
       "\n",
       "    .dataframe tbody tr th {\n",
       "        vertical-align: top;\n",
       "    }\n",
       "\n",
       "    .dataframe thead th {\n",
       "        text-align: right;\n",
       "    }\n",
       "</style>\n",
       "<table border=\"1\" class=\"dataframe\">\n",
       "  <thead>\n",
       "    <tr style=\"text-align: right;\">\n",
       "      <th></th>\n",
       "      <th></th>\n",
       "      <th>Number of Comments</th>\n",
       "    </tr>\n",
       "  </thead>\n",
       "  <tbody>\n",
       "    <tr>\n",
       "      <th>0</th>\n",
       "      <td>1 蔡英文 Tsai Ing-wen 11/30/19 9:40 PM 蔡英文新北市和桃園的...</td>\n",
       "      <td>700</td>\n",
       "    </tr>\n",
       "    <tr>\n",
       "      <th>1</th>\n",
       "      <td>2 蔡英文 Tsai Ing-wen 11/30/19 8:00 PM 我在雲林參加 蘇治芬...</td>\n",
       "      <td>4.3k</td>\n",
       "    </tr>\n",
       "    <tr>\n",
       "      <th>2</th>\n",
       "      <td>3 蔡英文 Tsai Ing-wen 11/30/19 5:55 PM 我在台中參加 洪慈庸...</td>\n",
       "      <td>1.3k</td>\n",
       "    </tr>\n",
       "    <tr>\n",
       "      <th>3</th>\n",
       "      <td>4 蔡英文 Tsai Ing-wen 11/30/19 3:50 PM 我在苗栗參加競選總部...</td>\n",
       "      <td>1.3k</td>\n",
       "    </tr>\n",
       "    <tr>\n",
       "      <th>4</th>\n",
       "      <td>5 蔡英文 Tsai Ing-wen 11/30/19 2:55 PM 我在新竹會紅 輝向未...</td>\n",
       "      <td>1.3k</td>\n",
       "    </tr>\n",
       "  </tbody>\n",
       "</table>\n",
       "</div>"
      ],
      "text/plain": [
       "                                                \\n\\n \\nNumber of Comments\\n\n",
       "0  1 蔡英文 Tsai Ing-wen 11/30/19 9:40 PM 蔡英文新北市和桃園的...                    700\n",
       "1  2 蔡英文 Tsai Ing-wen 11/30/19 8:00 PM 我在雲林參加 蘇治芬...                   4.3k\n",
       "2  3 蔡英文 Tsai Ing-wen 11/30/19 5:55 PM 我在台中參加 洪慈庸...                   1.3k\n",
       "3  4 蔡英文 Tsai Ing-wen 11/30/19 3:50 PM 我在苗栗參加競選總部...                   1.3k\n",
       "4  5 蔡英文 Tsai Ing-wen 11/30/19 2:55 PM 我在新竹會紅 輝向未...                   1.3k"
      ]
     },
     "execution_count": 590,
     "metadata": {},
     "output_type": "execute_result"
    }
   ],
   "source": [
    "DDTdf = Tsai[3]\n",
    "DDTdf.head()"
   ]
  },
  {
   "cell_type": "code",
   "execution_count": 591,
   "metadata": {},
   "outputs": [
    {
     "data": {
      "text/html": [
       "<div>\n",
       "<style scoped>\n",
       "    .dataframe tbody tr th:only-of-type {\n",
       "        vertical-align: middle;\n",
       "    }\n",
       "\n",
       "    .dataframe tbody tr th {\n",
       "        vertical-align: top;\n",
       "    }\n",
       "\n",
       "    .dataframe thead th {\n",
       "        text-align: right;\n",
       "    }\n",
       "</style>\n",
       "<table border=\"1\" class=\"dataframe\">\n",
       "  <thead>\n",
       "    <tr style=\"text-align: right;\">\n",
       "      <th></th>\n",
       "      <th>0</th>\n",
       "      <th>1</th>\n",
       "      <th>2</th>\n",
       "    </tr>\n",
       "  </thead>\n",
       "  <tbody>\n",
       "    <tr>\n",
       "      <th>0</th>\n",
       "      <td>1 蔡英文 Tsai Ing-wen 11/30/19 9:40</td>\n",
       "      <td>蔡英文新北市和桃園的競選總部明天成立，新北和桃園的朋友都要來喔！  現場活動很豐富，有熱鬧...</td>\n",
       "      <td>None</td>\n",
       "    </tr>\n",
       "    <tr>\n",
       "      <th>1</th>\n",
       "      <td>2 蔡英文 Tsai Ing-wen 11/30/19 8:00</td>\n",
       "      <td>我在雲林參加 蘇治芬競選總部成立大會，大家有在現場嗎？</td>\n",
       "      <td>None</td>\n",
       "    </tr>\n",
       "    <tr>\n",
       "      <th>2</th>\n",
       "      <td>3 蔡英文 Tsai Ing-wen 11/30/19 5:55</td>\n",
       "      <td>我在台中參加 洪慈庸的競選總部成立大會，有在現場的來留言喔！</td>\n",
       "      <td>None</td>\n",
       "    </tr>\n",
       "    <tr>\n",
       "      <th>3</th>\n",
       "      <td>4 蔡英文 Tsai Ing-wen 11/30/19 3:50</td>\n",
       "      <td>我在苗栗參加競選總部成立大會，在現場的朋友來留言吧！ 選做事的人．羅貴星 徐定禎</td>\n",
       "      <td>None</td>\n",
       "    </tr>\n",
       "    <tr>\n",
       "      <th>4</th>\n",
       "      <td>5 蔡英文 Tsai Ing-wen 11/30/19 2:55</td>\n",
       "      <td>我在新竹會紅 輝向未來 蔡英文&amp;鄭宏輝聯合競選總部成立大會，有到現場的朋友可以留言告訴我嗎...</td>\n",
       "      <td>None</td>\n",
       "    </tr>\n",
       "  </tbody>\n",
       "</table>\n",
       "</div>"
      ],
      "text/plain": [
       "                                   0  \\\n",
       "0  1 蔡英文 Tsai Ing-wen 11/30/19 9:40    \n",
       "1  2 蔡英文 Tsai Ing-wen 11/30/19 8:00    \n",
       "2  3 蔡英文 Tsai Ing-wen 11/30/19 5:55    \n",
       "3  4 蔡英文 Tsai Ing-wen 11/30/19 3:50    \n",
       "4  5 蔡英文 Tsai Ing-wen 11/30/19 2:55    \n",
       "\n",
       "                                                   1     2  \n",
       "0   蔡英文新北市和桃園的競選總部明天成立，新北和桃園的朋友都要來喔！  現場活動很豐富，有熱鬧...  None  \n",
       "1                        我在雲林參加 蘇治芬競選總部成立大會，大家有在現場嗎？  None  \n",
       "2                     我在台中參加 洪慈庸的競選總部成立大會，有在現場的來留言喔！  None  \n",
       "3           我在苗栗參加競選總部成立大會，在現場的朋友來留言吧！ 選做事的人．羅貴星 徐定禎  None  \n",
       "4   我在新竹會紅 輝向未來 蔡英文&鄭宏輝聯合競選總部成立大會，有到現場的朋友可以留言告訴我嗎...  None  "
      ]
     },
     "execution_count": 591,
     "metadata": {},
     "output_type": "execute_result"
    }
   ],
   "source": [
    "DDTdf.columns = ['post', 'comment'] #重設欄位名稱\n",
    "DDTdf = DDTdf['post'].str.split('PM|AM',expand=True) #以PM或AM切割string\n",
    "DDTdf.head()"
   ]
  },
  {
   "cell_type": "code",
   "execution_count": 592,
   "metadata": {},
   "outputs": [],
   "source": [
    "DDTdf.columns = ['time', 'post','n'] #重設欄位\n",
    "DDTdf = DDTdf.drop(['time','n'], axis =1) #留下post"
   ]
  },
  {
   "cell_type": "code",
   "execution_count": 594,
   "metadata": {},
   "outputs": [],
   "source": [
    "DDTdf = DDTdf.drop([738]) #刪除最後一行沒有內容的列"
   ]
  },
  {
   "cell_type": "code",
   "execution_count": 598,
   "metadata": {},
   "outputs": [],
   "source": [
    "DDTdf = DDTdf.values.tolist() #轉為list做後續文字處理"
   ]
  },
  {
   "cell_type": "code",
   "execution_count": 599,
   "metadata": {},
   "outputs": [
    {
     "name": "stdout",
     "output_type": "stream",
     "text": [
      "蔡英文發文總數： 738\n"
     ]
    }
   ],
   "source": [
    "print('蔡英文發文總數：',len(DDTdf))"
   ]
  },
  {
   "cell_type": "markdown",
   "metadata": {},
   "source": [
    "#### 國民黨候選人：韓國瑜"
   ]
  },
  {
   "cell_type": "code",
   "execution_count": 620,
   "metadata": {},
   "outputs": [
    {
     "data": {
      "text/html": [
       "<div>\n",
       "<style scoped>\n",
       "    .dataframe tbody tr th:only-of-type {\n",
       "        vertical-align: middle;\n",
       "    }\n",
       "\n",
       "    .dataframe tbody tr th {\n",
       "        vertical-align: top;\n",
       "    }\n",
       "\n",
       "    .dataframe thead th {\n",
       "        text-align: right;\n",
       "    }\n",
       "</style>\n",
       "<table border=\"1\" class=\"dataframe\">\n",
       "  <thead>\n",
       "    <tr style=\"text-align: right;\">\n",
       "      <th></th>\n",
       "      <th>post</th>\n",
       "    </tr>\n",
       "  </thead>\n",
       "  <tbody>\n",
       "    <tr>\n",
       "      <th>0</th>\n",
       "      <td>【萌寵音樂嘉年華－嘉義場】 《萌寵音樂嘉年華》嘉義場順利落幕，非常感謝一同前來關懷毛小孩的...</td>\n",
       "    </tr>\n",
       "    <tr>\n",
       "      <th>1</th>\n",
       "      <td>選舉越骯髒，執政必貪腐 選舉越清廉，執政越廉潔 #老話一句當選後我若貪污放棄假釋把我關到死</td>\n",
       "    </tr>\n",
       "    <tr>\n",
       "      <th>2</th>\n",
       "      <td>《國政領航、台灣富強》國政報告</td>\n",
       "    </tr>\n",
       "    <tr>\n",
       "      <th>3</th>\n",
       "      <td>麻煩各位好朋友從現在開始接到民調電話通通說「唯一支持蔡英文」，我們一起讓民進黨高興到202...</td>\n",
       "    </tr>\n",
       "    <tr>\n",
       "      <th>4</th>\n",
       "      <td>［通關密語—「夜襲」最後四句話］ 2020總統大選—是台灣選舉史上最荒謬的一次。 民進黨執...</td>\n",
       "    </tr>\n",
       "  </tbody>\n",
       "</table>\n",
       "</div>"
      ],
      "text/plain": [
       "                                                post\n",
       "0   【萌寵音樂嘉年華－嘉義場】 《萌寵音樂嘉年華》嘉義場順利落幕，非常感謝一同前來關懷毛小孩的...\n",
       "1      選舉越骯髒，執政必貪腐 選舉越清廉，執政越廉潔 #老話一句當選後我若貪污放棄假釋把我關到死\n",
       "2                                    《國政領航、台灣富強》國政報告\n",
       "3   麻煩各位好朋友從現在開始接到民調電話通通說「唯一支持蔡英文」，我們一起讓民進黨高興到202...\n",
       "4   ［通關密語—「夜襲」最後四句話］ 2020總統大選—是台灣選舉史上最荒謬的一次。 民進黨執..."
      ]
     },
     "execution_count": 620,
     "metadata": {},
     "output_type": "execute_result"
    }
   ],
   "source": [
    "KMTdf = Han[4]\n",
    "KMTdf.columns = ['post', 'comment'] #重設欄位名稱\n",
    "KMTdf = KMTdf['post'].str.split('PM|AM',expand=True) #以PM或AM切割string\n",
    "KMTdf.columns = ['time','post'] #重設欄位\n",
    "KMTdf = KMTdf.drop(['time'], axis =1) #留下post\n",
    "KMTdf = KMTdf.drop([380]) #刪除最後一行沒有內容的列\n",
    "KMTdf.head()"
   ]
  },
  {
   "cell_type": "code",
   "execution_count": 621,
   "metadata": {},
   "outputs": [],
   "source": [
    "KMTdf = KMTdf.values.tolist() #轉為list"
   ]
  },
  {
   "cell_type": "code",
   "execution_count": 622,
   "metadata": {},
   "outputs": [
    {
     "name": "stdout",
     "output_type": "stream",
     "text": [
      "韓國瑜發文總數： 380\n"
     ]
    }
   ],
   "source": [
    "print('韓國瑜發文總數：',len(KMTdf))"
   ]
  },
  {
   "cell_type": "markdown",
   "metadata": {},
   "source": [
    "# II. Analysis"
   ]
  },
  {
   "cell_type": "markdown",
   "metadata": {},
   "source": [
    "## 2.1 DDT"
   ]
  },
  {
   "cell_type": "code",
   "execution_count": 864,
   "metadata": {},
   "outputs": [],
   "source": [
    "#將list轉為string\n",
    "DDTls=[]\n",
    "for i in range(len(DDTdf)):\n",
    "    post = str(DDTdf[i]).lstrip(\" ['\").rstrip(\"']\")\n",
    "    DDTls.append(post)"
   ]
  },
  {
   "cell_type": "code",
   "execution_count": 865,
   "metadata": {},
   "outputs": [
    {
     "data": {
      "text/plain": [
       "'蔡英文新北市和桃園的競選總部明天成立，新北和桃園的朋友都要來喔！  現場活動很豐富，有熱鬧的表演和有趣的市集，直播車 #辣台號 也會在現場，希望明天可以看到大家。  🎊2020蔡英文總統連任新北市競選總部開幕 13:00-16:30 地點：板橋第二運動場 地址：新北市板橋區民權路117號  🎊2020蔡英文總統連桃園市北區競選總部開幕 14:30-18:00 兒童樂園活動 15:30-18:00舞台活動 地點：北桃園競選總部 地址：桃園市桃園區大興西路三段、正光路口  🎊2020蔡英文總統連任桃園市南區競選總部開幕 14:30-21:00主題市集活動 18:00-20:30 舞台活動 地點：南桃園競選總部 地址：桃園市中壢區復興路(中壢圖書館前)  ✅來看小英日常看直播車在哪裡：https://ingdaily.tw/code-1450 👉小額捐款點這邊： https://donate.iing.tw 👉我要投稿小英安價：https://ingdaily.tw/story'"
      ]
     },
     "execution_count": 865,
     "metadata": {},
     "output_type": "execute_result"
    }
   ],
   "source": [
    "DDTls[0]"
   ]
  },
  {
   "cell_type": "markdown",
   "metadata": {},
   "source": [
    "### 讀入jieba 刪除停用詞"
   ]
  },
  {
   "cell_type": "code",
   "execution_count": 866,
   "metadata": {},
   "outputs": [],
   "source": [
    "import jieba"
   ]
  },
  {
   "cell_type": "code",
   "execution_count": 867,
   "metadata": {},
   "outputs": [],
   "source": [
    "stopWords=[]\n",
    "with open('C:/Users/acgan/Desktop/Anaconda/NLP/TF-IDF/stopWords.txt', 'r', encoding='UTF-8') as file:\n",
    "    for data in file.readlines():\n",
    "        data = data.strip()\n",
    "        stopWords.append(data)"
   ]
  },
  {
   "cell_type": "code",
   "execution_count": 868,
   "metadata": {},
   "outputs": [],
   "source": [
    "text = []\n",
    "for line in DDTls:\n",
    "    for j in stopWords:\n",
    "        line = line.replace(j, '')\n",
    "        line = line.replace('\\n', '')\n",
    "        line = line.replace('::', '')\n",
    "    text.append(line)"
   ]
  },
  {
   "cell_type": "code",
   "execution_count": 869,
   "metadata": {},
   "outputs": [
    {
     "data": {
      "text/plain": [
       "'蔡英文新北市桃園競選總部明天成立新北桃園朋友  現場活動豐富熱鬧表演趣市集直播車 辣台號 會現場希明天家  蔡英文總統新北市競選總部開幕  點板橋二運動場 址新北市板橋區民權路號  蔡英文總統桃園市北區競選總部開幕  童樂園活動 舞台活動 點北桃園競選總部 址桃園市桃園區興西路三段正光路口  蔡英文總統桃園市南區競選總部開幕 主題市集活動  舞台活動 點南桃園競選總部 址桃園市中壢區復興路中壢圖書館前  英日常直播車裡https:ingdaily.twcode 額捐款點 https:donate.iing.tw 投稿英安價https:ingdaily.twstory'"
      ]
     },
     "execution_count": 869,
     "metadata": {},
     "output_type": "execute_result"
    }
   ],
   "source": [
    "text[0]"
   ]
  },
  {
   "cell_type": "markdown",
   "metadata": {},
   "source": [
    "### 進行中文斷詞 (套入自定義辭典)"
   ]
  },
  {
   "cell_type": "code",
   "execution_count": 870,
   "metadata": {},
   "outputs": [],
   "source": [
    "new_data=[]\n",
    "for w in text:\n",
    "    jieba.load_userdict(\"C:/Users/acgan/Desktop/Anaconda/NLP/TF-IDF/2020_dict.txt\") #自定義字典\n",
    "    segments=jieba.cut(w,cut_all=False)\n",
    "    new_data.append(' '.join(segments))"
   ]
  },
  {
   "cell_type": "code",
   "execution_count": 871,
   "metadata": {},
   "outputs": [
    {
     "data": {
      "text/plain": [
       "'蔡英文 新北 市桃園 競選 總部 明天 成立 新北 桃園 朋友     現場 活動 豐富 熱鬧 表演 趣 市集 直播 車   辣台號   會 現場 希 明天 家     蔡英文 總統 新北 市 競選 總部 開幕     點板 橋二運動場   址 新北 市板 橋區民權 路號     蔡英文 總統 桃園 市北 區競選 總部 開幕     童樂園 活動   舞台 活動   點北桃園 競選 總部   址 桃園 市桃園 區興 西路 三段 正光 路口     蔡英文 總統 桃園 市南 區競選 總部 開幕   主題 市集 活動     舞台 活動   點南桃園 競選 總部   址 桃園市 中壢區 復 興路 中壢 圖書館 前     英 日常 直播 車裡 https : ingdaily . twcode   額 捐款 點   https : donate . iing . tw   投稿 英安價 https : ingdaily . twstory'"
      ]
     },
     "execution_count": 871,
     "metadata": {},
     "output_type": "execute_result"
    }
   ],
   "source": [
    "new_data[0]"
   ]
  },
  {
   "cell_type": "markdown",
   "metadata": {},
   "source": [
    "## 2.1.1 Text Visualization - TF-IDF (DDT)"
   ]
  },
  {
   "cell_type": "code",
   "execution_count": 872,
   "metadata": {},
   "outputs": [],
   "source": [
    "from wordcloud import WordCloud\n",
    "from sklearn import feature_extraction\n",
    "from sklearn.feature_extraction.text import TfidfTransformer  \n",
    "from sklearn.feature_extraction.text import CountVectorizer\n",
    "\n",
    "font= r'C:/Users/acgan/Desktop/Anaconda/NLP/TF-IDF/NotoSansCJKtc-Regular.otf'"
   ]
  },
  {
   "cell_type": "code",
   "execution_count": 873,
   "metadata": {},
   "outputs": [],
   "source": [
    "vectorizer = CountVectorizer() #將詞語轉為詞頻矩陣\n",
    "transformer = TfidfTransformer() #統計詞語的tf-idf權值"
   ]
  },
  {
   "cell_type": "markdown",
   "metadata": {},
   "source": [
    "> 將文字內的詞語轉為詞頻矩陣  \n",
    "> 計算出tf-idf權值  \n",
    "> 將模型內有詞語另存為list"
   ]
  },
  {
   "cell_type": "code",
   "execution_count": 874,
   "metadata": {},
   "outputs": [],
   "source": [
    "tfidf = transformer.fit_transform(vectorizer.fit_transform(new_data))  \n",
    "word=vectorizer.get_feature_names()"
   ]
  },
  {
   "cell_type": "markdown",
   "metadata": {},
   "source": [
    "> 提取tf-idf權重值，存到dictionary  "
   ]
  },
  {
   "cell_type": "code",
   "execution_count": 875,
   "metadata": {},
   "outputs": [
    {
     "data": {
      "text/plain": [
       "17439"
      ]
     },
     "execution_count": 875,
     "metadata": {},
     "output_type": "execute_result"
    }
   ],
   "source": [
    "weight=tfidf.toarray() #提取tf-idf權重\n",
    "tfidf_list = {}\n",
    "for i in range(len(weight)):#所有品項 \n",
    "    for j in range(len(word)): #某一品項內的詞語權重 \n",
    "        tfidf_list[word[j]] = weight[i][j]\n",
    "len(tfidf_list)"
   ]
  },
  {
   "cell_type": "code",
   "execution_count": 882,
   "metadata": {},
   "outputs": [
    {
     "data": {
      "text/plain": [
       "<matplotlib.figure.Figure at 0x2073a1c8d30>"
      ]
     },
     "execution_count": 882,
     "metadata": {},
     "output_type": "execute_result"
    },
    {
     "data": {
      "image/png": "[encoded data removed]",
      "text/plain": [
       "<matplotlib.figure.Figure at 0x2073a1c8588>"
      ]
     },
     "metadata": {
      "needs_background": "light"
     },
     "output_type": "display_data"
    },
    {
     "data": {
      "text/plain": [
       "<matplotlib.figure.Figure at 0x2073a1c8d30>"
      ]
     },
     "metadata": {},
     "output_type": "display_data"
    }
   ],
   "source": [
    "wc = WordCloud(font_path=font,  # 設定字型\n",
    "background_color=\"white\",  # 背景顏色\n",
    "width=1000, height=860, margin=2,\n",
    ")\n",
    "wc.generate_from_frequencies(tfidf_list)\n",
    "plt.imshow(wc,interpolation=\"bilinear\")\n",
    "plt.axis(\"off\")\n",
    "plt.figure()"
   ]
  },
  {
   "cell_type": "markdown",
   "metadata": {},
   "source": [
    "## 2.1.2 Word Embedding (DDT)"
   ]
  },
  {
   "cell_type": "code",
   "execution_count": 877,
   "metadata": {},
   "outputs": [],
   "source": [
    "from gensim.models import Word2Vec"
   ]
  },
  {
   "cell_type": "code",
   "execution_count": 878,
   "metadata": {},
   "outputs": [],
   "source": [
    "new=[]\n",
    "for i in range(len(new_data)):\n",
    "    sent = new_data[i].split(' ')\n",
    "    while '' in sent:\n",
    "        sent.remove('') #移除空元素\n",
    "    new.append(sent)"
   ]
  },
  {
   "cell_type": "code",
   "execution_count": 879,
   "metadata": {},
   "outputs": [
    {
     "name": "stdout",
     "output_type": "stream",
     "text": [
      "Word2Vec model=>  Word2Vec(vocab=18927, size=5, alpha=0.025)\n"
     ]
    }
   ],
   "source": [
    "# build a Word2Vce model\n",
    "model = Word2Vec(new, size=5 #embedding的數量\n",
    "                 , window=5 #Ngram\n",
    "                 , min_count=1 #字出現的次數\n",
    "                 , workers=4 #CPU平行\n",
    "                 , iter=50) #一筆資料訓練的次數\n",
    "print('Word2Vec model=> ', model)"
   ]
  },
  {
   "cell_type": "code",
   "execution_count": 885,
   "metadata": {},
   "outputs": [
    {
     "name": "stdout",
     "output_type": "stream",
     "text": [
      "most similar to 新年 =>\n",
      "[('選', 0.9826583862304688), ('問境', 0.9808355569839478), ('志工團', 0.9801570177078247), ('夠團', 0.979627251625061), ('出發前', 0.976366400718689)]\n",
      "\n",
      "most similar to 新台灣 =>\n",
      "[('帶家屬', 0.9818788170814514), ('珍重', 0.9799848794937134), ('心話', 0.975762128829956), ('辣天', 0.9737516045570374), ('守護樣', 0.973741888999939)]\n",
      "\n",
      "most similar to 領唱國歌 =>\n",
      "[('定裡', 0.9989545345306396), ('出什', 0.9972941875457764), ('姑息', 0.9960532188415527), ('初選早', 0.9953938722610474), ('重證', 0.9947346448898315)]\n",
      "\n",
      "most similar to 勇敢 =>\n",
      "[('台灣點', 0.9970466494560242), ('拼搏', 0.9964616894721985), ('堅守', 0.9958710670471191), ('渴求', 0.9926969408988953), ('重務', 0.992644727230072)]\n",
      "\n"
     ]
    }
   ],
   "source": [
    "# most similar words\n",
    "print('most similar to 新年 =>')\n",
    "print(model.wv.most_similar('新年', topn=5))\n",
    "print()\n",
    "print('most similar to 新台灣 =>')\n",
    "print(model.wv.most_similar('新台灣', topn=5))\n",
    "print()\n",
    "print('most similar to 領唱國歌 =>')\n",
    "print(model.wv.most_similar('領唱國歌', topn=5))\n",
    "print()\n",
    "print('most similar to 勇敢 =>')\n",
    "print(model.wv.most_similar('勇敢', topn=5))\n",
    "print()"
   ]
  },
  {
   "cell_type": "markdown",
   "metadata": {},
   "source": [
    "## 2.1.3 Apriori for NER (DDT)"
   ]
  },
  {
   "cell_type": "code",
   "execution_count": 822,
   "metadata": {},
   "outputs": [],
   "source": [
    "import os\n",
    "from pathlib import Path\n",
    "from ckiptagger import WS, POS, NER\n",
    "\n",
    "from mlxtend.preprocessing import TransactionEncoder\n",
    "from mlxtend.frequent_patterns import apriori\n",
    "from mlxtend.frequent_patterns import association_rules"
   ]
  },
  {
   "cell_type": "markdown",
   "metadata": {},
   "source": [
    "#### 載入ckiptagger斷詞，僅留下詞性為PERSON或ORG"
   ]
  },
  {
   "cell_type": "code",
   "execution_count": 826,
   "metadata": {},
   "outputs": [],
   "source": [
    "path = os.path.join(str(Path.home()),r'C:\\.ckip')\n",
    "ckip_ws = WS(os.path.join(path, 'data'))\n",
    "zh_doc_ws = ckip_ws(DDTls)\n",
    "ckip_pos = POS(os.path.join(path,'data'))\n",
    "zh_doc_pos = ckip_pos(zh_doc_ws)\n",
    "ckip_ner = NER(os.path.join(path, 'data'))\n",
    "zh_doc_ner = ckip_ner(zh_doc_ws, zh_doc_pos)"
   ]
  },
  {
   "cell_type": "code",
   "execution_count": 827,
   "metadata": {},
   "outputs": [],
   "source": [
    "text=[]\n",
    "for i, sentence in enumerate(zh_doc_ner):\n",
    "    a=[]\n",
    "    for j, (start_idx, end_index, ner_type, word) in enumerate(sentence):\n",
    "        if ner_type == 'ORG' or ner_type == 'PERSON' :\n",
    "            a.append(word)\n",
    "    if len(a)==0:\n",
    "        continue\n",
    "    else:\n",
    "        text.append(a)"
   ]
  },
  {
   "cell_type": "code",
   "execution_count": 828,
   "metadata": {},
   "outputs": [
    {
     "data": {
      "text/plain": [
       "[['蔡英文', '英安', '蔡英文', '蔡英文', '蔡英文'],\n",
       " ['洪慈庸'],\n",
       " ['羅貴星', '徐定禎'],\n",
       " ['新竹會', '鄭宏輝', '蔡英文', '鄭宏輝'],\n",
       " ['亞洲高階資產管理中心', '蔡英文']]"
      ]
     },
     "execution_count": 828,
     "metadata": {},
     "output_type": "execute_result"
    }
   ],
   "source": [
    "text[:5]"
   ]
  },
  {
   "cell_type": "markdown",
   "metadata": {},
   "source": [
    "#### 將文字list轉為矩陣"
   ]
  },
  {
   "cell_type": "code",
   "execution_count": 829,
   "metadata": {},
   "outputs": [],
   "source": [
    "dataset = text\n",
    "te = TransactionEncoder()\n",
    "te_ary = te.fit(dataset).transform(dataset)\n",
    "df = pd.DataFrame(te_ary, columns=te.columns_)\n",
    "#print('item: {}'.format(te.columns_))\n",
    "#print('matrix of first 5 samples: \\n{}'.format(df.head(5)))"
   ]
  },
  {
   "cell_type": "markdown",
   "metadata": {},
   "source": [
    "#### Apriori algorithm"
   ]
  },
  {
   "cell_type": "code",
   "execution_count": 830,
   "metadata": {},
   "outputs": [
    {
     "data": {
      "text/html": [
       "<div>\n",
       "<style scoped>\n",
       "    .dataframe tbody tr th:only-of-type {\n",
       "        vertical-align: middle;\n",
       "    }\n",
       "\n",
       "    .dataframe tbody tr th {\n",
       "        vertical-align: top;\n",
       "    }\n",
       "\n",
       "    .dataframe thead th {\n",
       "        text-align: right;\n",
       "    }\n",
       "</style>\n",
       "<table border=\"1\" class=\"dataframe\">\n",
       "  <thead>\n",
       "    <tr style=\"text-align: right;\">\n",
       "      <th></th>\n",
       "      <th>support</th>\n",
       "      <th>itemsets</th>\n",
       "    </tr>\n",
       "  </thead>\n",
       "  <tbody>\n",
       "    <tr>\n",
       "      <th>0</th>\n",
       "      <td>0.010067</td>\n",
       "      <td>(Facebook)</td>\n",
       "    </tr>\n",
       "    <tr>\n",
       "      <th>1</th>\n",
       "      <td>0.011745</td>\n",
       "      <td>(Google)</td>\n",
       "    </tr>\n",
       "    <tr>\n",
       "      <th>2</th>\n",
       "      <td>0.013423</td>\n",
       "      <td>(中央)</td>\n",
       "    </tr>\n",
       "    <tr>\n",
       "      <th>3</th>\n",
       "      <td>0.011745</td>\n",
       "      <td>(中央氣象局)</td>\n",
       "    </tr>\n",
       "    <tr>\n",
       "      <th>4</th>\n",
       "      <td>0.010067</td>\n",
       "      <td>(內政部)</td>\n",
       "    </tr>\n",
       "  </tbody>\n",
       "</table>\n",
       "</div>"
      ],
      "text/plain": [
       "    support    itemsets\n",
       "0  0.010067  (Facebook)\n",
       "1  0.011745    (Google)\n",
       "2  0.013423        (中央)\n",
       "3  0.011745     (中央氣象局)\n",
       "4  0.010067       (內政部)"
      ]
     },
     "execution_count": 830,
     "metadata": {},
     "output_type": "execute_result"
    }
   ],
   "source": [
    "frequent_itemsets = apriori(df, min_support=0.01, use_colnames=True)\n",
    "frequent_itemsets.head() #頻繁項目集"
   ]
  },
  {
   "cell_type": "code",
   "execution_count": 831,
   "metadata": {},
   "outputs": [],
   "source": [
    "association_rules_by_conf = association_rules(frequent_itemsets, min_threshold=0) #所有\n",
    "#print(association_rules_by_conf)\n",
    "association_rules_by_conf[\"antecedent_len\"] = association_rules_by_conf[\"antecedents\"].apply(lambda x: len(x)) #先例元素數量\n",
    "association_rules_by_conf[\"consequent_len\"] = association_rules_by_conf[\"consequents\"].apply(lambda x: len(x)) #後例元素數量"
   ]
  },
  {
   "cell_type": "code",
   "execution_count": 832,
   "metadata": {},
   "outputs": [
    {
     "data": {
      "text/html": [
       "<div>\n",
       "<style scoped>\n",
       "    .dataframe tbody tr th:only-of-type {\n",
       "        vertical-align: middle;\n",
       "    }\n",
       "\n",
       "    .dataframe tbody tr th {\n",
       "        vertical-align: top;\n",
       "    }\n",
       "\n",
       "    .dataframe thead th {\n",
       "        text-align: right;\n",
       "    }\n",
       "</style>\n",
       "<table border=\"1\" class=\"dataframe\">\n",
       "  <thead>\n",
       "    <tr style=\"text-align: right;\">\n",
       "      <th></th>\n",
       "      <th>antecedents</th>\n",
       "      <th>consequents</th>\n",
       "      <th>antecedent support</th>\n",
       "      <th>consequent support</th>\n",
       "      <th>support</th>\n",
       "      <th>confidence</th>\n",
       "      <th>lift</th>\n",
       "      <th>leverage</th>\n",
       "      <th>conviction</th>\n",
       "      <th>antecedent_len</th>\n",
       "      <th>consequent_len</th>\n",
       "    </tr>\n",
       "  </thead>\n",
       "  <tbody>\n",
       "    <tr>\n",
       "      <th>0</th>\n",
       "      <td>(台灣隊)</td>\n",
       "      <td>(日本隊)</td>\n",
       "      <td>0.018456</td>\n",
       "      <td>0.010067</td>\n",
       "      <td>0.010067</td>\n",
       "      <td>0.545455</td>\n",
       "      <td>54.181818</td>\n",
       "      <td>0.009881</td>\n",
       "      <td>2.177852</td>\n",
       "      <td>1</td>\n",
       "      <td>1</td>\n",
       "    </tr>\n",
       "    <tr>\n",
       "      <th>1</th>\n",
       "      <td>(日本隊)</td>\n",
       "      <td>(台灣隊)</td>\n",
       "      <td>0.010067</td>\n",
       "      <td>0.018456</td>\n",
       "      <td>0.010067</td>\n",
       "      <td>1.000000</td>\n",
       "      <td>54.181818</td>\n",
       "      <td>0.009881</td>\n",
       "      <td>inf</td>\n",
       "      <td>1</td>\n",
       "      <td>1</td>\n",
       "    </tr>\n",
       "    <tr>\n",
       "      <th>6</th>\n",
       "      <td>(蘇)</td>\n",
       "      <td>(蘇貞昌)</td>\n",
       "      <td>0.021812</td>\n",
       "      <td>0.052013</td>\n",
       "      <td>0.015101</td>\n",
       "      <td>0.692308</td>\n",
       "      <td>13.310174</td>\n",
       "      <td>0.013966</td>\n",
       "      <td>3.080956</td>\n",
       "      <td>1</td>\n",
       "      <td>1</td>\n",
       "    </tr>\n",
       "    <tr>\n",
       "      <th>9</th>\n",
       "      <td>(蘇)</td>\n",
       "      <td>(行政院)</td>\n",
       "      <td>0.021812</td>\n",
       "      <td>0.055369</td>\n",
       "      <td>0.013423</td>\n",
       "      <td>0.615385</td>\n",
       "      <td>11.114219</td>\n",
       "      <td>0.012215</td>\n",
       "      <td>2.456040</td>\n",
       "      <td>1</td>\n",
       "      <td>1</td>\n",
       "    </tr>\n",
       "    <tr>\n",
       "      <th>12</th>\n",
       "      <td>(行政院農業委員會)</td>\n",
       "      <td>(農委會)</td>\n",
       "      <td>0.018456</td>\n",
       "      <td>0.026846</td>\n",
       "      <td>0.011745</td>\n",
       "      <td>0.636364</td>\n",
       "      <td>23.704545</td>\n",
       "      <td>0.011249</td>\n",
       "      <td>2.676174</td>\n",
       "      <td>1</td>\n",
       "      <td>1</td>\n",
       "    </tr>\n",
       "  </tbody>\n",
       "</table>\n",
       "</div>"
      ],
      "text/plain": [
       "   antecedents consequents  antecedent support  consequent support   support  \\\n",
       "0        (台灣隊)       (日本隊)            0.018456            0.010067  0.010067   \n",
       "1        (日本隊)       (台灣隊)            0.010067            0.018456  0.010067   \n",
       "6          (蘇)       (蘇貞昌)            0.021812            0.052013  0.015101   \n",
       "9          (蘇)       (行政院)            0.021812            0.055369  0.013423   \n",
       "12  (行政院農業委員會)       (農委會)            0.018456            0.026846  0.011745   \n",
       "\n",
       "    confidence       lift  leverage  conviction  antecedent_len  \\\n",
       "0     0.545455  54.181818  0.009881    2.177852               1   \n",
       "1     1.000000  54.181818  0.009881         inf               1   \n",
       "6     0.692308  13.310174  0.013966    3.080956               1   \n",
       "9     0.615385  11.114219  0.012215    2.456040               1   \n",
       "12    0.636364  23.704545  0.011249    2.676174               1   \n",
       "\n",
       "    consequent_len  \n",
       "0                1  \n",
       "1                1  \n",
       "6                1  \n",
       "9                1  \n",
       "12               1  "
      ]
     },
     "execution_count": 832,
     "metadata": {},
     "output_type": "execute_result"
    }
   ],
   "source": [
    "result = association_rules_by_conf[ (association_rules_by_conf['antecedent_len'] >= 1) &\n",
    "                           (association_rules_by_conf['consequent_len'] >= 1) &\n",
    "                           (association_rules_by_conf['confidence'] > 0.5) &\n",
    "                           (association_rules_by_conf['lift'] > 1) ]\n",
    "result.head()"
   ]
  },
  {
   "cell_type": "markdown",
   "metadata": {},
   "source": [
    "---"
   ]
  },
  {
   "cell_type": "markdown",
   "metadata": {},
   "source": [
    "## 2.2 KMT"
   ]
  },
  {
   "cell_type": "code",
   "execution_count": 886,
   "metadata": {},
   "outputs": [],
   "source": [
    "#將list轉為string\n",
    "KMTls=[]\n",
    "for i in range(len(KMTdf)):\n",
    "    post = str(KMTdf[i]).lstrip(\" ['\").rstrip(\"']\")\n",
    "    KMTls.append(post)"
   ]
  },
  {
   "cell_type": "code",
   "execution_count": 887,
   "metadata": {},
   "outputs": [
    {
     "data": {
      "text/plain": [
       "'【萌寵音樂嘉年華－嘉義場】 《萌寵音樂嘉年華》嘉義場順利落幕，非常感謝一同前來關懷毛小孩的熱情大小朋友們。此外，還要感謝好多位善良有愛心的民眾，發揮愛心來做公益，其中，公益T恤的競標價最高還高達台幣10萬元！ 歡迎各位好朋友們在自己經濟能力允許的範圍內一起響應，我們希望未來台灣是充滿溫馨與愛的地方，打造動物友善環境，並讓每一個寵物都能得到很好的照顧，愛護動物，我們大家一起來！'"
      ]
     },
     "execution_count": 887,
     "metadata": {},
     "output_type": "execute_result"
    }
   ],
   "source": [
    "KMTls[0]"
   ]
  },
  {
   "cell_type": "markdown",
   "metadata": {},
   "source": [
    "### 讀入jieba 刪除停用詞"
   ]
  },
  {
   "cell_type": "code",
   "execution_count": 888,
   "metadata": {},
   "outputs": [],
   "source": [
    "text = []\n",
    "for line in KMTls:\n",
    "    for j in stopWords:\n",
    "        line = line.replace(j, '')\n",
    "        line = line.replace('\\n', '')\n",
    "        line = line.replace('::', '')\n",
    "    text.append(line)"
   ]
  },
  {
   "cell_type": "code",
   "execution_count": 889,
   "metadata": {},
   "outputs": [
    {
     "data": {
      "text/plain": [
       "'【萌寵音樂嘉年華－嘉義場】 萌寵音樂嘉年華嘉義場利落幕非常感謝前關懷毛孩熱情朋友外感謝位善良愛心民眾發揮愛心做公益中公益T恤競標價高高達台幣萬元 歡迎位朋友濟力允許範圍響應希未台灣充滿溫馨愛方造動物友善環境寵物顧愛護動物家'"
      ]
     },
     "execution_count": 889,
     "metadata": {},
     "output_type": "execute_result"
    }
   ],
   "source": [
    "text[0]"
   ]
  },
  {
   "cell_type": "markdown",
   "metadata": {},
   "source": [
    "### 進行中文斷詞 (套入自定義辭典)"
   ]
  },
  {
   "cell_type": "code",
   "execution_count": 890,
   "metadata": {},
   "outputs": [],
   "source": [
    "new_data=[]\n",
    "for w in text:\n",
    "    jieba.load_userdict(\"C:/Users/acgan/Desktop/Anaconda/NLP/TF-IDF/2020_dict.txt\") #自定義字典\n",
    "    segments=jieba.cut(w,cut_all=False)\n",
    "    new_data.append(' '.join(segments))"
   ]
  },
  {
   "cell_type": "code",
   "execution_count": 891,
   "metadata": {},
   "outputs": [
    {
     "data": {
      "text/plain": [
       "'【 萌寵 音樂嘉年華 － 嘉義場 】   萌寵 音樂嘉年 華嘉義場利 落幕 非常 感謝 前 關懷 毛孩 熱情 朋友 外感 謝位 善良 愛心民眾 發揮 愛心 做 公益 中 公益 T恤 競標價 高高 達台幣 萬元   歡迎位 朋友 濟力 允 許範圍 響 應希未 台灣 充滿 溫馨 愛方 造動物 友善 環境 寵物 顧愛護 動物家'"
      ]
     },
     "execution_count": 891,
     "metadata": {},
     "output_type": "execute_result"
    }
   ],
   "source": [
    "new_data[0]"
   ]
  },
  {
   "cell_type": "markdown",
   "metadata": {},
   "source": [
    "## 2.2.1 Text Visualization - TF-IDF (KMT)"
   ]
  },
  {
   "cell_type": "code",
   "execution_count": 892,
   "metadata": {},
   "outputs": [],
   "source": [
    "vectorizer = CountVectorizer() #將詞語轉為詞頻矩陣\n",
    "transformer = TfidfTransformer() #統計詞語的tf-idf權值"
   ]
  },
  {
   "cell_type": "code",
   "execution_count": 893,
   "metadata": {},
   "outputs": [],
   "source": [
    "tfidf = transformer.fit_transform(vectorizer.fit_transform(new_data))  \n",
    "word=vectorizer.get_feature_names()"
   ]
  },
  {
   "cell_type": "code",
   "execution_count": 894,
   "metadata": {},
   "outputs": [
    {
     "data": {
      "text/plain": [
       "13240"
      ]
     },
     "execution_count": 894,
     "metadata": {},
     "output_type": "execute_result"
    }
   ],
   "source": [
    "weight=tfidf.toarray() #提取tf-idf權重\n",
    "tfidf_list = {}\n",
    "for i in range(len(weight)):#所有品項 \n",
    "    for j in range(len(word)): #某一品項內的詞語權重 \n",
    "        tfidf_list[word[j]] = weight[i][j]\n",
    "len(tfidf_list)"
   ]
  },
  {
   "cell_type": "code",
   "execution_count": 903,
   "metadata": {},
   "outputs": [
    {
     "data": {
      "text/plain": [
       "<matplotlib.figure.Figure at 0x2073ba2e908>"
      ]
     },
     "execution_count": 903,
     "metadata": {},
     "output_type": "execute_result"
    },
    {
     "data": {
      "image/png": "[encoded data removed]",
      "text/plain": [
       "<matplotlib.figure.Figure at 0x2073ba2e0b8>"
      ]
     },
     "metadata": {
      "needs_background": "light"
     },
     "output_type": "display_data"
    },
    {
     "data": {
      "text/plain": [
       "<matplotlib.figure.Figure at 0x2073ba2e908>"
      ]
     },
     "metadata": {},
     "output_type": "display_data"
    }
   ],
   "source": [
    "wc = WordCloud(font_path=font,  # 設定字型\n",
    "background_color=\"white\",  # 背景顏色\n",
    "width=1000, height=860, margin=2,\n",
    ")\n",
    "wc.generate_from_frequencies(tfidf_list)\n",
    "plt.imshow(wc,interpolation=\"bilinear\")\n",
    "plt.axis(\"off\")\n",
    "plt.figure()"
   ]
  },
  {
   "cell_type": "markdown",
   "metadata": {},
   "source": [
    "## 2.2.2 Word Embedding (KMT)"
   ]
  },
  {
   "cell_type": "code",
   "execution_count": 896,
   "metadata": {},
   "outputs": [],
   "source": [
    "new=[]\n",
    "for i in range(len(new_data)):\n",
    "    sent = new_data[i].split(' ')\n",
    "    while '' in sent:\n",
    "        sent.remove('') #移除空元素\n",
    "    new.append(sent)"
   ]
  },
  {
   "cell_type": "code",
   "execution_count": 897,
   "metadata": {},
   "outputs": [
    {
     "name": "stdout",
     "output_type": "stream",
     "text": [
      "Word2Vec model=>  Word2Vec(vocab=14507, size=5, alpha=0.025)\n"
     ]
    }
   ],
   "source": [
    "# build a Word2Vce model\n",
    "model = Word2Vec(new, size=5 #embedding的數量\n",
    "                 , window=5 #Ngram\n",
    "                 , min_count=1 #字出現的次數\n",
    "                 , workers=4 #CPU平行\n",
    "                 , iter=50) #一筆資料訓練的次數\n",
    "print('Word2Vec model=> ', model)"
   ]
  },
  {
   "cell_type": "code",
   "execution_count": 906,
   "metadata": {},
   "outputs": [
    {
     "name": "stdout",
     "output_type": "stream",
     "text": [
      "most similar to 曙光 =>\n",
      "[('想暴', 0.9981328248977661), ('恨', 0.9978410601615906), ('做出', 0.9978042840957642), ('進步', 0.9966391324996948), ('門句', 0.9966075420379639)]\n",
      "\n",
      "most similar to 新年 =>\n",
      "[('潭', 0.9996656179428101), ('戴象', 0.9996365308761597), ('家中', 0.9995204210281372), ('杜麗娘', 0.9994374513626099), ('伍中', 0.999405562877655)]\n",
      "\n",
      "most similar to 南樹 =>\n",
      "[('the', 0.9998922348022461), ('問世間', 0.9997876286506653), ('孫千委員', 0.9995696544647217), ('設計共讀', 0.9995575547218323), ('顆太陽', 0.9993894696235657)]\n",
      "\n",
      "most similar to 市境 =>\n",
      "[('營養求', 0.9997423887252808), ('平身', 0.9997366666793823), ('魔戒', 0.9997092485427856), ('判定', 0.9996205568313599), ('注重', 0.999614953994751)]\n",
      "\n"
     ]
    }
   ],
   "source": [
    "# most similar words\n",
    "print('most similar to 曙光 =>')\n",
    "print(model.wv.most_similar('曙光', topn=5))\n",
    "print()\n",
    "print('most similar to 新年 =>')\n",
    "print(model.wv.most_similar('新年', topn=5))\n",
    "print()\n",
    "print('most similar to 南樹 =>')\n",
    "print(model.wv.most_similar('南樹', topn=5))\n",
    "print()\n",
    "print('most similar to 市境 =>')\n",
    "print(model.wv.most_similar('市境', topn=5))\n",
    "print()"
   ]
  },
  {
   "cell_type": "markdown",
   "metadata": {},
   "source": [
    "* 杜麗娘：韓國瑜凱道誓師隔日返高雄挺崑劇《牡丹亭》  \n",
    "* 市境之南樹：韓國瑜元旦將在林園迎接高雄2019第一道曙光"
   ]
  },
  {
   "cell_type": "markdown",
   "metadata": {},
   "source": [
    "## 2.2.3 Apriori for NER (KMT)"
   ]
  },
  {
   "cell_type": "markdown",
   "metadata": {},
   "source": [
    "#### 載入ckiptagger斷詞，僅留下詞性為PERSON或ORG"
   ]
  },
  {
   "cell_type": "code",
   "execution_count": 843,
   "metadata": {},
   "outputs": [],
   "source": [
    "path = os.path.join(str(Path.home()),r'C:\\.ckip')\n",
    "ckip_ws = WS(os.path.join(path, 'data'))\n",
    "zh_doc_ws = ckip_ws(KMTls)\n",
    "ckip_pos = POS(os.path.join(path,'data'))\n",
    "zh_doc_pos = ckip_pos(zh_doc_ws)\n",
    "ckip_ner = NER(os.path.join(path, 'data'))\n",
    "zh_doc_ner = ckip_ner(zh_doc_ws, zh_doc_pos)"
   ]
  },
  {
   "cell_type": "code",
   "execution_count": 844,
   "metadata": {},
   "outputs": [],
   "source": [
    "text=[]\n",
    "for i, sentence in enumerate(zh_doc_ner):\n",
    "    a=[]\n",
    "    for j, (start_idx, end_index, ner_type, word) in enumerate(sentence):\n",
    "        if ner_type == 'ORG' or ner_type == 'PERSON' :\n",
    "            a.append(word)\n",
    "    if len(a)==0:\n",
    "        continue\n",
    "    else:\n",
    "        text.append(a)"
   ]
  },
  {
   "cell_type": "code",
   "execution_count": 851,
   "metadata": {},
   "outputs": [
    {
     "data": {
      "text/plain": [
       "[['嘉義場'], ['民進黨', '蔡英文', '蔡英文']]"
      ]
     },
     "execution_count": 851,
     "metadata": {},
     "output_type": "execute_result"
    }
   ],
   "source": [
    "text[:2]"
   ]
  },
  {
   "cell_type": "markdown",
   "metadata": {},
   "source": [
    "#### 將文字list轉為矩陣"
   ]
  },
  {
   "cell_type": "code",
   "execution_count": 852,
   "metadata": {},
   "outputs": [],
   "source": [
    "dataset = text\n",
    "te = TransactionEncoder()\n",
    "te_ary = te.fit(dataset).transform(dataset)\n",
    "df = pd.DataFrame(te_ary, columns=te.columns_)\n",
    "#print('item: {}'.format(te.columns_))\n",
    "#print('matrix of first 5 samples: \\n{}'.format(df.head(5)))"
   ]
  },
  {
   "cell_type": "markdown",
   "metadata": {},
   "source": [
    "#### Apriori algorithm"
   ]
  },
  {
   "cell_type": "code",
   "execution_count": 853,
   "metadata": {},
   "outputs": [
    {
     "data": {
      "text/html": [
       "<div>\n",
       "<style scoped>\n",
       "    .dataframe tbody tr th:only-of-type {\n",
       "        vertical-align: middle;\n",
       "    }\n",
       "\n",
       "    .dataframe tbody tr th {\n",
       "        vertical-align: top;\n",
       "    }\n",
       "\n",
       "    .dataframe thead th {\n",
       "        text-align: right;\n",
       "    }\n",
       "</style>\n",
       "<table border=\"1\" class=\"dataframe\">\n",
       "  <thead>\n",
       "    <tr style=\"text-align: right;\">\n",
       "      <th></th>\n",
       "      <th>support</th>\n",
       "      <th>itemsets</th>\n",
       "    </tr>\n",
       "  </thead>\n",
       "  <tbody>\n",
       "    <tr>\n",
       "      <th>0</th>\n",
       "      <td>0.015686</td>\n",
       "      <td>(中共)</td>\n",
       "    </tr>\n",
       "    <tr>\n",
       "      <th>1</th>\n",
       "      <td>0.027451</td>\n",
       "      <td>(中央)</td>\n",
       "    </tr>\n",
       "    <tr>\n",
       "      <th>2</th>\n",
       "      <td>0.015686</td>\n",
       "      <td>(中央氣象局)</td>\n",
       "    </tr>\n",
       "    <tr>\n",
       "      <th>3</th>\n",
       "      <td>0.015686</td>\n",
       "      <td>(中時電子報)</td>\n",
       "    </tr>\n",
       "    <tr>\n",
       "      <th>4</th>\n",
       "      <td>0.023529</td>\n",
       "      <td>(中華隊)</td>\n",
       "    </tr>\n",
       "  </tbody>\n",
       "</table>\n",
       "</div>"
      ],
      "text/plain": [
       "    support itemsets\n",
       "0  0.015686     (中共)\n",
       "1  0.027451     (中央)\n",
       "2  0.015686  (中央氣象局)\n",
       "3  0.015686  (中時電子報)\n",
       "4  0.023529    (中華隊)"
      ]
     },
     "execution_count": 853,
     "metadata": {},
     "output_type": "execute_result"
    }
   ],
   "source": [
    "frequent_itemsets = apriori(df, min_support=0.01, use_colnames=True)\n",
    "frequent_itemsets.head() #頻繁項目集"
   ]
  },
  {
   "cell_type": "code",
   "execution_count": 855,
   "metadata": {},
   "outputs": [],
   "source": [
    "association_rules_by_conf = association_rules(frequent_itemsets, min_threshold=0) #所有\n",
    "#print(association_rules_by_conf)\n",
    "association_rules_by_conf[\"antecedent_len\"] = association_rules_by_conf[\"antecedents\"].apply(lambda x: len(x)) #先例元素數量\n",
    "association_rules_by_conf[\"consequent_len\"] = association_rules_by_conf[\"consequents\"].apply(lambda x: len(x)) #後例元素數量"
   ]
  },
  {
   "cell_type": "code",
   "execution_count": 856,
   "metadata": {},
   "outputs": [
    {
     "data": {
      "text/html": [
       "<div>\n",
       "<style scoped>\n",
       "    .dataframe tbody tr th:only-of-type {\n",
       "        vertical-align: middle;\n",
       "    }\n",
       "\n",
       "    .dataframe tbody tr th {\n",
       "        vertical-align: top;\n",
       "    }\n",
       "\n",
       "    .dataframe thead th {\n",
       "        text-align: right;\n",
       "    }\n",
       "</style>\n",
       "<table border=\"1\" class=\"dataframe\">\n",
       "  <thead>\n",
       "    <tr style=\"text-align: right;\">\n",
       "      <th></th>\n",
       "      <th>antecedents</th>\n",
       "      <th>consequents</th>\n",
       "      <th>antecedent support</th>\n",
       "      <th>consequent support</th>\n",
       "      <th>support</th>\n",
       "      <th>confidence</th>\n",
       "      <th>lift</th>\n",
       "      <th>leverage</th>\n",
       "      <th>conviction</th>\n",
       "      <th>antecedent_len</th>\n",
       "      <th>consequent_len</th>\n",
       "    </tr>\n",
       "  </thead>\n",
       "  <tbody>\n",
       "    <tr>\n",
       "      <th>1</th>\n",
       "      <td>(中共)</td>\n",
       "      <td>(民進黨)</td>\n",
       "      <td>0.015686</td>\n",
       "      <td>0.094118</td>\n",
       "      <td>0.011765</td>\n",
       "      <td>0.75</td>\n",
       "      <td>7.968750</td>\n",
       "      <td>0.010288</td>\n",
       "      <td>3.623529</td>\n",
       "      <td>1</td>\n",
       "      <td>1</td>\n",
       "    </tr>\n",
       "    <tr>\n",
       "      <th>4</th>\n",
       "      <td>(吳敦義)</td>\n",
       "      <td>(國民黨)</td>\n",
       "      <td>0.011765</td>\n",
       "      <td>0.039216</td>\n",
       "      <td>0.011765</td>\n",
       "      <td>1.00</td>\n",
       "      <td>25.500000</td>\n",
       "      <td>0.011303</td>\n",
       "      <td>inf</td>\n",
       "      <td>1</td>\n",
       "      <td>1</td>\n",
       "    </tr>\n",
       "    <tr>\n",
       "      <th>6</th>\n",
       "      <td>(國政顧問團)</td>\n",
       "      <td>(張善政)</td>\n",
       "      <td>0.019608</td>\n",
       "      <td>0.054902</td>\n",
       "      <td>0.015686</td>\n",
       "      <td>0.80</td>\n",
       "      <td>14.571429</td>\n",
       "      <td>0.014610</td>\n",
       "      <td>4.725490</td>\n",
       "      <td>1</td>\n",
       "      <td>1</td>\n",
       "    </tr>\n",
       "    <tr>\n",
       "      <th>9</th>\n",
       "      <td>(朱立倫)</td>\n",
       "      <td>(國民黨)</td>\n",
       "      <td>0.011765</td>\n",
       "      <td>0.039216</td>\n",
       "      <td>0.011765</td>\n",
       "      <td>1.00</td>\n",
       "      <td>25.500000</td>\n",
       "      <td>0.011303</td>\n",
       "      <td>inf</td>\n",
       "      <td>1</td>\n",
       "      <td>1</td>\n",
       "    </tr>\n",
       "    <tr>\n",
       "      <th>11</th>\n",
       "      <td>(國民黨)</td>\n",
       "      <td>(韓國瑜)</td>\n",
       "      <td>0.039216</td>\n",
       "      <td>0.137255</td>\n",
       "      <td>0.023529</td>\n",
       "      <td>0.60</td>\n",
       "      <td>4.371429</td>\n",
       "      <td>0.018147</td>\n",
       "      <td>2.156863</td>\n",
       "      <td>1</td>\n",
       "      <td>1</td>\n",
       "    </tr>\n",
       "  </tbody>\n",
       "</table>\n",
       "</div>"
      ],
      "text/plain": [
       "   antecedents consequents  antecedent support  consequent support   support  \\\n",
       "1         (中共)       (民進黨)            0.015686            0.094118  0.011765   \n",
       "4        (吳敦義)       (國民黨)            0.011765            0.039216  0.011765   \n",
       "6      (國政顧問團)       (張善政)            0.019608            0.054902  0.015686   \n",
       "9        (朱立倫)       (國民黨)            0.011765            0.039216  0.011765   \n",
       "11       (國民黨)       (韓國瑜)            0.039216            0.137255  0.023529   \n",
       "\n",
       "    confidence       lift  leverage  conviction  antecedent_len  \\\n",
       "1         0.75   7.968750  0.010288    3.623529               1   \n",
       "4         1.00  25.500000  0.011303         inf               1   \n",
       "6         0.80  14.571429  0.014610    4.725490               1   \n",
       "9         1.00  25.500000  0.011303         inf               1   \n",
       "11        0.60   4.371429  0.018147    2.156863               1   \n",
       "\n",
       "    consequent_len  \n",
       "1                1  \n",
       "4                1  \n",
       "6                1  \n",
       "9                1  \n",
       "11               1  "
      ]
     },
     "execution_count": 856,
     "metadata": {},
     "output_type": "execute_result"
    }
   ],
   "source": [
    "result = association_rules_by_conf[ (association_rules_by_conf['antecedent_len'] >= 1) &\n",
    "                           (association_rules_by_conf['consequent_len'] >= 1) &\n",
    "                           (association_rules_by_conf['confidence'] > 0.5) &\n",
    "                           (association_rules_by_conf['lift'] > 1) ]\n",
    "result.head()"
   ]
  }
 ],
 "metadata": {
  "kernelspec": {
   "display_name": "Python 3",
   "language": "python",
   "name": "python3"
  },
  "language_info": {
   "codemirror_mode": {
    "name": "ipython",
    "version": 3
   },
   "file_extension": ".py",
   "mimetype": "text/x-python",
   "name": "python",
   "nbconvert_exporter": "python",
   "pygments_lexer": "ipython3",
   "version": "3.6.4"
  }
 },
 "nbformat": 4,
 "nbformat_minor": 2
}
